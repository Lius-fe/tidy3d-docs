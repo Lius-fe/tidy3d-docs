{
 "cells": [
  {
   "cell_type": "markdown",
   "id": "2132341c-55eb-4413-9439-f329bb7fe68b",
   "metadata": {},
   "source": [
    "# Data Plotting\n",
    "\n",
    "This notebook provides a tutorial for plotting the output of tidy3d simulations."
   ]
  },
  {
   "cell_type": "code",
   "execution_count": 1,
   "id": "88426f5d-e140-4bc8-813c-9ca33a7a1037",
   "metadata": {
    "tags": []
   },
   "outputs": [],
   "source": [
    "%matplotlib inline\n",
    "import matplotlib as mpl\n",
    "mpl.rcParams['figure.dpi']= 100\n",
    "\n",
    "import numpy as np\n",
    "import matplotlib.pylab as plt\n",
    "\n",
    "import sys\n",
    "sys.path.append('../')\n",
    "\n",
    "import tidy3d as td\n",
    "import tidy3d_core as tdcore"
   ]
  },
  {
   "cell_type": "markdown",
   "id": "f5b79e44-2587-4a2a-a08e-f3bf35fd4ffa",
   "metadata": {},
   "source": [
    "## Setup\n",
    "\n",
    "### Creating Simulation\n",
    "\n",
    "First, let's make a `td.Simulation` so we have data to plot."
   ]
  },
  {
   "cell_type": "code",
   "execution_count": 2,
   "id": "00a76d83-d195-415a-acb2-0bf9d5c82d29",
   "metadata": {
    "tags": []
   },
   "outputs": [],
   "source": [
    "# make samplers that define the freq and time domain measurement\n",
    "freqs = np.linspace(1e14, 4e14, 51)\n",
    "\n",
    "num_modes = 3\n",
    "\n",
    "simulation = td.Simulation(\n",
    "    size=(5.0, 5.0, 5.0),\n",
    "    grid_size=(0.1, 0.1, 0.1),\n",
    "    run_time = 1e-12,\n",
    "    pml_layers = [None, None, None],\n",
    "    structures = [\n",
    "        td.Structure(\n",
    "            geometry=td.Box(center=(-1,0,0), size=(.6,.6,.6)),\n",
    "            medium=td.Medium(permittivity=2)\n",
    "        ),\n",
    "        td.Structure(\n",
    "            geometry=td.Box(center=(1,0,0), size=(.6,.6,.6)),\n",
    "            medium=td.Medium(permittivity=2)\n",
    "        )        \n",
    "    ],\n",
    "    monitors={\n",
    "        \"field\": td.FieldMonitor(\n",
    "            fields=['Ex', 'Ey', 'Ez'],\n",
    "            size=(3,3,3),\n",
    "            center=(0,0,0),\n",
    "            freqs=freqs),\n",
    "        # \"field_time\": td.FieldTimeMonitor(\n",
    "        #     size=(3,3,3),\n",
    "        #     center=(0,0,0),\n",
    "        #     interval=10),\n",
    "        \"flux\": td.FluxMonitor(\n",
    "            size=(1,1,0),\n",
    "            center=(0,0,0),\n",
    "            freqs=freqs),\n",
    "        # \"flux_time\": td.FluxTimeMonitor(\n",
    "        #     size=(1,1,0),\n",
    "        #     center=(0,0,0),\n",
    "        #     interval=10),\n",
    "        \"mode\": td.ModeMonitor(\n",
    "            size=(1,1,0),\n",
    "            center=(0,0,0),\n",
    "            freqs=freqs,\n",
    "            modes=[td.Mode(mode_index=i) for i in range(num_modes)])\n",
    "    },\n",
    ")"
   ]
  },
  {
   "cell_type": "code",
   "execution_count": 3,
   "id": "bb7727e7-bef7-4595-98cd-a151cc66076a",
   "metadata": {
    "tags": []
   },
   "outputs": [
    {
     "data": {
      "text/html": [
       "<pre style=\"white-space:pre;overflow-x:auto;line-height:normal;font-family:Menlo,'DejaVu Sans Mono',consolas,'Courier New',monospace\"><span style=\"color: #7fbfbf; text-decoration-color: #7fbfbf\">[13:39:14] </span><span style=\"color: #000080; text-decoration-color: #000080\">INFO    </span> Creating task.                                              <a href=\"file:///Users/twhughes/Documents/Flexcompute/Tidy3D-client-revamp/notebooks/../tidy3d/web/webapi.py\"><span style=\"color: #7f7f7f; text-decoration-color: #7f7f7f\">webapi.py</span></a><span style=\"color: #7f7f7f; text-decoration-color: #7f7f7f\">:329</span>\n",
       "</pre>\n"
      ],
      "text/plain": [
       "\u001b[2;36m[13:39:14]\u001b[0m\u001b[2;36m \u001b[0m\u001b[34mINFO    \u001b[0m Creating task.                                              \u001b]8;id=151683;file:///Users/twhughes/Documents/Flexcompute/Tidy3D-client-revamp/notebooks/../tidy3d/web/webapi.py\u001b\\\u001b[2mwebapi.py\u001b[0m\u001b]8;;\u001b\\\u001b[2m:329\u001b[0m\n"
      ]
     },
     "metadata": {},
     "output_type": "display_data"
    },
    {
     "data": {
      "text/html": [
       "<pre style=\"white-space:pre;overflow-x:auto;line-height:normal;font-family:Menlo,'DejaVu Sans Mono',consolas,'Courier New',monospace\"><span style=\"color: #7fbfbf; text-decoration-color: #7fbfbf\">           </span><span style=\"color: #000080; text-decoration-color: #000080\">INFO    </span> Uploading the json file                                     <a href=\"file:///Users/twhughes/Documents/Flexcompute/Tidy3D-client-revamp/notebooks/../tidy3d/web/webapi.py\"><span style=\"color: #7f7f7f; text-decoration-color: #7f7f7f\">webapi.py</span></a><span style=\"color: #7f7f7f; text-decoration-color: #7f7f7f\">:338</span>\n",
       "</pre>\n"
      ],
      "text/plain": [
       "\u001b[2;36m          \u001b[0m\u001b[2;36m \u001b[0m\u001b[34mINFO    \u001b[0m Uploading the json file                                     \u001b]8;id=311519;file:///Users/twhughes/Documents/Flexcompute/Tidy3D-client-revamp/notebooks/../tidy3d/web/webapi.py\u001b\\\u001b[2mwebapi.py\u001b[0m\u001b]8;;\u001b\\\u001b[2m:338\u001b[0m\n"
      ]
     },
     "metadata": {},
     "output_type": "display_data"
    },
    {
     "data": {
      "application/vnd.jupyter.widget-view+json": {
       "model_id": "",
       "version_major": 2,
       "version_minor": 0
      },
      "text/plain": [
       "Output()"
      ]
     },
     "metadata": {},
     "output_type": "display_data"
    },
    {
     "data": {
      "text/html": [
       "<pre style=\"white-space:pre;overflow-x:auto;line-height:normal;font-family:Menlo,'DejaVu Sans Mono',consolas,'Courier New',monospace\"><span style=\"color: #7fbfbf; text-decoration-color: #7fbfbf\">[13:39:29] </span>status = preprocess                                                  <a href=\"file:///Users/twhughes/Documents/Flexcompute/Tidy3D-client-revamp/tidy3d/web/webapi.py\"><span style=\"color: #7f7f7f; text-decoration-color: #7f7f7f\">webapi.py</span></a><span style=\"color: #7f7f7f; text-decoration-color: #7f7f7f\">:158</span>\n",
       "</pre>\n"
      ],
      "text/plain": [
       "\u001b[2;36m[13:39:29]\u001b[0m\u001b[2;36m \u001b[0mstatus = preprocess                                                  \u001b]8;id=620467;file:///Users/twhughes/Documents/Flexcompute/Tidy3D-client-revamp/tidy3d/web/webapi.py\u001b\\\u001b[2mwebapi.py\u001b[0m\u001b]8;;\u001b\\\u001b[2m:158\u001b[0m\n"
      ]
     },
     "metadata": {},
     "output_type": "display_data"
    },
    {
     "data": {
      "text/html": [
       "<pre style=\"white-space:pre;overflow-x:auto;line-height:normal;font-family:Menlo,'DejaVu Sans Mono',consolas,'Courier New',monospace\"><span style=\"color: #7fbfbf; text-decoration-color: #7fbfbf\">[13:39:51] </span>status = running                                                     <a href=\"file:///Users/twhughes/Documents/Flexcompute/Tidy3D-client-revamp/tidy3d/web/webapi.py\"><span style=\"color: #7f7f7f; text-decoration-color: #7f7f7f\">webapi.py</span></a><span style=\"color: #7f7f7f; text-decoration-color: #7f7f7f\">:158</span>\n",
       "</pre>\n"
      ],
      "text/plain": [
       "\u001b[2;36m[13:39:51]\u001b[0m\u001b[2;36m \u001b[0mstatus = running                                                     \u001b]8;id=58125;file:///Users/twhughes/Documents/Flexcompute/Tidy3D-client-revamp/tidy3d/web/webapi.py\u001b\\\u001b[2mwebapi.py\u001b[0m\u001b]8;;\u001b\\\u001b[2m:158\u001b[0m\n"
      ]
     },
     "metadata": {},
     "output_type": "display_data"
    },
    {
     "data": {
      "text/html": [
       "<pre style=\"white-space:pre;overflow-x:auto;line-height:normal;font-family:Menlo,'DejaVu Sans Mono',consolas,'Courier New',monospace\"><span style=\"color: #7fbfbf; text-decoration-color: #7fbfbf\">[13:40:53] </span>status = postprocess                                                 <a href=\"file:///Users/twhughes/Documents/Flexcompute/Tidy3D-client-revamp/tidy3d/web/webapi.py\"><span style=\"color: #7f7f7f; text-decoration-color: #7f7f7f\">webapi.py</span></a><span style=\"color: #7f7f7f; text-decoration-color: #7f7f7f\">:158</span>\n",
       "</pre>\n"
      ],
      "text/plain": [
       "\u001b[2;36m[13:40:53]\u001b[0m\u001b[2;36m \u001b[0mstatus = postprocess                                                 \u001b]8;id=201855;file:///Users/twhughes/Documents/Flexcompute/Tidy3D-client-revamp/tidy3d/web/webapi.py\u001b\\\u001b[2mwebapi.py\u001b[0m\u001b]8;;\u001b\\\u001b[2m:158\u001b[0m\n"
      ]
     },
     "metadata": {},
     "output_type": "display_data"
    },
    {
     "data": {
      "text/html": [
       "<pre style=\"white-space:pre;overflow-x:auto;line-height:normal;font-family:Menlo,'DejaVu Sans Mono',consolas,'Courier New',monospace\"><span style=\"color: #7fbfbf; text-decoration-color: #7fbfbf\">[13:40:54] </span>status = visualize                                                   <a href=\"file:///Users/twhughes/Documents/Flexcompute/Tidy3D-client-revamp/tidy3d/web/webapi.py\"><span style=\"color: #7f7f7f; text-decoration-color: #7f7f7f\">webapi.py</span></a><span style=\"color: #7f7f7f; text-decoration-color: #7f7f7f\">:158</span>\n",
       "</pre>\n"
      ],
      "text/plain": [
       "\u001b[2;36m[13:40:54]\u001b[0m\u001b[2;36m \u001b[0mstatus = visualize                                                   \u001b]8;id=951454;file:///Users/twhughes/Documents/Flexcompute/Tidy3D-client-revamp/tidy3d/web/webapi.py\u001b\\\u001b[2mwebapi.py\u001b[0m\u001b]8;;\u001b\\\u001b[2m:158\u001b[0m\n"
      ]
     },
     "metadata": {},
     "output_type": "display_data"
    },
    {
     "data": {
      "text/html": [
       "<pre style=\"white-space:pre;overflow-x:auto;line-height:normal;font-family:Menlo,'DejaVu Sans Mono',consolas,'Courier New',monospace\"><span style=\"color: #7fbfbf; text-decoration-color: #7fbfbf\">[13:40:58] </span>status = success                                                     <a href=\"file:///Users/twhughes/Documents/Flexcompute/Tidy3D-client-revamp/tidy3d/web/webapi.py\"><span style=\"color: #7f7f7f; text-decoration-color: #7f7f7f\">webapi.py</span></a><span style=\"color: #7f7f7f; text-decoration-color: #7f7f7f\">:158</span>\n",
       "</pre>\n"
      ],
      "text/plain": [
       "\u001b[2;36m[13:40:58]\u001b[0m\u001b[2;36m \u001b[0mstatus = success                                                     \u001b]8;id=228790;file:///Users/twhughes/Documents/Flexcompute/Tidy3D-client-revamp/tidy3d/web/webapi.py\u001b\\\u001b[2mwebapi.py\u001b[0m\u001b]8;;\u001b\\\u001b[2m:158\u001b[0m\n"
      ]
     },
     "metadata": {},
     "output_type": "display_data"
    },
    {
     "data": {
      "text/html": [
       "<pre style=\"white-space:pre;overflow-x:auto;line-height:normal;font-family:Menlo,'DejaVu Sans Mono',consolas,'Courier New',monospace\"></pre>\n"
      ],
      "text/plain": []
     },
     "metadata": {},
     "output_type": "display_data"
    },
    {
     "data": {
      "text/html": [
       "<pre style=\"white-space:pre;overflow-x:auto;line-height:normal;font-family:Menlo,'DejaVu Sans Mono',consolas,'Courier New',monospace\"><span style=\"color: #7fbfbf; text-decoration-color: #7fbfbf\">[13:40:58] </span><span style=\"color: #000080; text-decoration-color: #000080\">INFO    </span> clearing existing files before downloading                  <a href=\"file:///Users/twhughes/Documents/Flexcompute/Tidy3D-client-revamp/notebooks/../tidy3d/web/webapi.py\"><span style=\"color: #7f7f7f; text-decoration-color: #7f7f7f\">webapi.py</span></a><span style=\"color: #7f7f7f; text-decoration-color: #7f7f7f\">:220</span>\n",
       "</pre>\n"
      ],
      "text/plain": [
       "\u001b[2;36m[13:40:58]\u001b[0m\u001b[2;36m \u001b[0m\u001b[34mINFO    \u001b[0m clearing existing files before downloading                  \u001b]8;id=521829;file:///Users/twhughes/Documents/Flexcompute/Tidy3D-client-revamp/notebooks/../tidy3d/web/webapi.py\u001b\\\u001b[2mwebapi.py\u001b[0m\u001b]8;;\u001b\\\u001b[2m:220\u001b[0m\n"
      ]
     },
     "metadata": {},
     "output_type": "display_data"
    },
    {
     "data": {
      "text/html": [
       "<pre style=\"white-space:pre;overflow-x:auto;line-height:normal;font-family:Menlo,'DejaVu Sans Mono',consolas,'Courier New',monospace\"><span style=\"color: #7fbfbf; text-decoration-color: #7fbfbf\">           </span><span style=\"color: #000080; text-decoration-color: #000080\">INFO    </span> removing file data/simulation.hdf5                          <a href=\"file:///Users/twhughes/Documents/Flexcompute/Tidy3D-client-revamp/notebooks/../tidy3d/web/webapi.py\"><span style=\"color: #7f7f7f; text-decoration-color: #7f7f7f\">webapi.py</span></a><span style=\"color: #7f7f7f; text-decoration-color: #7f7f7f\">:402</span>\n",
       "</pre>\n"
      ],
      "text/plain": [
       "\u001b[2;36m          \u001b[0m\u001b[2;36m \u001b[0m\u001b[34mINFO    \u001b[0m removing file data/simulation.hdf5                          \u001b]8;id=720342;file:///Users/twhughes/Documents/Flexcompute/Tidy3D-client-revamp/notebooks/../tidy3d/web/webapi.py\u001b\\\u001b[2mwebapi.py\u001b[0m\u001b]8;;\u001b\\\u001b[2m:402\u001b[0m\n"
      ]
     },
     "metadata": {},
     "output_type": "display_data"
    },
    {
     "data": {
      "text/html": [
       "<pre style=\"white-space:pre;overflow-x:auto;line-height:normal;font-family:Menlo,'DejaVu Sans Mono',consolas,'Courier New',monospace\"><span style=\"color: #7fbfbf; text-decoration-color: #7fbfbf\">           </span><span style=\"color: #000080; text-decoration-color: #000080\">INFO    </span> downloading file <span style=\"color: #008000; text-decoration-color: #008000\">\"simulation.json\"</span> to                       <a href=\"file:///Users/twhughes/Documents/Flexcompute/Tidy3D-client-revamp/notebooks/../tidy3d/web/webapi.py\"><span style=\"color: #7f7f7f; text-decoration-color: #7f7f7f\">webapi.py</span></a><span style=\"color: #7f7f7f; text-decoration-color: #7f7f7f\">:371</span>\n",
       "                    <span style=\"color: #008000; text-decoration-color: #008000\">\"data/simulation.json\"</span>                                                   \n",
       "</pre>\n"
      ],
      "text/plain": [
       "\u001b[2;36m          \u001b[0m\u001b[2;36m \u001b[0m\u001b[34mINFO    \u001b[0m downloading file \u001b[32m\"simulation.json\"\u001b[0m to                       \u001b]8;id=684372;file:///Users/twhughes/Documents/Flexcompute/Tidy3D-client-revamp/notebooks/../tidy3d/web/webapi.py\u001b\\\u001b[2mwebapi.py\u001b[0m\u001b]8;;\u001b\\\u001b[2m:371\u001b[0m\n",
       "                    \u001b[32m\"data/simulation.json\"\u001b[0m                                                   \n"
      ]
     },
     "metadata": {},
     "output_type": "display_data"
    },
    {
     "data": {
      "application/vnd.jupyter.widget-view+json": {
       "model_id": "759db541afaa4a829629c942e3e0b78a",
       "version_major": 2,
       "version_minor": 0
      },
      "text/plain": [
       "Output()"
      ]
     },
     "metadata": {},
     "output_type": "display_data"
    },
    {
     "data": {
      "text/html": [
       "<pre style=\"white-space:pre;overflow-x:auto;line-height:normal;font-family:Menlo,'DejaVu Sans Mono',consolas,'Courier New',monospace\"><span style=\"color: #7fbfbf; text-decoration-color: #7fbfbf\">[13:40:59] </span><span style=\"color: #000080; text-decoration-color: #000080\">INFO    </span> downloading file <span style=\"color: #008000; text-decoration-color: #008000\">\"monitor_data.hdf5\"</span> to                     <a href=\"file:///Users/twhughes/Documents/Flexcompute/Tidy3D-client-revamp/notebooks/../tidy3d/web/webapi.py\"><span style=\"color: #7f7f7f; text-decoration-color: #7f7f7f\">webapi.py</span></a><span style=\"color: #7f7f7f; text-decoration-color: #7f7f7f\">:371</span>\n",
       "                    <span style=\"color: #008000; text-decoration-color: #008000\">\"data/monitor_data.hdf5\"</span>                                                 \n",
       "</pre>\n"
      ],
      "text/plain": [
       "\u001b[2;36m[13:40:59]\u001b[0m\u001b[2;36m \u001b[0m\u001b[34mINFO    \u001b[0m downloading file \u001b[32m\"monitor_data.hdf5\"\u001b[0m to                     \u001b]8;id=66869;file:///Users/twhughes/Documents/Flexcompute/Tidy3D-client-revamp/notebooks/../tidy3d/web/webapi.py\u001b\\\u001b[2mwebapi.py\u001b[0m\u001b]8;;\u001b\\\u001b[2m:371\u001b[0m\n",
       "                    \u001b[32m\"data/monitor_data.hdf5\"\u001b[0m                                                 \n"
      ]
     },
     "metadata": {},
     "output_type": "display_data"
    },
    {
     "data": {
      "application/vnd.jupyter.widget-view+json": {
       "model_id": "ff1a129a8a6c47c5a486e0a074d84a1d",
       "version_major": 2,
       "version_minor": 0
      },
      "text/plain": [
       "Output()"
      ]
     },
     "metadata": {},
     "output_type": "display_data"
    },
    {
     "data": {
      "text/html": [
       "<pre style=\"white-space:pre;overflow-x:auto;line-height:normal;font-family:Menlo,'DejaVu Sans Mono',consolas,'Courier New',monospace\"><span style=\"color: #7fbfbf; text-decoration-color: #7fbfbf\">[13:41:05] </span><span style=\"color: #000080; text-decoration-color: #000080\">INFO    </span> getting log string                                          <a href=\"file:///Users/twhughes/Documents/Flexcompute/Tidy3D-client-revamp/notebooks/../tidy3d/web/webapi.py\"><span style=\"color: #7f7f7f; text-decoration-color: #7f7f7f\">webapi.py</span></a><span style=\"color: #7f7f7f; text-decoration-color: #7f7f7f\">:229</span>\n",
       "</pre>\n"
      ],
      "text/plain": [
       "\u001b[2;36m[13:41:05]\u001b[0m\u001b[2;36m \u001b[0m\u001b[34mINFO    \u001b[0m getting log string                                          \u001b]8;id=187242;file:///Users/twhughes/Documents/Flexcompute/Tidy3D-client-revamp/notebooks/../tidy3d/web/webapi.py\u001b\\\u001b[2mwebapi.py\u001b[0m\u001b]8;;\u001b\\\u001b[2m:229\u001b[0m\n"
      ]
     },
     "metadata": {},
     "output_type": "display_data"
    },
    {
     "data": {
      "text/html": [
       "<pre style=\"white-space:pre;overflow-x:auto;line-height:normal;font-family:Menlo,'DejaVu Sans Mono',consolas,'Courier New',monospace\"><span style=\"color: #7fbfbf; text-decoration-color: #7fbfbf\">           </span><span style=\"color: #000080; text-decoration-color: #000080\">INFO    </span> downloading file <span style=\"color: #008000; text-decoration-color: #008000\">\"tidy3d.log\"</span> to <span style=\"color: #008000; text-decoration-color: #008000\">\"data/tidy3d.log\"</span>          <a href=\"file:///Users/twhughes/Documents/Flexcompute/Tidy3D-client-revamp/notebooks/../tidy3d/web/webapi.py\"><span style=\"color: #7f7f7f; text-decoration-color: #7f7f7f\">webapi.py</span></a><span style=\"color: #7f7f7f; text-decoration-color: #7f7f7f\">:371</span>\n",
       "</pre>\n"
      ],
      "text/plain": [
       "\u001b[2;36m          \u001b[0m\u001b[2;36m \u001b[0m\u001b[34mINFO    \u001b[0m downloading file \u001b[32m\"tidy3d.log\"\u001b[0m to \u001b[32m\"data/tidy3d.log\"\u001b[0m          \u001b]8;id=248424;file:///Users/twhughes/Documents/Flexcompute/Tidy3D-client-revamp/notebooks/../tidy3d/web/webapi.py\u001b\\\u001b[2mwebapi.py\u001b[0m\u001b]8;;\u001b\\\u001b[2m:371\u001b[0m\n"
      ]
     },
     "metadata": {},
     "output_type": "display_data"
    },
    {
     "data": {
      "application/vnd.jupyter.widget-view+json": {
       "model_id": "f250a0d159d14b9cb63158633063d5d8",
       "version_major": 2,
       "version_minor": 0
      },
      "text/plain": [
       "Output()"
      ]
     },
     "metadata": {},
     "output_type": "display_data"
    },
    {
     "data": {
      "text/html": [
       "<pre style=\"white-space:pre;overflow-x:auto;line-height:normal;font-family:Menlo,'DejaVu Sans Mono',consolas,'Courier New',monospace\"><span style=\"color: #7fbfbf; text-decoration-color: #7fbfbf\">[13:41:06] </span><span style=\"color: #000080; text-decoration-color: #000080\">INFO    </span> loading old monitor data to data dict                       <a href=\"file:///Users/twhughes/Documents/Flexcompute/Tidy3D-client-revamp/notebooks/../tidy3d/web/webapi.py\"><span style=\"color: #7f7f7f; text-decoration-color: #7f7f7f\">webapi.py</span></a><span style=\"color: #7f7f7f; text-decoration-color: #7f7f7f\">:234</span>\n",
       "</pre>\n"
      ],
      "text/plain": [
       "\u001b[2;36m[13:41:06]\u001b[0m\u001b[2;36m \u001b[0m\u001b[34mINFO    \u001b[0m loading old monitor data to data dict                       \u001b]8;id=356771;file:///Users/twhughes/Documents/Flexcompute/Tidy3D-client-revamp/notebooks/../tidy3d/web/webapi.py\u001b\\\u001b[2mwebapi.py\u001b[0m\u001b]8;;\u001b\\\u001b[2m:234\u001b[0m\n"
      ]
     },
     "metadata": {},
     "output_type": "display_data"
    },
    {
     "data": {
      "text/html": [
       "<pre style=\"white-space:pre;overflow-x:auto;line-height:normal;font-family:Menlo,'DejaVu Sans Mono',consolas,'Courier New',monospace\"><span style=\"color: #7fbfbf; text-decoration-color: #7fbfbf\">           </span><span style=\"color: #000080; text-decoration-color: #000080\">INFO    </span> creating SimulationData from monitor data dict              <a href=\"file:///Users/twhughes/Documents/Flexcompute/Tidy3D-client-revamp/notebooks/../tidy3d/web/webapi.py\"><span style=\"color: #7f7f7f; text-decoration-color: #7f7f7f\">webapi.py</span></a><span style=\"color: #7f7f7f; text-decoration-color: #7f7f7f\">:239</span>\n",
       "</pre>\n"
      ],
      "text/plain": [
       "\u001b[2;36m          \u001b[0m\u001b[2;36m \u001b[0m\u001b[34mINFO    \u001b[0m creating SimulationData from monitor data dict              \u001b]8;id=54254;file:///Users/twhughes/Documents/Flexcompute/Tidy3D-client-revamp/notebooks/../tidy3d/web/webapi.py\u001b\\\u001b[2mwebapi.py\u001b[0m\u001b]8;;\u001b\\\u001b[2m:239\u001b[0m\n"
      ]
     },
     "metadata": {},
     "output_type": "display_data"
    },
    {
     "data": {
      "text/html": [
       "<pre style=\"white-space:pre;overflow-x:auto;line-height:normal;font-family:Menlo,'DejaVu Sans Mono',consolas,'Courier New',monospace\"><span style=\"color: #7fbfbf; text-decoration-color: #7fbfbf\">           </span><span style=\"color: #000080; text-decoration-color: #000080\">INFO    </span> exporting SimulationData to data/simulation.hdf5            <a href=\"file:///Users/twhughes/Documents/Flexcompute/Tidy3D-client-revamp/notebooks/../tidy3d/web/webapi.py\"><span style=\"color: #7f7f7f; text-decoration-color: #7f7f7f\">webapi.py</span></a><span style=\"color: #7f7f7f; text-decoration-color: #7f7f7f\">:246</span>\n",
       "</pre>\n"
      ],
      "text/plain": [
       "\u001b[2;36m          \u001b[0m\u001b[2;36m \u001b[0m\u001b[34mINFO    \u001b[0m exporting SimulationData to data/simulation.hdf5            \u001b]8;id=162480;file:///Users/twhughes/Documents/Flexcompute/Tidy3D-client-revamp/notebooks/../tidy3d/web/webapi.py\u001b\\\u001b[2mwebapi.py\u001b[0m\u001b]8;;\u001b\\\u001b[2m:246\u001b[0m\n"
      ]
     },
     "metadata": {},
     "output_type": "display_data"
    },
    {
     "data": {
      "text/html": [
       "<pre style=\"white-space:pre;overflow-x:auto;line-height:normal;font-family:Menlo,'DejaVu Sans Mono',consolas,'Courier New',monospace\"><span style=\"color: #7fbfbf; text-decoration-color: #7fbfbf\">           </span><span style=\"color: #000080; text-decoration-color: #000080\">INFO    </span> clearing extraneous files                                   <a href=\"file:///Users/twhughes/Documents/Flexcompute/Tidy3D-client-revamp/notebooks/../tidy3d/web/webapi.py\"><span style=\"color: #7f7f7f; text-decoration-color: #7f7f7f\">webapi.py</span></a><span style=\"color: #7f7f7f; text-decoration-color: #7f7f7f\">:249</span>\n",
       "</pre>\n"
      ],
      "text/plain": [
       "\u001b[2;36m          \u001b[0m\u001b[2;36m \u001b[0m\u001b[34mINFO    \u001b[0m clearing extraneous files                                   \u001b]8;id=56962;file:///Users/twhughes/Documents/Flexcompute/Tidy3D-client-revamp/notebooks/../tidy3d/web/webapi.py\u001b\\\u001b[2mwebapi.py\u001b[0m\u001b]8;;\u001b\\\u001b[2m:249\u001b[0m\n"
      ]
     },
     "metadata": {},
     "output_type": "display_data"
    },
    {
     "data": {
      "text/html": [
       "<pre style=\"white-space:pre;overflow-x:auto;line-height:normal;font-family:Menlo,'DejaVu Sans Mono',consolas,'Courier New',monospace\"><span style=\"color: #7fbfbf; text-decoration-color: #7fbfbf\">           </span><span style=\"color: #000080; text-decoration-color: #000080\">INFO    </span> removing file data/simulation.json                          <a href=\"file:///Users/twhughes/Documents/Flexcompute/Tidy3D-client-revamp/notebooks/../tidy3d/web/webapi.py\"><span style=\"color: #7f7f7f; text-decoration-color: #7f7f7f\">webapi.py</span></a><span style=\"color: #7f7f7f; text-decoration-color: #7f7f7f\">:402</span>\n",
       "</pre>\n"
      ],
      "text/plain": [
       "\u001b[2;36m          \u001b[0m\u001b[2;36m \u001b[0m\u001b[34mINFO    \u001b[0m removing file data/simulation.json                          \u001b]8;id=290795;file:///Users/twhughes/Documents/Flexcompute/Tidy3D-client-revamp/notebooks/../tidy3d/web/webapi.py\u001b\\\u001b[2mwebapi.py\u001b[0m\u001b]8;;\u001b\\\u001b[2m:402\u001b[0m\n"
      ]
     },
     "metadata": {},
     "output_type": "display_data"
    },
    {
     "data": {
      "text/html": [
       "<pre style=\"white-space:pre;overflow-x:auto;line-height:normal;font-family:Menlo,'DejaVu Sans Mono',consolas,'Courier New',monospace\"><span style=\"color: #7fbfbf; text-decoration-color: #7fbfbf\">           </span><span style=\"color: #000080; text-decoration-color: #000080\">INFO    </span> removing file data/monitor_data.hdf5                        <a href=\"file:///Users/twhughes/Documents/Flexcompute/Tidy3D-client-revamp/notebooks/../tidy3d/web/webapi.py\"><span style=\"color: #7f7f7f; text-decoration-color: #7f7f7f\">webapi.py</span></a><span style=\"color: #7f7f7f; text-decoration-color: #7f7f7f\">:402</span>\n",
       "</pre>\n"
      ],
      "text/plain": [
       "\u001b[2;36m          \u001b[0m\u001b[2;36m \u001b[0m\u001b[34mINFO    \u001b[0m removing file data/monitor_data.hdf5                        \u001b]8;id=211668;file:///Users/twhughes/Documents/Flexcompute/Tidy3D-client-revamp/notebooks/../tidy3d/web/webapi.py\u001b\\\u001b[2mwebapi.py\u001b[0m\u001b]8;;\u001b\\\u001b[2m:402\u001b[0m\n"
      ]
     },
     "metadata": {},
     "output_type": "display_data"
    },
    {
     "data": {
      "text/html": [
       "<pre style=\"white-space:pre;overflow-x:auto;line-height:normal;font-family:Menlo,'DejaVu Sans Mono',consolas,'Courier New',monospace\"><span style=\"color: #7fbfbf; text-decoration-color: #7fbfbf\">           </span><span style=\"color: #000080; text-decoration-color: #000080\">INFO    </span> removing file data/tidy3d.log                               <a href=\"file:///Users/twhughes/Documents/Flexcompute/Tidy3D-client-revamp/notebooks/../tidy3d/web/webapi.py\"><span style=\"color: #7f7f7f; text-decoration-color: #7f7f7f\">webapi.py</span></a><span style=\"color: #7f7f7f; text-decoration-color: #7f7f7f\">:402</span>\n",
       "</pre>\n"
      ],
      "text/plain": [
       "\u001b[2;36m          \u001b[0m\u001b[2;36m \u001b[0m\u001b[34mINFO    \u001b[0m removing file data/tidy3d.log                               \u001b]8;id=954941;file:///Users/twhughes/Documents/Flexcompute/Tidy3D-client-revamp/notebooks/../tidy3d/web/webapi.py\u001b\\\u001b[2mwebapi.py\u001b[0m\u001b]8;;\u001b\\\u001b[2m:402\u001b[0m\n"
      ]
     },
     "metadata": {},
     "output_type": "display_data"
    },
    {
     "data": {
      "text/html": [
       "<pre style=\"white-space:pre;overflow-x:auto;line-height:normal;font-family:Menlo,'DejaVu Sans Mono',consolas,'Courier New',monospace\"><span style=\"color: #7fbfbf; text-decoration-color: #7fbfbf\">           </span><span style=\"color: #000080; text-decoration-color: #000080\">INFO    </span> loading SimulationData from data/simulation.hdf5            <a href=\"file:///Users/twhughes/Documents/Flexcompute/Tidy3D-client-revamp/notebooks/../tidy3d/web/webapi.py\"><span style=\"color: #7f7f7f; text-decoration-color: #7f7f7f\">webapi.py</span></a><span style=\"color: #7f7f7f; text-decoration-color: #7f7f7f\">:280</span>\n",
       "</pre>\n"
      ],
      "text/plain": [
       "\u001b[2;36m          \u001b[0m\u001b[2;36m \u001b[0m\u001b[34mINFO    \u001b[0m loading SimulationData from data/simulation.hdf5            \u001b]8;id=386126;file:///Users/twhughes/Documents/Flexcompute/Tidy3D-client-revamp/notebooks/../tidy3d/web/webapi.py\u001b\\\u001b[2mwebapi.py\u001b[0m\u001b]8;;\u001b\\\u001b[2m:280\u001b[0m\n"
      ]
     },
     "metadata": {},
     "output_type": "display_data"
    }
   ],
   "source": [
    "import tidy3d.web as web\n",
    "sim_data = web.run(simulation, task_name='viz_data', path='data/simulation.hdf5')"
   ]
  },
  {
   "cell_type": "markdown",
   "id": "cf8f6dee-d14f-45d0-af3c-fb3f97e6b785",
   "metadata": {},
   "source": [
    "## Plotting\n",
    "\n",
    "Here we show how to plot data from each monitor\n",
    "\n",
    "### Flux Data\n",
    "\n",
    "`td.FluxData` and `td.FluxTimeData` is the simplest because it just stores the electromagnetic power flux through a surface as a function of the frequency and time, respectively.\n",
    "\n",
    "First, we access the `td.MonitorData` through the dictionary `sim_data.monitor_data`."
   ]
  },
  {
   "cell_type": "code",
   "execution_count": 4,
   "id": "c99e8cd0-df7a-4cb5-be52-5c7523ffbfa1",
   "metadata": {
    "tags": []
   },
   "outputs": [],
   "source": [
    "# get the flux data from that monitor name\n",
    "flux_data = sim_data['flux']\n",
    "# flux_time_data = sim_data['flux_time']"
   ]
  },
  {
   "cell_type": "markdown",
   "id": "10cc1c33-cd39-469a-bad2-653110f7d734",
   "metadata": {},
   "source": [
    "and we can plot the values using the `td.MonitorData.plot()` method."
   ]
  },
  {
   "cell_type": "code",
   "execution_count": 6,
   "id": "69c2536e-2127-45fd-88f7-76dbb754ecfc",
   "metadata": {
    "tags": []
   },
   "outputs": [
    {
     "data": {
      "image/png": "[encoded data removed]"
     },
     "metadata": {
      "needs_background": "light"
     },
     "output_type": "display_data"
    }
   ],
   "source": [
    "f, (ax1, ax2) = plt.subplots(1, 2, tight_layout=True, figsize=(8,3))\n",
    "flux_data.real.plot(ax=ax1)\n",
    "# flux_time_data.plot(ax=ax2)\n",
    "\n",
    "plt.show()"
   ]
  },
  {
   "cell_type": "markdown",
   "id": "e0f17049-93f7-4d08-8b64-e8fd7d4ff31c",
   "metadata": {},
   "source": [
    "## Plotting Mode Data\n",
    "\n",
    "The axes of mode data correspond to direction (+/-), mode_index, and sampler axes. \n",
    "\n",
    "To pot all of this data, we make two subplots and use the builting `.sel()` function to select the data to plot in each axis."
   ]
  },
  {
   "cell_type": "code",
   "execution_count": 7,
   "id": "287282bf-371c-42f8-80ff-96e10017cf9c",
   "metadata": {
    "tags": []
   },
   "outputs": [
    {
     "data": {
      "image/png": "[encoded data removed]"
     },
     "metadata": {
      "needs_background": "light"
     },
     "output_type": "display_data"
    }
   ],
   "source": [
    "# tip: you can also get the monitor data directly by indexing it's name in `SimulationData`\n",
    "mode_data = sim_data['mode']\n",
    "\n",
    "f, (ax1, ax2) = plt.subplots(1, 2, tight_layout=True, figsize=(8, 3))\n",
    "\n",
    "mode_data.sel(direction='+').real.plot.line(x='f', ax=ax1)\n",
    "mode_data.sel(direction='-').real.plot.line(x='f', ax=ax2)\n",
    "plt.show()\n"
   ]
  },
  {
   "cell_type": "markdown",
   "id": "05147a55-79d1-470f-a71c-14150e2add94",
   "metadata": {},
   "source": [
    "### Plotting Fields\n",
    "\n",
    "Let's grab the field data and plot."
   ]
  },
  {
   "cell_type": "code",
   "execution_count": 8,
   "id": "2b9cc40c-ed49-4d08-8066-f81367de92e9",
   "metadata": {
    "tags": []
   },
   "outputs": [],
   "source": [
    "field_data = sim_data['field']"
   ]
  },
  {
   "cell_type": "markdown",
   "id": "2e489398-ccd0-4ce7-a123-0c26ad2dad91",
   "metadata": {
    "tags": []
   },
   "source": [
    "#### Electromagnetic Fields"
   ]
  },
  {
   "cell_type": "code",
   "execution_count": 9,
   "id": "c288cf8c-2694-48cd-ac6b-8b8f0d71ede2",
   "metadata": {
    "tags": []
   },
   "outputs": [],
   "source": [
    "# get the field data on the z=1.0 plane at frequency f=7.5\n",
    "field_data = sim_data['field']\n",
    "field_plane = field_data.interp(f=7.5, z=1.0)"
   ]
  },
  {
   "cell_type": "markdown",
   "id": "b2d7a3a9-55b8-44cb-97ab-96922146a368",
   "metadata": {},
   "source": [
    "##### Amplitude Plots"
   ]
  },
  {
   "cell_type": "code",
   "execution_count": 10,
   "id": "86acc480-5869-49f6-b1b6-b83c36d6a18c",
   "metadata": {
    "tags": []
   },
   "outputs": [
    {
     "data": {
      "image/png": "[encoded data removed]"
     },
     "metadata": {
      "needs_background": "light"
     },
     "output_type": "display_data"
    }
   ],
   "source": [
    "# amplitude plot of Ex(x,y) field on plane\n",
    "field_plane.Ex.real.plot()\n",
    "plt.show()"
   ]
  },
  {
   "cell_type": "markdown",
   "id": "217b95b8-fb3e-4225-83c0-f496fce2dd35",
   "metadata": {},
   "source": [
    "##### Quiver Plots"
   ]
  },
  {
   "cell_type": "code",
   "execution_count": 11,
   "id": "4c2eb49e-0209-4139-a23e-08a214ac6b05",
   "metadata": {
    "tags": []
   },
   "outputs": [
    {
     "name": "stderr",
     "output_type": "stream",
     "text": [
      "/usr/local/lib/python3.9/site-packages/matplotlib/quiver.py:661: RuntimeWarning: Mean of empty slice.\n",
      "  amean = a[~self.Umask].mean()\n",
      "/usr/local/lib/python3.9/site-packages/numpy/core/_methods.py:189: RuntimeWarning: invalid value encountered in double_scalars\n",
      "  ret = ret.dtype.type(ret / rcount)\n"
     ]
    },
    {
     "data": {
      "image/png": "[encoded data removed]"
     },
     "metadata": {
      "needs_background": "light"
     },
     "output_type": "display_data"
    }
   ],
   "source": [
    "# quiver plot of E_{x,y}(x,y) on plane with Ez(x,y) underlying.\n",
    "f, ax = plt.subplots()\n",
    "field_plane.Ez.real.plot(ax=ax)\n",
    "field_plane.real.plot.quiver('x', 'y', 'Ex', 'Ey', ax=ax)\n",
    "plt.show()"
   ]
  },
  {
   "cell_type": "markdown",
   "id": "613bf820-f324-4af8-b047-766da7d0ce3a",
   "metadata": {},
   "source": [
    "##### Structure Overlay\n",
    "One can overlay the structure permittivity by calling `plot_fields` from the `td.SimulationData` object as follows:"
   ]
  },
  {
   "cell_type": "code",
   "execution_count": 12,
   "id": "4ef5c1d4-4e9a-4c31-9bb8-a50d22aaa054",
   "metadata": {
    "tags": []
   },
   "outputs": [
    {
     "data": {
      "image/png": "[encoded data removed]"
     },
     "metadata": {
      "needs_background": "light"
     },
     "output_type": "display_data"
    }
   ],
   "source": [
    "_, ax = plt.subplots(1,1)\n",
    "sim_data.simulation.plot_structures_eps(z=0.0, ax=ax, alpha=.5, cbar=False, lw=0)\n",
    "field_plane.Ey.real.plot(ax=ax)\n",
    "plt.show()"
   ]
  },
  {
   "cell_type": "code",
   "execution_count": 16,
   "id": "cb1b4760-32c8-4709-82e5-6cc895a297a3",
   "metadata": {},
   "outputs": [
    {
     "data": {
      "image/png": "[encoded data removed]"
     },
     "metadata": {
      "needs_background": "light"
     },
     "output_type": "display_data"
    }
   ],
   "source": [
    "_, ax = plt.subplots(1,1)\n",
    "# sim_data.plot_fields('field_plane')\n",
    "field_plane.Ey.real.plot(ax=ax)\n",
    "plt.show()"
   ]
  },
  {
   "cell_type": "markdown",
   "id": "6da3d90d-5dff-450c-b7e7-4c9c090fae9e",
   "metadata": {
    "tags": []
   },
   "source": [
    "#### Permittivity\n",
    "\n",
    "If we've stored permittivity by specifing `eps_xx`, `eps_yy` or `eps_zz` in the `FieldMonitor`'s `fields`, we can access them and plot as follows."
   ]
  },
  {
   "cell_type": "code",
   "execution_count": 17,
   "id": "689a4682-112a-4a71-8c5b-42aae55f560f",
   "metadata": {
    "tags": []
   },
   "outputs": [],
   "source": [
    "# eps_xx = field_data.eps_xx\n",
    "# xx_component_plane = eps_xx.interp(z=1.0, f=7.5)\n",
    "# xx_component_plane.real.plot(cmap='gist_yarg')\n",
    "# plt.show()"
   ]
  },
  {
   "cell_type": "markdown",
   "id": "01c91772-5051-4c63-b29c-b68d4c29670c",
   "metadata": {},
   "source": [
    "## Tricks and Tips"
   ]
  },
  {
   "cell_type": "markdown",
   "id": "808dd0fe-34a5-4f1a-8111-1e499d172973",
   "metadata": {},
   "source": [
    "The `td.MonitorData` objects can be found by indexing `td.SimulationData` directly."
   ]
  },
  {
   "cell_type": "code",
   "execution_count": 18,
   "id": "5737dd16-c088-4ffc-ba46-14ce503b4374",
   "metadata": {
    "tags": []
   },
   "outputs": [],
   "source": [
    "assert np.all(sim_data.monitor_data['mode'].data == sim_data['mode'])"
   ]
  },
  {
   "cell_type": "markdown",
   "id": "debde698-72ff-4515-b865-8c02829243fb",
   "metadata": {},
   "source": [
    "Keyword arguments are passed to the correponding `.plot()` calls internally, so you can customize the plots."
   ]
  },
  {
   "cell_type": "code",
   "execution_count": 19,
   "id": "60b26e19-bf90-4234-af4d-5247b3844647",
   "metadata": {
    "tags": []
   },
   "outputs": [
    {
     "data": {
      "image/png": "[encoded data removed]"
     },
     "metadata": {
      "needs_background": "light"
     },
     "output_type": "display_data"
    }
   ],
   "source": [
    "sim_data['flux'].plot(color='brown', linestyle='-.', label='custom line')\n",
    "plt.legend()\n",
    "plt.title('custom plot')\n",
    "plt.show()"
   ]
  },
  {
   "cell_type": "code",
   "execution_count": null,
   "id": "c75a6998-7c32-40db-bb96-7ce663a5da66",
   "metadata": {},
   "outputs": [],
   "source": []
  },
  {
   "cell_type": "code",
   "execution_count": null,
   "id": "0a07822e-e811-438c-ae56-1c8c0eea5275",
   "metadata": {},
   "outputs": [],
   "source": []
  },
  {
   "cell_type": "code",
   "execution_count": null,
   "id": "e065d36a-bc86-4ef7-8c42-ce68f0a84ac9",
   "metadata": {},
   "outputs": [],
   "source": []
  }
 ],
 "metadata": {
  "kernelspec": {
   "display_name": "Python 3 (ipykernel)",
   "language": "python",
   "name": "python3"
  },
  "language_info": {
   "codemirror_mode": {
    "name": "ipython",
    "version": 3
   },
   "file_extension": ".py",
   "mimetype": "text/x-python",
   "name": "python",
   "nbconvert_exporter": "python",
   "pygments_lexer": "ipython3",
   "version": "3.9.7"
  }
 },
 "nbformat": 4,
 "nbformat_minor": 5
}
