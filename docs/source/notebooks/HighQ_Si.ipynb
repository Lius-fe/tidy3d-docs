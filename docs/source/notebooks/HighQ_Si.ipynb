{
 "cells": [
  {
   "cell_type": "markdown",
   "metadata": {},
   "source": [
    "# Resonator benchmark (COMSOL)\n",
    "\n",
    "Run this notebook in your browser using [Binder](https://mybinder.org/v2/gh/flexcompute-readthedocs/tidy3d-docs/readthedocs?labpath=docs%2Fsource%2Fnotebooks%2FHighQ_Si.ipynb).\n",
    "\n",
    "In this example, we reproduce the findings of Zhang et al. (2018), which is linked [here](https://www.osapublishing.org/ol/abstract.cfm?uri=ol-43-8-1842).\n",
    "\n",
    "This notebook was originally developed and written by Romil Audhkhasi (USC). \n",
    "\n",
    "The paper investigates the resonances of silicon structures by measuring their transmission spectrum under varying geometric parameters.\n",
    "\n",
    "The paper uses a finite element solver (COMSOL), which matches the result from Tidy3D.\n",
    "\n",
    "<img src=\"img/Si_struct.png\" alt=\"diagram\" width=\"500\"/>\n",
    "\n",
    "(Citation: Opt. Lett. 43, 1842-1845 (2018).  With permission from the Optical Society)\n",
    "\n",
    "To do this calculation, we use a broadband pulse and frequency monitor to measure the flux on the opposite side of the structure."
   ]
  },
  {
   "cell_type": "code",
   "execution_count": 1,
   "metadata": {
    "tags": []
   },
   "outputs": [
    {
     "name": "stdout",
     "output_type": "stream",
     "text": [
      "Using Tidy3D credentials from stored file\n"
     ]
    }
   ],
   "source": [
    "# standard python imports\n",
    "import numpy as np\n",
    "import matplotlib.pyplot as plt\n",
    "\n",
    "# tidy3D import\n",
    "import tidy3d as td\n",
    "from tidy3d import web"
   ]
  },
  {
   "cell_type": "markdown",
   "metadata": {},
   "source": [
    "## Set Up Simulation"
   ]
  },
  {
   "cell_type": "code",
   "execution_count": 2,
   "metadata": {
    "tags": []
   },
   "outputs": [],
   "source": [
    "nm = 1e-3\n",
    "\n",
    "# define the frequencies we want to measure\n",
    "Nfreq = 1000\n",
    "wavelengths = nm * np.linspace(1050, 1400, Nfreq)\n",
    "freqs = td.constants.C_0 / wavelengths\n",
    "\n",
    "# define the frequency center and width of our pulse\n",
    "freq0 = freqs[len(freqs)//2]\n",
    "freqw = freqs[0] - freqs[-1]\n",
    "\n",
    "# Define material properties\n",
    "n_SiO2 = 1.46\n",
    "n_Si = 3.52\n",
    "SiO2 = td.Medium(permittivity=n_SiO2**2)\n",
    "Si = td.Medium(permittivity=n_Si**2)"
   ]
  },
  {
   "cell_type": "code",
   "execution_count": 3,
   "metadata": {
    "tags": []
   },
   "outputs": [],
   "source": [
    "# space between resonators and source\n",
    "spc = 1.5\n",
    "\n",
    "# geometric parameters\n",
    "Px = Py = P = 650 * nm  # periodicity in x and y\n",
    "t = 260 * nm            # thickness of silcon\n",
    "g = 80 * nm             # gap size\n",
    "L = 480 * nm            # length in x\n",
    "w_sum = 400 * nm        # sum of lengths in y\n",
    "\n",
    "# resolution (should be commensurate with periodicity)\n",
    "dl = P / 32\n",
    "dz = 20 * nm\n",
    "\n",
    "# computes widths in y (w1 and w2) given the difference in lengths in y and the sum of lengths\n",
    "def calc_ws(delta):\n",
    "    \"\"\" delta is a tunable parameter used to break symmetry.\n",
    "        w_sum = w1 + w2\n",
    "        delta = w1 - w2\n",
    "        w_sum + delta = 2 * w1\n",
    "    \"\"\"\n",
    "    w1 = (w_sum + delta) / 2\n",
    "    w2 = w_sum - w1\n",
    "    return w1, w2"
   ]
  },
  {
   "cell_type": "code",
   "execution_count": 4,
   "metadata": {
    "tags": []
   },
   "outputs": [],
   "source": [
    "# total size in z and [x,y,z]\n",
    "Lz = spc + t + t + spc\n",
    "sim_size = [Px, Py, Lz]\n",
    "\n",
    "# sio2 substrate\n",
    "substrate = td.Structure(\n",
    "    geometry=td.Box(\n",
    "        center=[0, 0, -Lz/2],\n",
    "        size=[td.inf, td.inf, 2*(spc+t)],\n",
    "    ),\n",
    "    medium=SiO2,\n",
    "    name='substrate'\n",
    ")\n",
    "\n",
    "# creates a list of structures given a value of 'delta'\n",
    "def geometry(delta):\n",
    "    w1, w2 = calc_ws(delta)\n",
    "    center_y = (w1 - w2) / 2.0\n",
    "\n",
    "    cell1 = td.Structure(\n",
    "        geometry=td.Box(\n",
    "            center=[0, center_y + (g + w1)/2., t/2.],\n",
    "            size=[L, w1, t],\n",
    "        ),\n",
    "        medium=Si,\n",
    "        name='cell1'\n",
    "    )\n",
    "\n",
    "    cell2 = td.Structure(\n",
    "        geometry=td.Box(\n",
    "            center=[0, center_y - (g + w2)/2., t/2.],\n",
    "            size=[L, w2, t],\n",
    "        ),\n",
    "        medium=Si,\n",
    "        name='cell2'\n",
    "    )\n",
    "\n",
    "    return [substrate, cell1, cell2]\n"
   ]
  },
  {
   "cell_type": "code",
   "execution_count": 5,
   "metadata": {
    "tags": []
   },
   "outputs": [],
   "source": [
    "# time dependence of source\n",
    "gaussian = td.GaussianPulse(freq0=freq0, fwidth=freqw)\n",
    "\n",
    "# plane wave source\n",
    "source = td.PlaneWave(\n",
    "            source_time=gaussian,\n",
    "            direction='-',\n",
    "            size=(td.inf, td.inf, 0),\n",
    "            center=(0,0,Lz/2 - spc + 2*dl),\n",
    "            pol_angle=0.0)\n",
    "\n",
    "# Simulation run time.  Note you need to run a long time to calculate high Q resonances.\n",
    "run_time = 7e-12"
   ]
  },
  {
   "cell_type": "code",
   "execution_count": 6,
   "metadata": {
    "tags": []
   },
   "outputs": [],
   "source": [
    "# monitor fields on other side of structure (substrate side) at range of frequencies\n",
    "monitor = td.FluxMonitor(\n",
    "        center=[0., 0., -Lz/2 + spc - 2 * dl],\n",
    "        size=[td.inf, td.inf, 0],\n",
    "        freqs=freqs,\n",
    "        name='flux')"
   ]
  },
  {
   "cell_type": "markdown",
   "metadata": {},
   "source": [
    "## Define Case Studies\n",
    "\n",
    "Here we define the three simulations to run\n",
    "\n",
    "- With no resonators (normalization)\n",
    "- With symmetric (delta = 0) resonators\n",
    "- With asymmetric (delta != 0) resonators\n"
   ]
  },
  {
   "cell_type": "code",
   "execution_count": 7,
   "metadata": {
    "tags": []
   },
   "outputs": [],
   "source": [
    "# normalizing run (no Si) to get baseline transmission vs freq\n",
    "# can be run for shorter time as there are no resonances\n",
    "sim_empty = td.Simulation(size=sim_size,\n",
    "                    grid_size=[dl, dl, dz],\n",
    "                    structures=[substrate],\n",
    "                    sources=[source],\n",
    "                    monitors=[monitor],\n",
    "                    run_time=run_time/10,\n",
    "                    pml_layers=[None, None, td.PML()])\n",
    "\n",
    "# run with delta = 0\n",
    "sim_d0 = td.Simulation(size=sim_size,\n",
    "                    grid_size=[dl, dl, dz],\n",
    "                    structures=geometry(0),\n",
    "                    sources=[source],\n",
    "                    monitors=[monitor],\n",
    "                    run_time=run_time,\n",
    "                    pml_layers=[None, None, td.PML()])\n",
    "\n",
    "# run with delta = 20nm\n",
    "sim_d20 = td.Simulation(size=sim_size,\n",
    "                    grid_size=[dl, dl, dz],\n",
    "                    structures=geometry(20 * nm),\n",
    "                    sources=[source],\n",
    "                    monitors=[monitor],\n",
    "                    run_time=run_time,\n",
    "                    pml_layers=[None, None, td.PML()])"
   ]
  },
  {
   "cell_type": "code",
   "execution_count": 8,
   "metadata": {
    "execution": {
     "iopub.execute_input": "2022-02-28T22:36:36.895388Z",
     "iopub.status.busy": "2022-02-28T22:36:36.894886Z",
     "iopub.status.idle": "2022-02-28T22:36:37.535286Z",
     "shell.execute_reply": "2022-02-28T22:36:37.535603Z"
    },
    "tags": []
   },
   "outputs": [
    {
     "data": {
      "image/png": "[encoded data removed]"
     },
     "metadata": {
      "needs_background": "light"
     },
     "output_type": "display_data"
    }
   ],
   "source": [
    "# Structure visualization in various planes\n",
    "\n",
    "fig, (ax1, ax2, ax3) = plt.subplots(1, 3, figsize=(14, 8))\n",
    "sim_d0.plot_eps(x=0, ax=ax1)\n",
    "sim_d0.plot_eps(y=g, ax=ax2)\n",
    "sim_d0.plot_eps(z=0, ax=ax3)\n",
    "plt.show()"
   ]
  },
  {
   "cell_type": "markdown",
   "metadata": {},
   "source": [
    "## Run Simulations"
   ]
  },
  {
   "cell_type": "code",
   "execution_count": 9,
   "metadata": {
    "execution": {
     "iopub.execute_input": "2022-02-28T22:36:37.540204Z",
     "iopub.status.busy": "2022-02-28T22:36:37.539639Z",
     "iopub.status.idle": "2022-02-28T22:38:29.200100Z",
     "shell.execute_reply": "2022-02-28T22:38:29.125358Z"
    },
    "tags": []
   },
   "outputs": [
    {
     "data": {
      "text/html": [
       "<pre style=\"white-space:pre;overflow-x:auto;line-height:normal;font-family:Menlo,'DejaVu Sans Mono',consolas,'Courier New',monospace\">normalization: status = success         <span style=\"color: #729c1f; text-decoration-color: #729c1f\">━━━━━━━━━━━━━━━━━━━━━━━━━━━━━━━━━━━━━━━━</span> <span style=\"color: #800080; text-decoration-color: #800080\">100%</span> <span style=\"color: #008080; text-decoration-color: #008080\">0:00:00</span>\n",
       "Si-resonator-delta-0: status = success  <span style=\"color: #729c1f; text-decoration-color: #729c1f\">━━━━━━━━━━━━━━━━━━━━━━━━━━━━━━━━━━━━━━━━</span> <span style=\"color: #800080; text-decoration-color: #800080\">100%</span> <span style=\"color: #008080; text-decoration-color: #008080\">0:00:00</span>\n",
       "Si-resonator-delta-20: status = running <span style=\"color: #f92672; text-decoration-color: #f92672\">━━━━━━━━━━━━━━━━━━━━</span><span style=\"color: #3a3a3a; text-decoration-color: #3a3a3a\">╺━━━━━━━━━━━━━━━━━━━</span> <span style=\"color: #800080; text-decoration-color: #800080\"> 50%</span> <span style=\"color: #008080; text-decoration-color: #008080\">0:00:32</span>\n",
       "</pre>\n"
      ],
      "text/plain": [
       "normalization: status = success         \u001b[38;2;114;156;31m━━━━━━━━━━━━━━━━━━━━━━━━━━━━━━━━━━━━━━━━\u001b[0m \u001b[35m100%\u001b[0m \u001b[36m0:00:00\u001b[0m\n",
       "Si-resonator-delta-0: status = success  \u001b[38;2;114;156;31m━━━━━━━━━━━━━━━━━━━━━━━━━━━━━━━━━━━━━━━━\u001b[0m \u001b[35m100%\u001b[0m \u001b[36m0:00:00\u001b[0m\n",
       "Si-resonator-delta-20: status = running \u001b[38;2;249;38;114m━━━━━━━━━━━━━━━━━━━━\u001b[0m\u001b[38;5;237m╺\u001b[0m\u001b[38;5;237m━━━━━━━━━━━━━━━━━━━\u001b[0m \u001b[35m 50%\u001b[0m \u001b[36m0:00:32\u001b[0m\n"
      ]
     },
     "metadata": {},
     "output_type": "display_data"
    }
   ],
   "source": [
    "batch = web.Batch(\n",
    "    simulations={\n",
    "        'normalization': sim_empty,\n",
    "        'Si-resonator-delta-0': sim_d0,\n",
    "        'Si-resonator-delta-20': sim_d20,\n",
    "    }\n",
    ")\n",
    "\n",
    "results = batch.run(path_dir='data')"
   ]
  },
  {
   "cell_type": "markdown",
   "metadata": {},
   "source": [
    "## Get Results and Plot"
   ]
  },
  {
   "cell_type": "code",
   "execution_count": 10,
   "metadata": {
    "execution": {
     "iopub.execute_input": "2022-02-28T22:23:52.532488Z",
     "iopub.status.busy": "2022-02-28T22:23:52.531948Z",
     "iopub.status.idle": "2022-02-28T22:24:23.010980Z",
     "shell.execute_reply": "2022-02-28T22:24:23.011791Z"
    }
   },
   "outputs": [
    {
     "data": {
      "text/html": [
       "<pre style=\"white-space:pre;overflow-x:auto;line-height:normal;font-family:Menlo,'DejaVu Sans Mono',consolas,'Courier New',monospace\"><span style=\"color: #800000; text-decoration-color: #800000\">Downloading...</span> <span style=\"color: #729c1f; text-decoration-color: #729c1f\">━━━━━━━━━━━━━━━━━━━━━━━━━━━━━━━━━━━━━━━━</span> <span style=\"color: #800080; text-decoration-color: #800080\">100%</span> <span style=\"color: #008080; text-decoration-color: #008080\">0:00:00</span>\n",
       "</pre>\n"
      ],
      "text/plain": [
       "\u001b[31mDownloading...\u001b[0m \u001b[38;2;114;156;31m━━━━━━━━━━━━━━━━━━━━━━━━━━━━━━━━━━━━━━━━\u001b[0m \u001b[35m100%\u001b[0m \u001b[36m0:00:00\u001b[0m\n"
      ]
     },
     "metadata": {},
     "output_type": "display_data"
    },
    {
     "data": {
      "text/html": [
       "<pre style=\"white-space:pre;overflow-x:auto;line-height:normal;font-family:Menlo,'DejaVu Sans Mono',consolas,'Courier New',monospace\"><span style=\"color: #7fbfbf; text-decoration-color: #7fbfbf\">[11:59:32] </span><span style=\"color: #000080; text-decoration-color: #000080\">INFO    </span> loading SimulationData from                                 <a href=\"file:///home/momchil/Drive/flexcompute/tidy3d-core/tidy3d_frontend/tidy3d/web/webapi.py\"><span style=\"color: #7f7f7f; text-decoration-color: #7f7f7f\">webapi.py</span></a><span style=\"color: #7f7f7f; text-decoration-color: #7f7f7f\">:303</span>\n",
       "                    data/<span style=\"color: #ffff00; text-decoration-color: #ffff00\">78547e4d-0c2e-4160-9573-6e50fbf3fb0c</span>.hdf5                           \n",
       "</pre>\n"
      ],
      "text/plain": [
       "\u001b[2;36m[11:59:32]\u001b[0m\u001b[2;36m \u001b[0m\u001b[34mINFO    \u001b[0m loading SimulationData from                                 \u001b]8;id=92892;file:///home/momchil/Drive/flexcompute/tidy3d-core/tidy3d_frontend/tidy3d/web/webapi.py\u001b\\\u001b[2mwebapi.py\u001b[0m\u001b]8;;\u001b\\\u001b[2m:303\u001b[0m\n",
       "                    data/\u001b[93m78547e4d-0c2e-4160-9573-6e50fbf3fb0c\u001b[0m.hdf5                           \n"
      ]
     },
     "metadata": {},
     "output_type": "display_data"
    },
    {
     "data": {
      "text/html": [
       "<pre style=\"white-space:pre;overflow-x:auto;line-height:normal;font-family:Menlo,'DejaVu Sans Mono',consolas,'Courier New',monospace\"><span style=\"color: #7fbfbf; text-decoration-color: #7fbfbf\">           </span><span style=\"color: #800000; text-decoration-color: #800000\">WARNING </span> Simulation final field decay value of <span style=\"color: #008080; text-decoration-color: #008080; font-weight: bold\">0.000101</span> is greater   <a href=\"file:///home/momchil/Drive/flexcompute/tidy3d-core/tidy3d_frontend/tidy3d/web/webapi.py\"><span style=\"color: #7f7f7f; text-decoration-color: #7f7f7f\">webapi.py</span></a><span style=\"color: #7f7f7f; text-decoration-color: #7f7f7f\">:309</span>\n",
       "                    than the simulation shutoff threshold of <span style=\"color: #008080; text-decoration-color: #008080; font-weight: bold\">1e-05</span>. Consider                 \n",
       "                    simulation again with large run_time duration for more                   \n",
       "                    accurate results.                                                        \n",
       "</pre>\n"
      ],
      "text/plain": [
       "\u001b[2;36m          \u001b[0m\u001b[2;36m \u001b[0m\u001b[31mWARNING \u001b[0m Simulation final field decay value of \u001b[1;36m0.000101\u001b[0m is greater   \u001b]8;id=738593;file:///home/momchil/Drive/flexcompute/tidy3d-core/tidy3d_frontend/tidy3d/web/webapi.py\u001b\\\u001b[2mwebapi.py\u001b[0m\u001b]8;;\u001b\\\u001b[2m:309\u001b[0m\n",
       "                    than the simulation shutoff threshold of \u001b[1;36m1e-05\u001b[0m. Consider                 \n",
       "                    simulation again with large run_time duration for more                   \n",
       "                    accurate results.                                                        \n"
      ]
     },
     "metadata": {},
     "output_type": "display_data"
    }
   ],
   "source": [
    "batch_data = batch.load(path_dir='data')\n",
    "flux_norm = batch_data['normalization']['flux']\n",
    "trans_g0 = batch_data['Si-resonator-delta-0']['flux'] / flux_norm\n",
    "trans_g20 = batch_data['Si-resonator-delta-20']['flux'] / flux_norm"
   ]
  },
  {
   "cell_type": "markdown",
   "metadata": {},
   "source": [
    "The normalizing run computes the transmitted flux for an air -> SiO2 interface, which is just below unity due to some reflection.\n",
    "\n",
    "While not technically necessary for this example, since this transmission can be computed analytically, it is often a good idea to run a normalizing run so you can accurately measure the *change* in output when the structure is added.  For example, for multilayer structures, the normalizing run displays frequency dependence, which would make it prudent to include in the calculation."
   ]
  },
  {
   "cell_type": "code",
   "execution_count": 11,
   "metadata": {
    "execution": {
     "iopub.execute_input": "2022-02-28T22:24:23.041859Z",
     "iopub.status.busy": "2022-02-28T22:24:23.041325Z",
     "iopub.status.idle": "2022-02-28T22:24:23.208384Z",
     "shell.execute_reply": "2022-02-28T22:24:23.208775Z"
    },
    "tags": []
   },
   "outputs": [
    {
     "data": {
      "image/png": "[encoded data removed]"
     },
     "metadata": {
      "needs_background": "light"
     },
     "output_type": "display_data"
    }
   ],
   "source": [
    "# plot transmission, compare to paper results, look similar\n",
    "fig, ax = plt.subplots(1, 1, figsize=(6, 4.5))\n",
    "wavelengths_nm = td.C_0 / trans_g0.f / nm\n",
    "plt.plot(wavelengths_nm, trans_g0.values, color='red', label='$\\delta=0$')\n",
    "plt.plot(wavelengths_nm, trans_g20.values, color='blue', label='$\\delta=20~nm$')\n",
    "plt.xlabel('wavelength ($nm$)')\n",
    "plt.ylabel('Transmission')\n",
    "plt.xlim([1050, 1400])\n",
    "plt.ylim([0, 1])\n",
    "plt.legend()\n",
    "plt.show()"
   ]
  },
  {
   "cell_type": "markdown",
   "metadata": {},
   "source": [
    "## Results Comparison\n",
    "\n",
    "Compare this plot to published results computed using COMSOL (FEM):\n",
    "\n",
    "<img src=\"img/Si_plot.png\" alt=\"diagram\" width=\"400\"/>\n",
    "\n",
    "(Citation: Opt. Lett. 43, 1842-1845 (2018).  With permission from the Optical Society)"
   ]
  }
 ],
 "metadata": {
  "kernelspec": {
   "display_name": "Python 3",
   "language": "python",
   "name": "python3"
  },
  "language_info": {
   "codemirror_mode": {
    "name": "ipython",
    "version": 3
   },
   "file_extension": ".py",
   "mimetype": "text/x-python",
   "name": "python",
   "nbconvert_exporter": "python",
   "pygments_lexer": "ipython3",
   "version": "3.8.3"
  },
  "widgets": {
   "application/vnd.jupyter.widget-state+json": {
    "state": {
     "1e6480f61c2e4eecb77b4e1cbd823f41": {
      "model_module": "@jupyter-widgets/base",
      "model_module_version": "1.2.0",
      "model_name": "LayoutModel",
      "state": {
       "_model_module": "@jupyter-widgets/base",
       "_model_module_version": "1.2.0",
       "_model_name": "LayoutModel",
       "_view_count": null,
       "_view_module": "@jupyter-widgets/base",
       "_view_module_version": "1.2.0",
       "_view_name": "LayoutView",
       "align_content": null,
       "align_items": null,
       "align_self": null,
       "border": null,
       "bottom": null,
       "display": null,
       "flex": null,
       "flex_flow": null,
       "grid_area": null,
       "grid_auto_columns": null,
       "grid_auto_flow": null,
       "grid_auto_rows": null,
       "grid_column": null,
       "grid_gap": null,
       "grid_row": null,
       "grid_template_areas": null,
       "grid_template_columns": null,
       "grid_template_rows": null,
       "height": null,
       "justify_content": null,
       "justify_items": null,
       "left": null,
       "margin": null,
       "max_height": null,
       "max_width": null,
       "min_height": null,
       "min_width": null,
       "object_fit": null,
       "object_position": null,
       "order": null,
       "overflow": null,
       "overflow_x": null,
       "overflow_y": null,
       "padding": null,
       "right": null,
       "top": null,
       "visibility": null,
       "width": null
      }
     },
     "20bc9b75f7984b4d862d0fe45a090b18": {
      "model_module": "@jupyter-widgets/output",
      "model_module_version": "1.0.0",
      "model_name": "OutputModel",
      "state": {
       "_dom_classes": [],
       "_model_module": "@jupyter-widgets/output",
       "_model_module_version": "1.0.0",
       "_model_name": "OutputModel",
       "_view_count": null,
       "_view_module": "@jupyter-widgets/output",
       "_view_module_version": "1.0.0",
       "_view_name": "OutputView",
       "layout": "IPY_MODEL_1e6480f61c2e4eecb77b4e1cbd823f41",
       "msg_id": "756839b9-b1e58a0fd02baa7d0d6133a8_9",
       "outputs": []
      }
     },
     "8258f7c1843c4fe4a8121818caf5c739": {
      "model_module": "@jupyter-widgets/output",
      "model_module_version": "1.0.0",
      "model_name": "OutputModel",
      "state": {
       "_dom_classes": [],
       "_model_module": "@jupyter-widgets/output",
       "_model_module_version": "1.0.0",
       "_model_name": "OutputModel",
       "_view_count": null,
       "_view_module": "@jupyter-widgets/output",
       "_view_module_version": "1.0.0",
       "_view_name": "OutputView",
       "layout": "IPY_MODEL_9f09b1421a3c42538838c1b69acf0f37",
       "msg_id": "",
       "outputs": []
      }
     },
     "9f09b1421a3c42538838c1b69acf0f37": {
      "model_module": "@jupyter-widgets/base",
      "model_module_version": "1.2.0",
      "model_name": "LayoutModel",
      "state": {
       "_model_module": "@jupyter-widgets/base",
       "_model_module_version": "1.2.0",
       "_model_name": "LayoutModel",
       "_view_count": null,
       "_view_module": "@jupyter-widgets/base",
       "_view_module_version": "1.2.0",
       "_view_name": "LayoutView",
       "align_content": null,
       "align_items": null,
       "align_self": null,
       "border": null,
       "bottom": null,
       "display": null,
       "flex": null,
       "flex_flow": null,
       "grid_area": null,
       "grid_auto_columns": null,
       "grid_auto_flow": null,
       "grid_auto_rows": null,
       "grid_column": null,
       "grid_gap": null,
       "grid_row": null,
       "grid_template_areas": null,
       "grid_template_columns": null,
       "grid_template_rows": null,
       "height": null,
       "justify_content": null,
       "justify_items": null,
       "left": null,
       "margin": null,
       "max_height": null,
       "max_width": null,
       "min_height": null,
       "min_width": null,
       "object_fit": null,
       "object_position": null,
       "order": null,
       "overflow": null,
       "overflow_x": null,
       "overflow_y": null,
       "padding": null,
       "right": null,
       "top": null,
       "visibility": null,
       "width": null
      }
     },
     "9fa5e234879141118b03aaab961e029f": {
      "model_module": "@jupyter-widgets/output",
      "model_module_version": "1.0.0",
      "model_name": "OutputModel",
      "state": {
       "_dom_classes": [],
       "_model_module": "@jupyter-widgets/output",
       "_model_module_version": "1.0.0",
       "_model_name": "OutputModel",
       "_view_count": null,
       "_view_module": "@jupyter-widgets/output",
       "_view_module_version": "1.0.0",
       "_view_name": "OutputView",
       "layout": "IPY_MODEL_b2d8fbd6971145e3b2ffa5899697b824",
       "msg_id": "",
       "outputs": []
      }
     },
     "a07c141c3d8849fabc7ae12e3a3451d3": {
      "model_module": "@jupyter-widgets/output",
      "model_module_version": "1.0.0",
      "model_name": "OutputModel",
      "state": {
       "_dom_classes": [],
       "_model_module": "@jupyter-widgets/output",
       "_model_module_version": "1.0.0",
       "_model_name": "OutputModel",
       "_view_count": null,
       "_view_module": "@jupyter-widgets/output",
       "_view_module_version": "1.0.0",
       "_view_name": "OutputView",
       "layout": "IPY_MODEL_caeac53c0f7d42b4b52b09098b1d3c8e",
       "msg_id": "",
       "outputs": []
      }
     },
     "b2d8fbd6971145e3b2ffa5899697b824": {
      "model_module": "@jupyter-widgets/base",
      "model_module_version": "1.2.0",
      "model_name": "LayoutModel",
      "state": {
       "_model_module": "@jupyter-widgets/base",
       "_model_module_version": "1.2.0",
       "_model_name": "LayoutModel",
       "_view_count": null,
       "_view_module": "@jupyter-widgets/base",
       "_view_module_version": "1.2.0",
       "_view_name": "LayoutView",
       "align_content": null,
       "align_items": null,
       "align_self": null,
       "border": null,
       "bottom": null,
       "display": null,
       "flex": null,
       "flex_flow": null,
       "grid_area": null,
       "grid_auto_columns": null,
       "grid_auto_flow": null,
       "grid_auto_rows": null,
       "grid_column": null,
       "grid_gap": null,
       "grid_row": null,
       "grid_template_areas": null,
       "grid_template_columns": null,
       "grid_template_rows": null,
       "height": null,
       "justify_content": null,
       "justify_items": null,
       "left": null,
       "margin": null,
       "max_height": null,
       "max_width": null,
       "min_height": null,
       "min_width": null,
       "object_fit": null,
       "object_position": null,
       "order": null,
       "overflow": null,
       "overflow_x": null,
       "overflow_y": null,
       "padding": null,
       "right": null,
       "top": null,
       "visibility": null,
       "width": null
      }
     },
     "caeac53c0f7d42b4b52b09098b1d3c8e": {
      "model_module": "@jupyter-widgets/base",
      "model_module_version": "1.2.0",
      "model_name": "LayoutModel",
      "state": {
       "_model_module": "@jupyter-widgets/base",
       "_model_module_version": "1.2.0",
       "_model_name": "LayoutModel",
       "_view_count": null,
       "_view_module": "@jupyter-widgets/base",
       "_view_module_version": "1.2.0",
       "_view_name": "LayoutView",
       "align_content": null,
       "align_items": null,
       "align_self": null,
       "border": null,
       "bottom": null,
       "display": null,
       "flex": null,
       "flex_flow": null,
       "grid_area": null,
       "grid_auto_columns": null,
       "grid_auto_flow": null,
       "grid_auto_rows": null,
       "grid_column": null,
       "grid_gap": null,
       "grid_row": null,
       "grid_template_areas": null,
       "grid_template_columns": null,
       "grid_template_rows": null,
       "height": null,
       "justify_content": null,
       "justify_items": null,
       "left": null,
       "margin": null,
       "max_height": null,
       "max_width": null,
       "min_height": null,
       "min_width": null,
       "object_fit": null,
       "object_position": null,
       "order": null,
       "overflow": null,
       "overflow_x": null,
       "overflow_y": null,
       "padding": null,
       "right": null,
       "top": null,
       "visibility": null,
       "width": null
      }
     }
    },
    "version_major": 2,
    "version_minor": 0
   }
  }
 },
 "nbformat": 4,
 "nbformat_minor": 4
}
