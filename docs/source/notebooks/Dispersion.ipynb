{
 "cells": [
  {
   "cell_type": "markdown",
   "metadata": {},
   "source": [
    "# Dispersive materials"
   ]
  },
  {
   "cell_type": "markdown",
   "metadata": {},
   "source": [
    "## Introduction / Setup\n",
    "\n",
    "Run this notebook in your browser using [Binder](https://mybinder.org/v2/gh/flexcompute-readthedocs/tidy3d-docs/readthedocs?labpath=docs%2Fsource%2Fnotebooks%2FDispersion.ipynb).\n",
    "\n",
    "Here we show to to model dispersive materials in Tidy3D with an example showing transmission spectrum of a multilayer stack of slabs."
   ]
  },
  {
   "cell_type": "code",
   "execution_count": 1,
   "metadata": {
    "tags": []
   },
   "outputs": [
    {
     "name": "stdout",
     "output_type": "stream",
     "text": [
      "Using Tidy3D credentials from stored file\n"
     ]
    }
   ],
   "source": [
    "# standard python imports\n",
    "import numpy as np\n",
    "import matplotlib.pyplot as plt\n",
    "\n",
    "import tidy3d as td\n",
    "from tidy3d import web"
   ]
  },
  {
   "cell_type": "markdown",
   "metadata": {},
   "source": [
    "First, let us define some basic parameters."
   ]
  },
  {
   "cell_type": "code",
   "execution_count": 2,
   "metadata": {
    "tags": []
   },
   "outputs": [],
   "source": [
    "# Wavelength and frequency range\n",
    "lambda_range = (0.5, 1.5)\n",
    "lam0 = np.sum(lambda_range)/2\n",
    "freq_range = (td.constants.C_0/lambda_range[1], td.constants.C_0/lambda_range[0])\n",
    "Nfreq = 333\n",
    "\n",
    "# frequencies and wavelengths of monitor\n",
    "monitor_freqs = np.linspace(freq_range[0], freq_range[1], Nfreq)\n",
    "monitor_lambdas = td.constants.C_0 / monitor_freqs\n",
    "\n",
    "# central frequency, frequency pulse width and total running time\n",
    "freq0 = monitor_freqs[Nfreq // 2]\n",
    "freqw  = 0.3 * (freq_range[1] - freq_range[0])\n",
    "t_stop = 100 / freq0\n",
    "\n",
    "# Thicknesses of slabs\n",
    "t_slabs = [0.5, 0.2, 0.4, 0.3] # um\n",
    "\n",
    "# Grid resolution (cells per um)\n",
    "res = 150\n",
    "\n",
    "# space between slabs and sources and PML\n",
    "spacing = 1 * lambda_range[-1]\n",
    "\n",
    "# simulation size\n",
    "sim_size = Lx, Ly, Lz = (1.0, 1.0, 4*spacing + sum(t_slabs))"
   ]
  },
  {
   "cell_type": "markdown",
   "metadata": {},
   "source": [
    "## Defining Materials (4 Ways)\n",
    "\n",
    "We now create materials for each slab in four differt ways. The first three of those show various ways that the Tidy3D [Medium](https://simulation.cloud/docs/html/generated/tidy3d.Medium.html) class can be used to define custom materials. The last one is a direct import from our [material library](https://simulation.cloud/docs/html/generated/tidy3d.material_library.html#module-tidy3d.material_library).\n",
    "\n",
    "1. Simple, lossless dielectric defined by a real, dispersionless refracive index (or permittivity).\n",
    "2. Lossy material defined by real and imaginary part of the refractive index ($n$) and ($k$) at a given frequency or wavelength. Values are exact only at that frequency, so only good for narrow-band simulations.\n",
    "3. Simple, lossless dispersive material (one-pole fitting) defined by the real part of the refractive index $n$ and the dispersion $\\mathrm{d}n/\\mathrm{d}\\lambda$ at a given frequency or wavelength. The dispersion must be negative.\n",
    "4. Dispersive material imported from our pre-defined library of materials.\n",
    "\n",
    "More complicated dispersive materials can also be defined through their dispersive models (supported: Lorentz, Sellmeier, or Debye models).  See [here](https://simulation.cloud/docs/html/api.html#dispersive-models) for more details on defining materials this way if the model parameters are known."
   ]
  },
  {
   "cell_type": "code",
   "execution_count": 3,
   "metadata": {
    "tags": []
   },
   "outputs": [],
   "source": [
    "# simple, lossless, dispersionless material (either epsilon or n)\n",
    "mat1 = td.Medium(permittivity=4.0)\n",
    "\n",
    "# lossy material with n & k values at a specified frequency or wavelength\n",
    "mat2 = td.Medium.from_nk(n=3.0, k=0.1, freq=freq0)\n",
    "\n",
    "# a dispersive material defined directly with coefficients\n",
    "# note: make this a dispersive model (Lorentz?)\n",
    "mat3 = td.Medium.from_nk(n=2.0, k=0.1, freq=freq0)\n",
    "\n",
    "# dispersive material from tidy3d library\n",
    "mat4 = td.material_library['BK7']['Zemax']\n",
    "\n",
    "# put all together\n",
    "mat_slabs = [mat1, mat2, mat3, mat4]"
   ]
  },
  {
   "cell_type": "markdown",
   "metadata": {},
   "source": [
    "## Create Simulation\n",
    "Now we set everything else up (structures, sources, monitors, simulation) to run the example."
   ]
  },
  {
   "cell_type": "markdown",
   "metadata": {},
   "source": [
    "First, we define the multilayer stack structure."
   ]
  },
  {
   "cell_type": "code",
   "execution_count": 4,
   "metadata": {
    "tags": []
   },
   "outputs": [],
   "source": [
    "slabs = []\n",
    "slab_position = -Lz/2 + 2*spacing\n",
    "for t, mat in zip(t_slabs, mat_slabs):\n",
    "    slab = td.Structure(\n",
    "        geometry=td.Box(\n",
    "            center=(0, 0, slab_position + t/2),\n",
    "            size=(td.inf, td.inf, t),\n",
    "        ),\n",
    "        medium=mat,\n",
    "    )\n",
    "    slabs.append(slab)\n",
    "    slab_position += t"
   ]
  },
  {
   "cell_type": "markdown",
   "metadata": {},
   "source": [
    "We must now define the excitation conditions and field monitors. We will excite the slab using a normally incident (along z) planewave, polarized along the x direciton."
   ]
  },
  {
   "cell_type": "code",
   "execution_count": 5,
   "metadata": {
    "tags": []
   },
   "outputs": [],
   "source": [
    "# Here we define the planewave source, placed just in advance (towards negative z) of the slab\n",
    "source = td.PlaneWave(\n",
    "    source_time = td.GaussianPulse(\n",
    "        freq0=freq0,\n",
    "        fwidth=freqw\n",
    "    ),\n",
    "    size=(td.inf, td.inf, 0),\n",
    "    center=(0, 0, -Lz/2+spacing),\n",
    "    direction='+',\n",
    "    pol_angle=0,\n",
    ")"
   ]
  },
  {
   "cell_type": "markdown",
   "metadata": {},
   "source": [
    "Here we define the field monitor, placed just past (towards positive z) of the stack."
   ]
  },
  {
   "cell_type": "code",
   "execution_count": 6,
   "metadata": {
    "tags": []
   },
   "outputs": [],
   "source": [
    "# We are interested in measuring the transmitted flux, so we set it to be an oversized plane.\n",
    "monitor = td.FluxMonitor(\n",
    "    center = (0, 0, Lz/2 - spacing),\n",
    "    size = (td.inf, td.inf, 0),\n",
    "    freqs = monitor_freqs,\n",
    "    name='flux',\n",
    ")"
   ]
  },
  {
   "cell_type": "markdown",
   "metadata": {},
   "source": [
    "Now it is time to define the simulation object."
   ]
  },
  {
   "cell_type": "code",
   "execution_count": 7,
   "metadata": {
    "tags": []
   },
   "outputs": [
    {
     "data": {
      "text/html": [
       "<pre style=\"white-space:pre;overflow-x:auto;line-height:normal;font-family:Menlo,'DejaVu Sans Mono',consolas,'Courier New',monospace\"><span style=\"color: #7fbfbf; text-decoration-color: #7fbfbf\">[14:55:01] </span><span style=\"color: #800000; text-decoration-color: #800000\">WARNING </span> A medium in the simulation:                             <a href=\"file:///Users/twhughes/Documents/Flexcompute/tidy3d-docs/tidy3d/tidy3d/components/simulation.py\"><span style=\"color: #7f7f7f; text-decoration-color: #7f7f7f\">simulation.py</span></a><span style=\"color: #7f7f7f; text-decoration-color: #7f7f7f\">:</span><a href=\"file:///Users/twhughes/Documents/Flexcompute/tidy3d-docs/tidy3d/tidy3d/components/simulation.py#344\"><span style=\"color: #7f7f7f; text-decoration-color: #7f7f7f\">344</span></a>\n",
       "                                                                                             \n",
       "                    <span style=\"font-weight: bold\">(</span><span style=\"color: #800080; text-decoration-color: #800080; font-weight: bold\">td.PoleResidue</span><span style=\"font-weight: bold\">(</span>                                                         \n",
       "                            <span style=\"color: #808000; text-decoration-color: #808000\">poles</span>=<span style=\"font-weight: bold\">[(</span><span style=\"color: #008080; text-decoration-color: #008080; font-weight: bold\">2.</span>431642149296798e+16j,                                  \n",
       "                    <span style=\"font-weight: bold\">(</span><span style=\"color: #008080; text-decoration-color: #008080; font-weight: bold\">-0</span>-<span style=\"color: #008080; text-decoration-color: #008080; font-weight: bold\">1.</span>2639823249559002e+16j<span style=\"font-weight: bold\">))</span>,                                           \n",
       "                    <span style=\"font-weight: bold\">(</span><span style=\"color: #008080; text-decoration-color: #008080; font-weight: bold\">1.</span>3313466757556814e+16j, <span style=\"font-weight: bold\">(</span><span style=\"color: #008080; text-decoration-color: #008080; font-weight: bold\">-0</span>-1542979833250087j<span style=\"font-weight: bold\">))</span>,                       \n",
       "                    <span style=\"font-weight: bold\">(</span><span style=\"color: #008080; text-decoration-color: #008080; font-weight: bold\">185098620483566.</span>44j, <span style=\"font-weight: bold\">(</span><span style=\"color: #008080; text-decoration-color: #008080; font-weight: bold\">-0</span>-<span style=\"color: #008080; text-decoration-color: #008080; font-weight: bold\">93518250617894.</span>06j<span style=\"font-weight: bold\">))]</span>,                         \n",
       "                            <span style=\"color: #808000; text-decoration-color: #808000\">frequency_range</span>=<span style=\"font-weight: bold\">(</span><span style=\"color: #008080; text-decoration-color: #008080; font-weight: bold\">119916983432378.72</span>,                             \n",
       "                    <span style=\"color: #008080; text-decoration-color: #008080; font-weight: bold\">999308195269822.8</span><span style=\"font-weight: bold\">)))</span>                                                     \n",
       "                                                                                             \n",
       "                    has a frequency range that does not fully cover the                      \n",
       "                    spectrum of a source:                                                    \n",
       "                                                                                             \n",
       "                    <span style=\"font-weight: bold\">(</span><span style=\"color: #808000; text-decoration-color: #808000\">center</span>=<span style=\"font-weight: bold\">(</span><span style=\"color: #008080; text-decoration-color: #008080; font-weight: bold\">0.0</span>, <span style=\"color: #008080; text-decoration-color: #008080; font-weight: bold\">0.0</span>, <span style=\"color: #008080; text-decoration-color: #008080; font-weight: bold\">-2.2</span><span style=\"font-weight: bold\">)</span> <span style=\"color: #808000; text-decoration-color: #808000\">type</span>=<span style=\"color: #008000; text-decoration-color: #008000\">'PlaneWave'</span>                                \n",
       "                    <span style=\"color: #808000; text-decoration-color: #808000\">size</span>=<span style=\"font-weight: bold\">(</span><span style=\"color: #008080; text-decoration-color: #008080; font-weight: bold\">1.0000000200408773e+20</span>, <span style=\"color: #008080; text-decoration-color: #008080; font-weight: bold\">1.0000000200408773e+20</span>,                    \n",
       "                    <span style=\"color: #008080; text-decoration-color: #008080; font-weight: bold\">0.0</span><span style=\"font-weight: bold\">)</span> <span style=\"color: #808000; text-decoration-color: #808000\">source_time</span>=<span style=\"color: #800080; text-decoration-color: #800080; font-weight: bold\">GaussianPulse</span><span style=\"font-weight: bold\">(</span><span style=\"color: #808000; text-decoration-color: #808000\">amplitude</span>=<span style=\"color: #008080; text-decoration-color: #008080; font-weight: bold\">1.0</span>,                            \n",
       "                    <span style=\"color: #808000; text-decoration-color: #808000\">phase</span>=<span style=\"color: #008080; text-decoration-color: #008080; font-weight: bold\">0.0</span>, <span style=\"color: #808000; text-decoration-color: #808000\">type</span>=<span style=\"color: #008000; text-decoration-color: #008000\">'GaussianPulse'</span>,                                         \n",
       "                    <span style=\"color: #808000; text-decoration-color: #808000\">freq0</span>=<span style=\"color: #008080; text-decoration-color: #008080; font-weight: bold\">399723278107929.1</span>, <span style=\"color: #808000; text-decoration-color: #808000\">fwidth</span>=<span style=\"color: #008080; text-decoration-color: #008080; font-weight: bold\">119916983432378.73</span>,                      \n",
       "                    <span style=\"color: #808000; text-decoration-color: #808000\">offset</span>=<span style=\"color: #008080; text-decoration-color: #008080; font-weight: bold\">5.0</span><span style=\"font-weight: bold\">)</span> <span style=\"color: #808000; text-decoration-color: #808000\">name</span>=<span style=\"color: #800080; text-decoration-color: #800080; font-style: italic\">None</span> <span style=\"color: #808000; text-decoration-color: #808000\">direction</span>=<span style=\"color: #008000; text-decoration-color: #008000\">'+'</span> <span style=\"color: #808000; text-decoration-color: #808000\">pol_angle</span>=<span style=\"color: #008080; text-decoration-color: #008080; font-weight: bold\">0.0</span><span style=\"font-weight: bold\">)</span>                       \n",
       "                                                                                             \n",
       "                    This can cause innacuracies in the simulation results.                   \n",
       "</pre>\n"
      ],
      "text/plain": [
       "\u001b[2;36m[14:55:01]\u001b[0m\u001b[2;36m \u001b[0m\u001b[31mWARNING \u001b[0m A medium in the simulation:                             \u001b]8;id=703224;file:///Users/twhughes/Documents/Flexcompute/tidy3d-docs/tidy3d/tidy3d/components/simulation.py\u001b\\\u001b[2msimulation.py\u001b[0m\u001b]8;;\u001b\\\u001b[2m:\u001b[0m\u001b]8;id=245761;file:///Users/twhughes/Documents/Flexcompute/tidy3d-docs/tidy3d/tidy3d/components/simulation.py#344\u001b\\\u001b[2m344\u001b[0m\u001b]8;;\u001b\\\n",
       "                                                                                             \n",
       "                    \u001b[1m(\u001b[0m\u001b[1;35mtd.PoleResidue\u001b[0m\u001b[1m(\u001b[0m                                                         \n",
       "                            \u001b[33mpoles\u001b[0m=\u001b[1m[\u001b[0m\u001b[1m(\u001b[0m\u001b[1;36m2.\u001b[0m431642149296798e+16j,                                  \n",
       "                    \u001b[1m(\u001b[0m\u001b[1;36m-0\u001b[0m-\u001b[1;36m1.\u001b[0m2639823249559002e+16j\u001b[1m)\u001b[0m\u001b[1m)\u001b[0m,                                           \n",
       "                    \u001b[1m(\u001b[0m\u001b[1;36m1.\u001b[0m3313466757556814e+16j, \u001b[1m(\u001b[0m\u001b[1;36m-0\u001b[0m-1542979833250087j\u001b[1m)\u001b[0m\u001b[1m)\u001b[0m,                       \n",
       "                    \u001b[1m(\u001b[0m\u001b[1;36m185098620483566.\u001b[0m44j, \u001b[1m(\u001b[0m\u001b[1;36m-0\u001b[0m-\u001b[1;36m93518250617894.\u001b[0m06j\u001b[1m)\u001b[0m\u001b[1m)\u001b[0m\u001b[1m]\u001b[0m,                         \n",
       "                            \u001b[33mfrequency_range\u001b[0m=\u001b[1m(\u001b[0m\u001b[1;36m119916983432378.72\u001b[0m,                             \n",
       "                    \u001b[1;36m999308195269822.8\u001b[0m\u001b[1m)\u001b[0m\u001b[1m)\u001b[0m\u001b[1m)\u001b[0m                                                     \n",
       "                                                                                             \n",
       "                    has a frequency range that does not fully cover the                      \n",
       "                    spectrum of a source:                                                    \n",
       "                                                                                             \n",
       "                    \u001b[1m(\u001b[0m\u001b[33mcenter\u001b[0m=\u001b[1m(\u001b[0m\u001b[1;36m0.0\u001b[0m, \u001b[1;36m0.0\u001b[0m, \u001b[1;36m-2.2\u001b[0m\u001b[1m)\u001b[0m \u001b[33mtype\u001b[0m=\u001b[32m'PlaneWave'\u001b[0m                                \n",
       "                    \u001b[33msize\u001b[0m=\u001b[1m(\u001b[0m\u001b[1;36m1.0000000200408773e+20\u001b[0m, \u001b[1;36m1.0000000200408773e+20\u001b[0m,                    \n",
       "                    \u001b[1;36m0.0\u001b[0m\u001b[1m)\u001b[0m \u001b[33msource_time\u001b[0m=\u001b[1;35mGaussianPulse\u001b[0m\u001b[1m(\u001b[0m\u001b[33mamplitude\u001b[0m=\u001b[1;36m1\u001b[0m\u001b[1;36m.0\u001b[0m,                            \n",
       "                    \u001b[33mphase\u001b[0m=\u001b[1;36m0\u001b[0m\u001b[1;36m.0\u001b[0m, \u001b[33mtype\u001b[0m=\u001b[32m'GaussianPulse'\u001b[0m,                                         \n",
       "                    \u001b[33mfreq0\u001b[0m=\u001b[1;36m399723278107929\u001b[0m\u001b[1;36m.1\u001b[0m, \u001b[33mfwidth\u001b[0m=\u001b[1;36m119916983432378\u001b[0m\u001b[1;36m.73\u001b[0m,                      \n",
       "                    \u001b[33moffset\u001b[0m=\u001b[1;36m5\u001b[0m\u001b[1;36m.0\u001b[0m\u001b[1m)\u001b[0m \u001b[33mname\u001b[0m=\u001b[3;35mNone\u001b[0m \u001b[33mdirection\u001b[0m=\u001b[32m'+'\u001b[0m \u001b[33mpol_angle\u001b[0m=\u001b[1;36m0\u001b[0m\u001b[1;36m.0\u001b[0m\u001b[1m)\u001b[0m                       \n",
       "                                                                                             \n",
       "                    This can cause innacuracies in the simulation results.                   \n"
      ]
     },
     "metadata": {},
     "output_type": "display_data"
    }
   ],
   "source": [
    "sim = td.Simulation(\n",
    "    center = (0, 0, 0),\n",
    "    size = sim_size,\n",
    "    grid_size = 3*[1/res],\n",
    "    structures = slabs,\n",
    "    sources = [source],\n",
    "    monitors = [monitor],\n",
    "    run_time = t_stop,\n",
    "    pml_layers = (None, None, td.PML())\n",
    ")"
   ]
  },
  {
   "cell_type": "markdown",
   "metadata": {},
   "source": [
    "## Plot The Structure\n",
    "\n",
    "Let's now plot the permittivity profile to confirm that the structure was defined correctly."
   ]
  },
  {
   "cell_type": "markdown",
   "metadata": {},
   "source": [
    "First we use the `Simulation.plot()` method to plot the materials only, which assigns a different color to each slab without knowledge of the material properties."
   ]
  },
  {
   "cell_type": "code",
   "execution_count": 8,
   "metadata": {
    "tags": []
   },
   "outputs": [
    {
     "data": {
      "image/png": "[encoded data removed]"
     },
     "metadata": {
      "needs_background": "light"
     },
     "output_type": "display_data"
    }
   ],
   "source": [
    "sim.plot(x=0)\n",
    "plt.show()"
   ]
  },
  {
   "cell_type": "markdown",
   "metadata": {},
   "source": [
    "Next, we use `Simulation.plot_eps()` to vizualize the permittivity of the stack. However, because the stack contains dispersive materials, we need to specify the `freq` of interest as an argument to the plotting tool.  Here we show the permittivity at the lowest and highest frequences in the range of interest.  Note that in this case, the real part of the permittivity (being plotted) only changes slightly between the two frequencies on the dispersive material.  However, for other materials with more dispersion, the effect can be much more prominent."
   ]
  },
  {
   "cell_type": "code",
   "execution_count": 9,
   "metadata": {
    "tags": []
   },
   "outputs": [
    {
     "data": {
      "image/png": "[encoded data removed]"
     },
     "metadata": {
      "needs_background": "light"
     },
     "output_type": "display_data"
    }
   ],
   "source": [
    "# plot the permittivity at a few frequencies\n",
    "freqs_plot = (freq_range[0], freq_range[1])\n",
    "fig, axes = plt.subplots(1, len(freqs_plot), tight_layout=True, figsize=(12, 4))\n",
    "for ax, freq_plot in zip(axes, freqs_plot):\n",
    "    sim.plot_eps(x=0, freq=freq_plot, ax=ax)\n",
    "plt.show()"
   ]
  },
  {
   "cell_type": "markdown",
   "metadata": {},
   "source": [
    "We can also take a look at the source to make sure it's defined correctly over our frequency range of interst."
   ]
  },
  {
   "cell_type": "code",
   "execution_count": 10,
   "metadata": {
    "tags": []
   },
   "outputs": [
    {
     "data": {
      "image/png": "[encoded data removed]"
     },
     "metadata": {
      "needs_background": "light"
     },
     "output_type": "display_data"
    },
    {
     "data": {
      "image/png": "[encoded data removed]"
     },
     "metadata": {
      "needs_background": "light"
     },
     "output_type": "display_data"
    }
   ],
   "source": [
    "# Check probe and source\n",
    "ax1 = sim.sources[0].source_time.plot(times=np.linspace(0, sim.run_time, 1001))\n",
    "ax1.set_xlim(0, 1e-13)\n",
    "ax2 = sim.sources[0].source_time.plot_spectrum(times=np.linspace(0, sim.run_time, 1001))\n",
    "ax2.fill_between(freq_range, [-8e-16, -8e-16], [8e-16, 8e-16], alpha=0.4, color='g')\n",
    "ax2.legend(('source', 'measure'))\n",
    "plt.show()"
   ]
  },
  {
   "cell_type": "markdown",
   "metadata": {},
   "source": [
    "## Run the simulation\n",
    "\n",
    "We will submit the simulation to run as a new project."
   ]
  },
  {
   "cell_type": "code",
   "execution_count": 11,
   "metadata": {
    "tags": []
   },
   "outputs": [
    {
     "data": {
      "text/html": [
       "<pre style=\"white-space:pre;overflow-x:auto;line-height:normal;font-family:Menlo,'DejaVu Sans Mono',consolas,'Courier New',monospace\"><span style=\"color: #7fbfbf; text-decoration-color: #7fbfbf\">[14:55:03] </span><span style=\"color: #000080; text-decoration-color: #000080\">INFO    </span> Uploaded task <span style=\"color: #008000; text-decoration-color: #008000\">'dispersion'</span> with task_id                     <a href=\"file:///Users/twhughes/Documents/Flexcompute/tidy3d-docs/tidy3d/tidy3d/web/webapi.py\"><span style=\"color: #7f7f7f; text-decoration-color: #7f7f7f\">webapi.py</span></a><span style=\"color: #7f7f7f; text-decoration-color: #7f7f7f\">:</span><a href=\"file:///Users/twhughes/Documents/Flexcompute/tidy3d-docs/tidy3d/tidy3d/web/webapi.py#108\"><span style=\"color: #7f7f7f; text-decoration-color: #7f7f7f\">108</span></a>\n",
       "                    <span style=\"color: #008000; text-decoration-color: #008000\">'0edf094a-a812-46a2-954c-547ba2ea69be'</span>.                                  \n",
       "</pre>\n"
      ],
      "text/plain": [
       "\u001b[2;36m[14:55:03]\u001b[0m\u001b[2;36m \u001b[0m\u001b[34mINFO    \u001b[0m Uploaded task \u001b[32m'dispersion'\u001b[0m with task_id                     \u001b]8;id=311951;file:///Users/twhughes/Documents/Flexcompute/tidy3d-docs/tidy3d/tidy3d/web/webapi.py\u001b\\\u001b[2mwebapi.py\u001b[0m\u001b]8;;\u001b\\\u001b[2m:\u001b[0m\u001b]8;id=542636;file:///Users/twhughes/Documents/Flexcompute/tidy3d-docs/tidy3d/tidy3d/web/webapi.py#108\u001b\\\u001b[2m108\u001b[0m\u001b]8;;\u001b\\\n",
       "                    \u001b[32m'0edf094a-a812-46a2-954c-547ba2ea69be'\u001b[0m.                                  \n"
      ]
     },
     "metadata": {},
     "output_type": "display_data"
    },
    {
     "data": {
      "application/vnd.jupyter.widget-view+json": {
       "model_id": "",
       "version_major": 2,
       "version_minor": 0
      },
      "text/plain": [
       "Output()"
      ]
     },
     "metadata": {},
     "output_type": "display_data"
    },
    {
     "data": {
      "text/html": [
       "<pre style=\"white-space:pre;overflow-x:auto;line-height:normal;font-family:Menlo,'DejaVu Sans Mono',consolas,'Courier New',monospace\"><span style=\"color: #7fbfbf; text-decoration-color: #7fbfbf\">[14:55:04] </span>status = queued                                                      <a href=\"file:///Users/twhughes/Documents/Flexcompute/tidy3d-docs/tidy3d/tidy3d/web/webapi.py\"><span style=\"color: #7f7f7f; text-decoration-color: #7f7f7f\">webapi.py</span></a><span style=\"color: #7f7f7f; text-decoration-color: #7f7f7f\">:</span><a href=\"file:///Users/twhughes/Documents/Flexcompute/tidy3d-docs/tidy3d/tidy3d/web/webapi.py#202\"><span style=\"color: #7f7f7f; text-decoration-color: #7f7f7f\">202</span></a>\n",
       "</pre>\n"
      ],
      "text/plain": [
       "\u001b[2;36m[14:55:04]\u001b[0m\u001b[2;36m \u001b[0mstatus = queued                                                      \u001b]8;id=758527;file:///Users/twhughes/Documents/Flexcompute/tidy3d-docs/tidy3d/tidy3d/web/webapi.py\u001b\\\u001b[2mwebapi.py\u001b[0m\u001b]8;;\u001b\\\u001b[2m:\u001b[0m\u001b]8;id=213539;file:///Users/twhughes/Documents/Flexcompute/tidy3d-docs/tidy3d/tidy3d/web/webapi.py#202\u001b\\\u001b[2m202\u001b[0m\u001b]8;;\u001b\\\n"
      ]
     },
     "metadata": {},
     "output_type": "display_data"
    },
    {
     "data": {
      "text/html": [
       "<pre style=\"white-space:pre;overflow-x:auto;line-height:normal;font-family:Menlo,'DejaVu Sans Mono',consolas,'Courier New',monospace\"><span style=\"color: #7fbfbf; text-decoration-color: #7fbfbf\">[14:55:18] </span>status = preprocess                                                  <a href=\"file:///Users/twhughes/Documents/Flexcompute/tidy3d-docs/tidy3d/tidy3d/web/webapi.py\"><span style=\"color: #7f7f7f; text-decoration-color: #7f7f7f\">webapi.py</span></a><span style=\"color: #7f7f7f; text-decoration-color: #7f7f7f\">:</span><a href=\"file:///Users/twhughes/Documents/Flexcompute/tidy3d-docs/tidy3d/tidy3d/web/webapi.py#202\"><span style=\"color: #7f7f7f; text-decoration-color: #7f7f7f\">202</span></a>\n",
       "</pre>\n"
      ],
      "text/plain": [
       "\u001b[2;36m[14:55:18]\u001b[0m\u001b[2;36m \u001b[0mstatus = preprocess                                                  \u001b]8;id=217175;file:///Users/twhughes/Documents/Flexcompute/tidy3d-docs/tidy3d/tidy3d/web/webapi.py\u001b\\\u001b[2mwebapi.py\u001b[0m\u001b]8;;\u001b\\\u001b[2m:\u001b[0m\u001b]8;id=173370;file:///Users/twhughes/Documents/Flexcompute/tidy3d-docs/tidy3d/tidy3d/web/webapi.py#202\u001b\\\u001b[2m202\u001b[0m\u001b]8;;\u001b\\\n"
      ]
     },
     "metadata": {},
     "output_type": "display_data"
    },
    {
     "data": {
      "text/html": [
       "<pre style=\"white-space:pre;overflow-x:auto;line-height:normal;font-family:Menlo,'DejaVu Sans Mono',consolas,'Courier New',monospace\"><span style=\"color: #7fbfbf; text-decoration-color: #7fbfbf\">[14:55:43] </span>status = running                                                     <a href=\"file:///Users/twhughes/Documents/Flexcompute/tidy3d-docs/tidy3d/tidy3d/web/webapi.py\"><span style=\"color: #7f7f7f; text-decoration-color: #7f7f7f\">webapi.py</span></a><span style=\"color: #7f7f7f; text-decoration-color: #7f7f7f\">:</span><a href=\"file:///Users/twhughes/Documents/Flexcompute/tidy3d-docs/tidy3d/tidy3d/web/webapi.py#202\"><span style=\"color: #7f7f7f; text-decoration-color: #7f7f7f\">202</span></a>\n",
       "</pre>\n"
      ],
      "text/plain": [
       "\u001b[2;36m[14:55:43]\u001b[0m\u001b[2;36m \u001b[0mstatus = running                                                     \u001b]8;id=132828;file:///Users/twhughes/Documents/Flexcompute/tidy3d-docs/tidy3d/tidy3d/web/webapi.py\u001b\\\u001b[2mwebapi.py\u001b[0m\u001b]8;;\u001b\\\u001b[2m:\u001b[0m\u001b]8;id=669395;file:///Users/twhughes/Documents/Flexcompute/tidy3d-docs/tidy3d/tidy3d/web/webapi.py#202\u001b\\\u001b[2m202\u001b[0m\u001b]8;;\u001b\\\n"
      ]
     },
     "metadata": {},
     "output_type": "display_data"
    },
    {
     "data": {
      "text/html": [
       "<pre style=\"white-space:pre;overflow-x:auto;line-height:normal;font-family:Menlo,'DejaVu Sans Mono',consolas,'Courier New',monospace\"><span style=\"color: #7fbfbf; text-decoration-color: #7fbfbf\">[14:56:19] </span>status = postprocess                                                 <a href=\"file:///Users/twhughes/Documents/Flexcompute/tidy3d-docs/tidy3d/tidy3d/web/webapi.py\"><span style=\"color: #7f7f7f; text-decoration-color: #7f7f7f\">webapi.py</span></a><span style=\"color: #7f7f7f; text-decoration-color: #7f7f7f\">:</span><a href=\"file:///Users/twhughes/Documents/Flexcompute/tidy3d-docs/tidy3d/tidy3d/web/webapi.py#202\"><span style=\"color: #7f7f7f; text-decoration-color: #7f7f7f\">202</span></a>\n",
       "</pre>\n"
      ],
      "text/plain": [
       "\u001b[2;36m[14:56:19]\u001b[0m\u001b[2;36m \u001b[0mstatus = postprocess                                                 \u001b]8;id=988908;file:///Users/twhughes/Documents/Flexcompute/tidy3d-docs/tidy3d/tidy3d/web/webapi.py\u001b\\\u001b[2mwebapi.py\u001b[0m\u001b]8;;\u001b\\\u001b[2m:\u001b[0m\u001b]8;id=494756;file:///Users/twhughes/Documents/Flexcompute/tidy3d-docs/tidy3d/tidy3d/web/webapi.py#202\u001b\\\u001b[2m202\u001b[0m\u001b]8;;\u001b\\\n"
      ]
     },
     "metadata": {},
     "output_type": "display_data"
    },
    {
     "data": {
      "text/html": [
       "<pre style=\"white-space:pre;overflow-x:auto;line-height:normal;font-family:Menlo,'DejaVu Sans Mono',consolas,'Courier New',monospace\"><span style=\"color: #7fbfbf; text-decoration-color: #7fbfbf\">[14:56:44] </span>status = success                                                     <a href=\"file:///Users/twhughes/Documents/Flexcompute/tidy3d-docs/tidy3d/tidy3d/web/webapi.py\"><span style=\"color: #7f7f7f; text-decoration-color: #7f7f7f\">webapi.py</span></a><span style=\"color: #7f7f7f; text-decoration-color: #7f7f7f\">:</span><a href=\"file:///Users/twhughes/Documents/Flexcompute/tidy3d-docs/tidy3d/tidy3d/web/webapi.py#202\"><span style=\"color: #7f7f7f; text-decoration-color: #7f7f7f\">202</span></a>\n",
       "</pre>\n"
      ],
      "text/plain": [
       "\u001b[2;36m[14:56:44]\u001b[0m\u001b[2;36m \u001b[0mstatus = success                                                     \u001b]8;id=119666;file:///Users/twhughes/Documents/Flexcompute/tidy3d-docs/tidy3d/tidy3d/web/webapi.py\u001b\\\u001b[2mwebapi.py\u001b[0m\u001b]8;;\u001b\\\u001b[2m:\u001b[0m\u001b]8;id=270442;file:///Users/twhughes/Documents/Flexcompute/tidy3d-docs/tidy3d/tidy3d/web/webapi.py#202\u001b\\\u001b[2m202\u001b[0m\u001b]8;;\u001b\\\n"
      ]
     },
     "metadata": {},
     "output_type": "display_data"
    },
    {
     "data": {
      "text/html": [
       "<pre style=\"white-space:pre;overflow-x:auto;line-height:normal;font-family:Menlo,'DejaVu Sans Mono',consolas,'Courier New',monospace\"></pre>\n"
      ],
      "text/plain": []
     },
     "metadata": {},
     "output_type": "display_data"
    },
    {
     "data": {
      "text/html": [
       "<pre style=\"white-space:pre;overflow-x:auto;line-height:normal;font-family:Menlo,'DejaVu Sans Mono',consolas,'Courier New',monospace\"><span style=\"color: #7fbfbf; text-decoration-color: #7fbfbf\">[14:56:45] </span><span style=\"color: #000080; text-decoration-color: #000080\">INFO    </span> downloading file <span style=\"color: #008000; text-decoration-color: #008000\">\"monitor_data.hdf5\"</span> to                     <a href=\"file:///Users/twhughes/Documents/Flexcompute/tidy3d-docs/tidy3d/tidy3d/web/webapi.py\"><span style=\"color: #7f7f7f; text-decoration-color: #7f7f7f\">webapi.py</span></a><span style=\"color: #7f7f7f; text-decoration-color: #7f7f7f\">:</span><a href=\"file:///Users/twhughes/Documents/Flexcompute/tidy3d-docs/tidy3d/tidy3d/web/webapi.py#483\"><span style=\"color: #7f7f7f; text-decoration-color: #7f7f7f\">483</span></a>\n",
       "                    <span style=\"color: #008000; text-decoration-color: #008000\">\"data/sim_data.hdf5\"</span>                                                     \n",
       "</pre>\n"
      ],
      "text/plain": [
       "\u001b[2;36m[14:56:45]\u001b[0m\u001b[2;36m \u001b[0m\u001b[34mINFO    \u001b[0m downloading file \u001b[32m\"monitor_data.hdf5\"\u001b[0m to                     \u001b]8;id=391356;file:///Users/twhughes/Documents/Flexcompute/tidy3d-docs/tidy3d/tidy3d/web/webapi.py\u001b\\\u001b[2mwebapi.py\u001b[0m\u001b]8;;\u001b\\\u001b[2m:\u001b[0m\u001b]8;id=451519;file:///Users/twhughes/Documents/Flexcompute/tidy3d-docs/tidy3d/tidy3d/web/webapi.py#483\u001b\\\u001b[2m483\u001b[0m\u001b]8;;\u001b\\\n",
       "                    \u001b[32m\"data/sim_data.hdf5\"\u001b[0m                                                     \n"
      ]
     },
     "metadata": {},
     "output_type": "display_data"
    },
    {
     "data": {
      "application/vnd.jupyter.widget-view+json": {
       "model_id": "544152d1d6d34a6bab38665e5e4f5fdf",
       "version_major": 2,
       "version_minor": 0
      },
      "text/plain": [
       "Output()"
      ]
     },
     "metadata": {},
     "output_type": "display_data"
    },
    {
     "data": {
      "text/html": [
       "<pre style=\"white-space:pre;overflow-x:auto;line-height:normal;font-family:Menlo,'DejaVu Sans Mono',consolas,'Courier New',monospace\"><span style=\"color: #800000; text-decoration-color: #800000\">Downloading...</span> <span style=\"color: #729c1f; text-decoration-color: #729c1f\">━━━━━━━━━━━━━━━━━━━━━━━━━━━━━━━━━━━━━━━━</span> <span style=\"color: #800080; text-decoration-color: #800080\">100%</span> <span style=\"color: #008080; text-decoration-color: #008080\">0:00:00</span>\n",
       "</pre>\n"
      ],
      "text/plain": [
       "\u001b[31mDownloading...\u001b[0m \u001b[38;2;114;156;31m━━━━━━━━━━━━━━━━━━━━━━━━━━━━━━━━━━━━━━━━\u001b[0m \u001b[35m100%\u001b[0m \u001b[36m0:00:00\u001b[0m\n"
      ]
     },
     "metadata": {},
     "output_type": "display_data"
    },
    {
     "data": {
      "text/html": [
       "<pre style=\"white-space:pre;overflow-x:auto;line-height:normal;font-family:Menlo,'DejaVu Sans Mono',consolas,'Courier New',monospace\">\n",
       "</pre>\n"
      ],
      "text/plain": [
       "\n"
      ]
     },
     "metadata": {},
     "output_type": "display_data"
    },
    {
     "data": {
      "text/html": [
       "<pre style=\"white-space:pre;overflow-x:auto;line-height:normal;font-family:Menlo,'DejaVu Sans Mono',consolas,'Courier New',monospace\"><span style=\"color: #7fbfbf; text-decoration-color: #7fbfbf\">           </span><span style=\"color: #000080; text-decoration-color: #000080\">INFO    </span> loading SimulationData from data/sim_data.hdf5              <a href=\"file:///Users/twhughes/Documents/Flexcompute/tidy3d-docs/tidy3d/tidy3d/web/webapi.py\"><span style=\"color: #7f7f7f; text-decoration-color: #7f7f7f\">webapi.py</span></a><span style=\"color: #7f7f7f; text-decoration-color: #7f7f7f\">:</span><a href=\"file:///Users/twhughes/Documents/Flexcompute/tidy3d-docs/tidy3d/tidy3d/web/webapi.py#302\"><span style=\"color: #7f7f7f; text-decoration-color: #7f7f7f\">302</span></a>\n",
       "</pre>\n"
      ],
      "text/plain": [
       "\u001b[2;36m          \u001b[0m\u001b[2;36m \u001b[0m\u001b[34mINFO    \u001b[0m loading SimulationData from data/sim_data.hdf5              \u001b]8;id=993598;file:///Users/twhughes/Documents/Flexcompute/tidy3d-docs/tidy3d/tidy3d/web/webapi.py\u001b\\\u001b[2mwebapi.py\u001b[0m\u001b]8;;\u001b\\\u001b[2m:\u001b[0m\u001b]8;id=123121;file:///Users/twhughes/Documents/Flexcompute/tidy3d-docs/tidy3d/tidy3d/web/webapi.py#302\u001b\\\u001b[2m302\u001b[0m\u001b]8;;\u001b\\\n"
      ]
     },
     "metadata": {},
     "output_type": "display_data"
    },
    {
     "data": {
      "text/html": [
       "<pre style=\"white-space:pre;overflow-x:auto;line-height:normal;font-family:Menlo,'DejaVu Sans Mono',consolas,'Courier New',monospace\"><span style=\"color: #7fbfbf; text-decoration-color: #7fbfbf\">           </span><span style=\"color: #800000; text-decoration-color: #800000\">WARNING </span> A medium in the simulation:                             <a href=\"file:///Users/twhughes/Documents/Flexcompute/tidy3d-docs/tidy3d/tidy3d/components/simulation.py\"><span style=\"color: #7f7f7f; text-decoration-color: #7f7f7f\">simulation.py</span></a><span style=\"color: #7f7f7f; text-decoration-color: #7f7f7f\">:</span><a href=\"file:///Users/twhughes/Documents/Flexcompute/tidy3d-docs/tidy3d/tidy3d/components/simulation.py#344\"><span style=\"color: #7f7f7f; text-decoration-color: #7f7f7f\">344</span></a>\n",
       "                                                                                             \n",
       "                    <span style=\"font-weight: bold\">(</span><span style=\"color: #800080; text-decoration-color: #800080; font-weight: bold\">td.PoleResidue</span><span style=\"font-weight: bold\">(</span>                                                         \n",
       "                            <span style=\"color: #808000; text-decoration-color: #808000\">poles</span>=<span style=\"font-weight: bold\">[(</span><span style=\"color: #008080; text-decoration-color: #008080; font-weight: bold\">2.</span>431642149296798e+16j,                                  \n",
       "                    <span style=\"font-weight: bold\">(</span><span style=\"color: #008080; text-decoration-color: #008080; font-weight: bold\">-0</span>-<span style=\"color: #008080; text-decoration-color: #008080; font-weight: bold\">1.</span>2639823249559002e+16j<span style=\"font-weight: bold\">))</span>,                                           \n",
       "                    <span style=\"font-weight: bold\">(</span><span style=\"color: #008080; text-decoration-color: #008080; font-weight: bold\">1.</span>3313466757556814e+16j, <span style=\"font-weight: bold\">(</span><span style=\"color: #008080; text-decoration-color: #008080; font-weight: bold\">-0</span>-1542979833250087j<span style=\"font-weight: bold\">))</span>,                       \n",
       "                    <span style=\"font-weight: bold\">(</span><span style=\"color: #008080; text-decoration-color: #008080; font-weight: bold\">185098620483566.</span>44j, <span style=\"font-weight: bold\">(</span><span style=\"color: #008080; text-decoration-color: #008080; font-weight: bold\">-0</span>-<span style=\"color: #008080; text-decoration-color: #008080; font-weight: bold\">93518250617894.</span>06j<span style=\"font-weight: bold\">))]</span>,                         \n",
       "                            <span style=\"color: #808000; text-decoration-color: #808000\">frequency_range</span>=<span style=\"font-weight: bold\">(</span><span style=\"color: #008080; text-decoration-color: #008080; font-weight: bold\">119916983432378.72</span>,                             \n",
       "                    <span style=\"color: #008080; text-decoration-color: #008080; font-weight: bold\">999308195269822.8</span><span style=\"font-weight: bold\">)))</span>                                                     \n",
       "                                                                                             \n",
       "                    has a frequency range that does not fully cover the                      \n",
       "                    spectrum of a source:                                                    \n",
       "                                                                                             \n",
       "                    <span style=\"font-weight: bold\">(</span><span style=\"color: #808000; text-decoration-color: #808000\">center</span>=<span style=\"font-weight: bold\">(</span><span style=\"color: #008080; text-decoration-color: #008080; font-weight: bold\">0.0</span>, <span style=\"color: #008080; text-decoration-color: #008080; font-weight: bold\">0.0</span>, <span style=\"color: #008080; text-decoration-color: #008080; font-weight: bold\">-2.2</span><span style=\"font-weight: bold\">)</span> <span style=\"color: #808000; text-decoration-color: #808000\">type</span>=<span style=\"color: #008000; text-decoration-color: #008000\">'PlaneWave'</span>                                \n",
       "                    <span style=\"color: #808000; text-decoration-color: #808000\">size</span>=<span style=\"font-weight: bold\">(</span><span style=\"color: #008080; text-decoration-color: #008080; font-weight: bold\">1.0000000200408773e+20</span>, <span style=\"color: #008080; text-decoration-color: #008080; font-weight: bold\">1.0000000200408773e+20</span>,                    \n",
       "                    <span style=\"color: #008080; text-decoration-color: #008080; font-weight: bold\">0.0</span><span style=\"font-weight: bold\">)</span> <span style=\"color: #808000; text-decoration-color: #808000\">source_time</span>=<span style=\"color: #800080; text-decoration-color: #800080; font-weight: bold\">GaussianPulse</span><span style=\"font-weight: bold\">(</span><span style=\"color: #808000; text-decoration-color: #808000\">amplitude</span>=<span style=\"color: #008080; text-decoration-color: #008080; font-weight: bold\">1.0</span>,                            \n",
       "                    <span style=\"color: #808000; text-decoration-color: #808000\">phase</span>=<span style=\"color: #008080; text-decoration-color: #008080; font-weight: bold\">0.0</span>, <span style=\"color: #808000; text-decoration-color: #808000\">type</span>=<span style=\"color: #008000; text-decoration-color: #008000\">'GaussianPulse'</span>,                                         \n",
       "                    <span style=\"color: #808000; text-decoration-color: #808000\">freq0</span>=<span style=\"color: #008080; text-decoration-color: #008080; font-weight: bold\">399723278107929.1</span>, <span style=\"color: #808000; text-decoration-color: #808000\">fwidth</span>=<span style=\"color: #008080; text-decoration-color: #008080; font-weight: bold\">119916983432378.73</span>,                      \n",
       "                    <span style=\"color: #808000; text-decoration-color: #808000\">offset</span>=<span style=\"color: #008080; text-decoration-color: #008080; font-weight: bold\">5.0</span><span style=\"font-weight: bold\">)</span> <span style=\"color: #808000; text-decoration-color: #808000\">name</span>=<span style=\"color: #800080; text-decoration-color: #800080; font-style: italic\">None</span> <span style=\"color: #808000; text-decoration-color: #808000\">direction</span>=<span style=\"color: #008000; text-decoration-color: #008000\">'+'</span> <span style=\"color: #808000; text-decoration-color: #808000\">pol_angle</span>=<span style=\"color: #008080; text-decoration-color: #008080; font-weight: bold\">0.0</span><span style=\"font-weight: bold\">)</span>                       \n",
       "                                                                                             \n",
       "                    This can cause innacuracies in the simulation results.                   \n",
       "</pre>\n"
      ],
      "text/plain": [
       "\u001b[2;36m          \u001b[0m\u001b[2;36m \u001b[0m\u001b[31mWARNING \u001b[0m A medium in the simulation:                             \u001b]8;id=972131;file:///Users/twhughes/Documents/Flexcompute/tidy3d-docs/tidy3d/tidy3d/components/simulation.py\u001b\\\u001b[2msimulation.py\u001b[0m\u001b]8;;\u001b\\\u001b[2m:\u001b[0m\u001b]8;id=101020;file:///Users/twhughes/Documents/Flexcompute/tidy3d-docs/tidy3d/tidy3d/components/simulation.py#344\u001b\\\u001b[2m344\u001b[0m\u001b]8;;\u001b\\\n",
       "                                                                                             \n",
       "                    \u001b[1m(\u001b[0m\u001b[1;35mtd.PoleResidue\u001b[0m\u001b[1m(\u001b[0m                                                         \n",
       "                            \u001b[33mpoles\u001b[0m=\u001b[1m[\u001b[0m\u001b[1m(\u001b[0m\u001b[1;36m2.\u001b[0m431642149296798e+16j,                                  \n",
       "                    \u001b[1m(\u001b[0m\u001b[1;36m-0\u001b[0m-\u001b[1;36m1.\u001b[0m2639823249559002e+16j\u001b[1m)\u001b[0m\u001b[1m)\u001b[0m,                                           \n",
       "                    \u001b[1m(\u001b[0m\u001b[1;36m1.\u001b[0m3313466757556814e+16j, \u001b[1m(\u001b[0m\u001b[1;36m-0\u001b[0m-1542979833250087j\u001b[1m)\u001b[0m\u001b[1m)\u001b[0m,                       \n",
       "                    \u001b[1m(\u001b[0m\u001b[1;36m185098620483566.\u001b[0m44j, \u001b[1m(\u001b[0m\u001b[1;36m-0\u001b[0m-\u001b[1;36m93518250617894.\u001b[0m06j\u001b[1m)\u001b[0m\u001b[1m)\u001b[0m\u001b[1m]\u001b[0m,                         \n",
       "                            \u001b[33mfrequency_range\u001b[0m=\u001b[1m(\u001b[0m\u001b[1;36m119916983432378.72\u001b[0m,                             \n",
       "                    \u001b[1;36m999308195269822.8\u001b[0m\u001b[1m)\u001b[0m\u001b[1m)\u001b[0m\u001b[1m)\u001b[0m                                                     \n",
       "                                                                                             \n",
       "                    has a frequency range that does not fully cover the                      \n",
       "                    spectrum of a source:                                                    \n",
       "                                                                                             \n",
       "                    \u001b[1m(\u001b[0m\u001b[33mcenter\u001b[0m=\u001b[1m(\u001b[0m\u001b[1;36m0.0\u001b[0m, \u001b[1;36m0.0\u001b[0m, \u001b[1;36m-2.2\u001b[0m\u001b[1m)\u001b[0m \u001b[33mtype\u001b[0m=\u001b[32m'PlaneWave'\u001b[0m                                \n",
       "                    \u001b[33msize\u001b[0m=\u001b[1m(\u001b[0m\u001b[1;36m1.0000000200408773e+20\u001b[0m, \u001b[1;36m1.0000000200408773e+20\u001b[0m,                    \n",
       "                    \u001b[1;36m0.0\u001b[0m\u001b[1m)\u001b[0m \u001b[33msource_time\u001b[0m=\u001b[1;35mGaussianPulse\u001b[0m\u001b[1m(\u001b[0m\u001b[33mamplitude\u001b[0m=\u001b[1;36m1\u001b[0m\u001b[1;36m.0\u001b[0m,                            \n",
       "                    \u001b[33mphase\u001b[0m=\u001b[1;36m0\u001b[0m\u001b[1;36m.0\u001b[0m, \u001b[33mtype\u001b[0m=\u001b[32m'GaussianPulse'\u001b[0m,                                         \n",
       "                    \u001b[33mfreq0\u001b[0m=\u001b[1;36m399723278107929\u001b[0m\u001b[1;36m.1\u001b[0m, \u001b[33mfwidth\u001b[0m=\u001b[1;36m119916983432378\u001b[0m\u001b[1;36m.73\u001b[0m,                      \n",
       "                    \u001b[33moffset\u001b[0m=\u001b[1;36m5\u001b[0m\u001b[1;36m.0\u001b[0m\u001b[1m)\u001b[0m \u001b[33mname\u001b[0m=\u001b[3;35mNone\u001b[0m \u001b[33mdirection\u001b[0m=\u001b[32m'+'\u001b[0m \u001b[33mpol_angle\u001b[0m=\u001b[1;36m0\u001b[0m\u001b[1;36m.0\u001b[0m\u001b[1m)\u001b[0m                       \n",
       "                                                                                             \n",
       "                    This can cause innacuracies in the simulation results.                   \n"
      ]
     },
     "metadata": {},
     "output_type": "display_data"
    }
   ],
   "source": [
    "sim_data = web.run(sim, task_name='dispersion', path='data/sim_data.hdf5')"
   ]
  },
  {
   "cell_type": "markdown",
   "metadata": {},
   "source": [
    "## Postprocess and Plot\n",
    "\n",
    "Once the simulation has completed, we can download the results and load them into the simulation object."
   ]
  },
  {
   "cell_type": "markdown",
   "metadata": {},
   "source": [
    "Now, we compute the transmitted flux and plot the transmission spectrum."
   ]
  },
  {
   "cell_type": "code",
   "execution_count": 12,
   "metadata": {
    "tags": []
   },
   "outputs": [
    {
     "data": {
      "image/png": "[encoded data removed]"
     },
     "metadata": {
      "needs_background": "light"
     },
     "output_type": "display_data"
    }
   ],
   "source": [
    "# Retrieve the power flux through the monitor plane.\n",
    "transmission = sim_data['flux']\n",
    "plt.plot(monitor_lambdas, transmission, color='k')\n",
    "plt.xlabel('wavelength (um)')\n",
    "plt.ylabel('transmitted flux')\n",
    "plt.show()"
   ]
  },
  {
   "cell_type": "markdown",
   "metadata": {},
   "source": [
    "To get power transmission, we need to do a normalizing run without any slab and divide by that result"
   ]
  },
  {
   "cell_type": "code",
   "execution_count": 13,
   "metadata": {
    "tags": []
   },
   "outputs": [
    {
     "data": {
      "text/html": [
       "<pre style=\"white-space:pre;overflow-x:auto;line-height:normal;font-family:Menlo,'DejaVu Sans Mono',consolas,'Courier New',monospace\"><span style=\"color: #7fbfbf; text-decoration-color: #7fbfbf\">[14:56:46] </span><span style=\"color: #000080; text-decoration-color: #000080\">INFO    </span> Uploaded task <span style=\"color: #008000; text-decoration-color: #008000\">'docs_dispersion_norm'</span> with task_id           <a href=\"file:///Users/twhughes/Documents/Flexcompute/tidy3d-docs/tidy3d/tidy3d/web/webapi.py\"><span style=\"color: #7f7f7f; text-decoration-color: #7f7f7f\">webapi.py</span></a><span style=\"color: #7f7f7f; text-decoration-color: #7f7f7f\">:</span><a href=\"file:///Users/twhughes/Documents/Flexcompute/tidy3d-docs/tidy3d/tidy3d/web/webapi.py#108\"><span style=\"color: #7f7f7f; text-decoration-color: #7f7f7f\">108</span></a>\n",
       "                    <span style=\"color: #008000; text-decoration-color: #008000\">'f44425c3-16b6-41e6-8686-fb6e4207f9f2'</span>.                                  \n",
       "</pre>\n"
      ],
      "text/plain": [
       "\u001b[2;36m[14:56:46]\u001b[0m\u001b[2;36m \u001b[0m\u001b[34mINFO    \u001b[0m Uploaded task \u001b[32m'docs_dispersion_norm'\u001b[0m with task_id           \u001b]8;id=991026;file:///Users/twhughes/Documents/Flexcompute/tidy3d-docs/tidy3d/tidy3d/web/webapi.py\u001b\\\u001b[2mwebapi.py\u001b[0m\u001b]8;;\u001b\\\u001b[2m:\u001b[0m\u001b]8;id=248926;file:///Users/twhughes/Documents/Flexcompute/tidy3d-docs/tidy3d/tidy3d/web/webapi.py#108\u001b\\\u001b[2m108\u001b[0m\u001b]8;;\u001b\\\n",
       "                    \u001b[32m'f44425c3-16b6-41e6-8686-fb6e4207f9f2'\u001b[0m.                                  \n"
      ]
     },
     "metadata": {},
     "output_type": "display_data"
    },
    {
     "data": {
      "application/vnd.jupyter.widget-view+json": {
       "model_id": "",
       "version_major": 2,
       "version_minor": 0
      },
      "text/plain": [
       "Output()"
      ]
     },
     "metadata": {},
     "output_type": "display_data"
    },
    {
     "data": {
      "text/html": [
       "<pre style=\"white-space:pre;overflow-x:auto;line-height:normal;font-family:Menlo,'DejaVu Sans Mono',consolas,'Courier New',monospace\"><span style=\"color: #7fbfbf; text-decoration-color: #7fbfbf\">[14:56:47] </span>status = queued                                                      <a href=\"file:///Users/twhughes/Documents/Flexcompute/tidy3d-docs/tidy3d/tidy3d/web/webapi.py\"><span style=\"color: #7f7f7f; text-decoration-color: #7f7f7f\">webapi.py</span></a><span style=\"color: #7f7f7f; text-decoration-color: #7f7f7f\">:</span><a href=\"file:///Users/twhughes/Documents/Flexcompute/tidy3d-docs/tidy3d/tidy3d/web/webapi.py#202\"><span style=\"color: #7f7f7f; text-decoration-color: #7f7f7f\">202</span></a>\n",
       "</pre>\n"
      ],
      "text/plain": [
       "\u001b[2;36m[14:56:47]\u001b[0m\u001b[2;36m \u001b[0mstatus = queued                                                      \u001b]8;id=789415;file:///Users/twhughes/Documents/Flexcompute/tidy3d-docs/tidy3d/tidy3d/web/webapi.py\u001b\\\u001b[2mwebapi.py\u001b[0m\u001b]8;;\u001b\\\u001b[2m:\u001b[0m\u001b]8;id=51703;file:///Users/twhughes/Documents/Flexcompute/tidy3d-docs/tidy3d/tidy3d/web/webapi.py#202\u001b\\\u001b[2m202\u001b[0m\u001b]8;;\u001b\\\n"
      ]
     },
     "metadata": {},
     "output_type": "display_data"
    },
    {
     "data": {
      "text/html": [
       "<pre style=\"white-space:pre;overflow-x:auto;line-height:normal;font-family:Menlo,'DejaVu Sans Mono',consolas,'Courier New',monospace\"><span style=\"color: #7fbfbf; text-decoration-color: #7fbfbf\">[14:57:00] </span>status = preprocess                                                  <a href=\"file:///Users/twhughes/Documents/Flexcompute/tidy3d-docs/tidy3d/tidy3d/web/webapi.py\"><span style=\"color: #7f7f7f; text-decoration-color: #7f7f7f\">webapi.py</span></a><span style=\"color: #7f7f7f; text-decoration-color: #7f7f7f\">:</span><a href=\"file:///Users/twhughes/Documents/Flexcompute/tidy3d-docs/tidy3d/tidy3d/web/webapi.py#202\"><span style=\"color: #7f7f7f; text-decoration-color: #7f7f7f\">202</span></a>\n",
       "</pre>\n"
      ],
      "text/plain": [
       "\u001b[2;36m[14:57:00]\u001b[0m\u001b[2;36m \u001b[0mstatus = preprocess                                                  \u001b]8;id=173414;file:///Users/twhughes/Documents/Flexcompute/tidy3d-docs/tidy3d/tidy3d/web/webapi.py\u001b\\\u001b[2mwebapi.py\u001b[0m\u001b]8;;\u001b\\\u001b[2m:\u001b[0m\u001b]8;id=102020;file:///Users/twhughes/Documents/Flexcompute/tidy3d-docs/tidy3d/tidy3d/web/webapi.py#202\u001b\\\u001b[2m202\u001b[0m\u001b]8;;\u001b\\\n"
      ]
     },
     "metadata": {},
     "output_type": "display_data"
    },
    {
     "data": {
      "text/html": [
       "<pre style=\"white-space:pre;overflow-x:auto;line-height:normal;font-family:Menlo,'DejaVu Sans Mono',consolas,'Courier New',monospace\"><span style=\"color: #7fbfbf; text-decoration-color: #7fbfbf\">[14:57:19] </span>status = running                                                     <a href=\"file:///Users/twhughes/Documents/Flexcompute/tidy3d-docs/tidy3d/tidy3d/web/webapi.py\"><span style=\"color: #7f7f7f; text-decoration-color: #7f7f7f\">webapi.py</span></a><span style=\"color: #7f7f7f; text-decoration-color: #7f7f7f\">:</span><a href=\"file:///Users/twhughes/Documents/Flexcompute/tidy3d-docs/tidy3d/tidy3d/web/webapi.py#202\"><span style=\"color: #7f7f7f; text-decoration-color: #7f7f7f\">202</span></a>\n",
       "</pre>\n"
      ],
      "text/plain": [
       "\u001b[2;36m[14:57:19]\u001b[0m\u001b[2;36m \u001b[0mstatus = running                                                     \u001b]8;id=798777;file:///Users/twhughes/Documents/Flexcompute/tidy3d-docs/tidy3d/tidy3d/web/webapi.py\u001b\\\u001b[2mwebapi.py\u001b[0m\u001b]8;;\u001b\\\u001b[2m:\u001b[0m\u001b]8;id=538071;file:///Users/twhughes/Documents/Flexcompute/tidy3d-docs/tidy3d/tidy3d/web/webapi.py#202\u001b\\\u001b[2m202\u001b[0m\u001b]8;;\u001b\\\n"
      ]
     },
     "metadata": {},
     "output_type": "display_data"
    },
    {
     "data": {
      "text/html": [
       "<pre style=\"white-space:pre;overflow-x:auto;line-height:normal;font-family:Menlo,'DejaVu Sans Mono',consolas,'Courier New',monospace\"><span style=\"color: #7fbfbf; text-decoration-color: #7fbfbf\">[14:57:34] </span>status = postprocess                                                 <a href=\"file:///Users/twhughes/Documents/Flexcompute/tidy3d-docs/tidy3d/tidy3d/web/webapi.py\"><span style=\"color: #7f7f7f; text-decoration-color: #7f7f7f\">webapi.py</span></a><span style=\"color: #7f7f7f; text-decoration-color: #7f7f7f\">:</span><a href=\"file:///Users/twhughes/Documents/Flexcompute/tidy3d-docs/tidy3d/tidy3d/web/webapi.py#202\"><span style=\"color: #7f7f7f; text-decoration-color: #7f7f7f\">202</span></a>\n",
       "</pre>\n"
      ],
      "text/plain": [
       "\u001b[2;36m[14:57:34]\u001b[0m\u001b[2;36m \u001b[0mstatus = postprocess                                                 \u001b]8;id=538514;file:///Users/twhughes/Documents/Flexcompute/tidy3d-docs/tidy3d/tidy3d/web/webapi.py\u001b\\\u001b[2mwebapi.py\u001b[0m\u001b]8;;\u001b\\\u001b[2m:\u001b[0m\u001b]8;id=937621;file:///Users/twhughes/Documents/Flexcompute/tidy3d-docs/tidy3d/tidy3d/web/webapi.py#202\u001b\\\u001b[2m202\u001b[0m\u001b]8;;\u001b\\\n"
      ]
     },
     "metadata": {},
     "output_type": "display_data"
    },
    {
     "data": {
      "text/html": [
       "<pre style=\"white-space:pre;overflow-x:auto;line-height:normal;font-family:Menlo,'DejaVu Sans Mono',consolas,'Courier New',monospace\"><span style=\"color: #7fbfbf; text-decoration-color: #7fbfbf\">[14:57:50] </span>status = success                                                     <a href=\"file:///Users/twhughes/Documents/Flexcompute/tidy3d-docs/tidy3d/tidy3d/web/webapi.py\"><span style=\"color: #7f7f7f; text-decoration-color: #7f7f7f\">webapi.py</span></a><span style=\"color: #7f7f7f; text-decoration-color: #7f7f7f\">:</span><a href=\"file:///Users/twhughes/Documents/Flexcompute/tidy3d-docs/tidy3d/tidy3d/web/webapi.py#202\"><span style=\"color: #7f7f7f; text-decoration-color: #7f7f7f\">202</span></a>\n",
       "</pre>\n"
      ],
      "text/plain": [
       "\u001b[2;36m[14:57:50]\u001b[0m\u001b[2;36m \u001b[0mstatus = success                                                     \u001b]8;id=547559;file:///Users/twhughes/Documents/Flexcompute/tidy3d-docs/tidy3d/tidy3d/web/webapi.py\u001b\\\u001b[2mwebapi.py\u001b[0m\u001b]8;;\u001b\\\u001b[2m:\u001b[0m\u001b]8;id=249970;file:///Users/twhughes/Documents/Flexcompute/tidy3d-docs/tidy3d/tidy3d/web/webapi.py#202\u001b\\\u001b[2m202\u001b[0m\u001b]8;;\u001b\\\n"
      ]
     },
     "metadata": {},
     "output_type": "display_data"
    },
    {
     "data": {
      "text/html": [
       "<pre style=\"white-space:pre;overflow-x:auto;line-height:normal;font-family:Menlo,'DejaVu Sans Mono',consolas,'Courier New',monospace\"></pre>\n"
      ],
      "text/plain": []
     },
     "metadata": {},
     "output_type": "display_data"
    },
    {
     "data": {
      "text/html": [
       "<pre style=\"white-space:pre;overflow-x:auto;line-height:normal;font-family:Menlo,'DejaVu Sans Mono',consolas,'Courier New',monospace\"><span style=\"color: #7fbfbf; text-decoration-color: #7fbfbf\">[14:57:51] </span><span style=\"color: #000080; text-decoration-color: #000080\">INFO    </span> downloading file <span style=\"color: #008000; text-decoration-color: #008000\">\"monitor_data.hdf5\"</span> to                     <a href=\"file:///Users/twhughes/Documents/Flexcompute/tidy3d-docs/tidy3d/tidy3d/web/webapi.py\"><span style=\"color: #7f7f7f; text-decoration-color: #7f7f7f\">webapi.py</span></a><span style=\"color: #7f7f7f; text-decoration-color: #7f7f7f\">:</span><a href=\"file:///Users/twhughes/Documents/Flexcompute/tidy3d-docs/tidy3d/tidy3d/web/webapi.py#483\"><span style=\"color: #7f7f7f; text-decoration-color: #7f7f7f\">483</span></a>\n",
       "                    <span style=\"color: #008000; text-decoration-color: #008000\">\"data/sim_data.hdf5\"</span>                                                     \n",
       "</pre>\n"
      ],
      "text/plain": [
       "\u001b[2;36m[14:57:51]\u001b[0m\u001b[2;36m \u001b[0m\u001b[34mINFO    \u001b[0m downloading file \u001b[32m\"monitor_data.hdf5\"\u001b[0m to                     \u001b]8;id=196799;file:///Users/twhughes/Documents/Flexcompute/tidy3d-docs/tidy3d/tidy3d/web/webapi.py\u001b\\\u001b[2mwebapi.py\u001b[0m\u001b]8;;\u001b\\\u001b[2m:\u001b[0m\u001b]8;id=331679;file:///Users/twhughes/Documents/Flexcompute/tidy3d-docs/tidy3d/tidy3d/web/webapi.py#483\u001b\\\u001b[2m483\u001b[0m\u001b]8;;\u001b\\\n",
       "                    \u001b[32m\"data/sim_data.hdf5\"\u001b[0m                                                     \n"
      ]
     },
     "metadata": {},
     "output_type": "display_data"
    },
    {
     "data": {
      "application/vnd.jupyter.widget-view+json": {
       "model_id": "fa3c812264244d589a5d40c398191852",
       "version_major": 2,
       "version_minor": 0
      },
      "text/plain": [
       "Output()"
      ]
     },
     "metadata": {},
     "output_type": "display_data"
    },
    {
     "data": {
      "text/html": [
       "<pre style=\"white-space:pre;overflow-x:auto;line-height:normal;font-family:Menlo,'DejaVu Sans Mono',consolas,'Courier New',monospace\"><span style=\"color: #800000; text-decoration-color: #800000\">Downloading...</span> <span style=\"color: #729c1f; text-decoration-color: #729c1f\">━━━━━━━━━━━━━━━━━━━━━━━━━━━━━━━━━━━━━━━━</span> <span style=\"color: #800080; text-decoration-color: #800080\">100%</span> <span style=\"color: #008080; text-decoration-color: #008080\">0:00:00</span>\n",
       "</pre>\n"
      ],
      "text/plain": [
       "\u001b[31mDownloading...\u001b[0m \u001b[38;2;114;156;31m━━━━━━━━━━━━━━━━━━━━━━━━━━━━━━━━━━━━━━━━\u001b[0m \u001b[35m100%\u001b[0m \u001b[36m0:00:00\u001b[0m\n"
      ]
     },
     "metadata": {},
     "output_type": "display_data"
    },
    {
     "data": {
      "text/html": [
       "<pre style=\"white-space:pre;overflow-x:auto;line-height:normal;font-family:Menlo,'DejaVu Sans Mono',consolas,'Courier New',monospace\">\n",
       "</pre>\n"
      ],
      "text/plain": [
       "\n"
      ]
     },
     "metadata": {},
     "output_type": "display_data"
    },
    {
     "data": {
      "text/html": [
       "<pre style=\"white-space:pre;overflow-x:auto;line-height:normal;font-family:Menlo,'DejaVu Sans Mono',consolas,'Courier New',monospace\"><span style=\"color: #7fbfbf; text-decoration-color: #7fbfbf\">           </span><span style=\"color: #000080; text-decoration-color: #000080\">INFO    </span> loading SimulationData from data/sim_data.hdf5              <a href=\"file:///Users/twhughes/Documents/Flexcompute/tidy3d-docs/tidy3d/tidy3d/web/webapi.py\"><span style=\"color: #7f7f7f; text-decoration-color: #7f7f7f\">webapi.py</span></a><span style=\"color: #7f7f7f; text-decoration-color: #7f7f7f\">:</span><a href=\"file:///Users/twhughes/Documents/Flexcompute/tidy3d-docs/tidy3d/tidy3d/web/webapi.py#302\"><span style=\"color: #7f7f7f; text-decoration-color: #7f7f7f\">302</span></a>\n",
       "</pre>\n"
      ],
      "text/plain": [
       "\u001b[2;36m          \u001b[0m\u001b[2;36m \u001b[0m\u001b[34mINFO    \u001b[0m loading SimulationData from data/sim_data.hdf5              \u001b]8;id=490550;file:///Users/twhughes/Documents/Flexcompute/tidy3d-docs/tidy3d/tidy3d/web/webapi.py\u001b\\\u001b[2mwebapi.py\u001b[0m\u001b]8;;\u001b\\\u001b[2m:\u001b[0m\u001b]8;id=108273;file:///Users/twhughes/Documents/Flexcompute/tidy3d-docs/tidy3d/tidy3d/web/webapi.py#302\u001b\\\u001b[2m302\u001b[0m\u001b]8;;\u001b\\\n"
      ]
     },
     "metadata": {},
     "output_type": "display_data"
    }
   ],
   "source": [
    "sim_norm = sim.copy(deep=True)\n",
    "sim_norm.structures = []\n",
    "\n",
    "sim_data_norm = web.run(sim_norm, task_name='docs_dispersion_norm', path='data/sim_data.hdf5')\n",
    "transmission_norm = sim_data_norm['flux']"
   ]
  },
  {
   "cell_type": "code",
   "execution_count": 14,
   "metadata": {
    "tags": []
   },
   "outputs": [
    {
     "data": {
      "image/png": "[encoded data removed]"
     },
     "metadata": {
      "needs_background": "light"
     },
     "output_type": "display_data"
    }
   ],
   "source": [
    "plt.plot(monitor_lambdas, transmission, label='with structure')\n",
    "plt.plot(monitor_lambdas, transmission_norm, label='no structure')\n",
    "plt.plot(monitor_lambdas, transmission / transmission_norm, 'k--', label='normalized')\n",
    "plt.legend()\n",
    "plt.xlabel('wavelength (um)')\n",
    "plt.ylabel('fraction of transmitted power (normalized)')\n",
    "plt.show()"
   ]
  },
  {
   "cell_type": "markdown",
   "metadata": {},
   "source": [
    "We see that since the flux monitor already takes the source power into account, the normalizing run doens't affect the calculation much, but it is prudent to include for broadband calculations."
   ]
  },
  {
   "cell_type": "markdown",
   "metadata": {},
   "source": [
    "## Analytical Comparison\n",
    "\n",
    "We will use a transfer matrix method (TMM) [code](https://github.com/sbyrnes321/tmm) to compare tidy3d transmission to a semi-analytical result."
   ]
  },
  {
   "cell_type": "code",
   "execution_count": 15,
   "metadata": {
    "tags": []
   },
   "outputs": [],
   "source": [
    "# import TMM package\n",
    "import tmm"
   ]
  },
  {
   "cell_type": "code",
   "execution_count": 16,
   "metadata": {},
   "outputs": [],
   "source": [
    "# prepare list of thicknesses including air boundaries\n",
    "d_list = [np.inf] + t_slabs + [np.inf]\n",
    "\n",
    "# convert the complex permittivities at each frequency to refractive indices\n",
    "n_list1 = np.sqrt(mat1.eps_model(monitor_freqs))\n",
    "n_list2 = np.sqrt(mat2.eps_model(monitor_freqs))\n",
    "n_list3 = np.sqrt(mat3.eps_model(monitor_freqs))\n",
    "n_list4 = np.sqrt(mat4.eps_model(monitor_freqs))\n",
    "\n",
    "# loop through wavelength and record TMM computed transmission\n",
    "transmission_tmm = [] \n",
    "for i, lam in enumerate(monitor_lambdas):\n",
    "    \n",
    "    # create list of refractive index at this wavelength including outer material (air)\n",
    "    n_list = [1, n_list1[i], n_list2[i], n_list3[i], n_list4[i], 1]\n",
    "\n",
    "    # get transmission at normal incidence\n",
    "    T = tmm.coh_tmm('s', n_list, d_list, 0, lam)['T']\n",
    "    transmission_tmm.append(T)"
   ]
  },
  {
   "cell_type": "code",
   "execution_count": 17,
   "metadata": {
    "tags": []
   },
   "outputs": [
    {
     "data": {
      "image/png": "[encoded data removed]"
     },
     "metadata": {
      "needs_background": "light"
     },
     "output_type": "display_data"
    }
   ],
   "source": [
    "plt.figure()\n",
    "plt.plot(monitor_lambdas, transmission_tmm, label='TMM')\n",
    "plt.plot(monitor_lambdas, transmission / transmission_norm, 'k--', label='Tidy3D')\n",
    "plt.xlabel('wavelength ($\\mu m$)')\n",
    "plt.ylabel('Transmitted')\n",
    "plt.legend()\n",
    "plt.show()"
   ]
  }
 ],
 "metadata": {
  "kernelspec": {
   "display_name": "Python 3 (ipykernel)",
   "language": "python",
   "name": "python3"
  },
  "language_info": {
   "codemirror_mode": {
    "name": "ipython",
    "version": 3
   },
   "file_extension": ".py",
   "mimetype": "text/x-python",
   "name": "python",
   "nbconvert_exporter": "python",
   "pygments_lexer": "ipython3",
   "version": "3.7.9"
  }
 },
 "nbformat": 4,
 "nbformat_minor": 4
}
