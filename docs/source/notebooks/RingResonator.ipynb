{
 "cells": [
  {
   "cell_type": "markdown",
   "metadata": {},
   "source": [
    "# 2D ring resonator\n",
    "\n",
    "This is a simple example of using Tidy3D to perform a 2D simulation of a ring resonator side coupled to a dielectric waveguide.\n",
    "\n",
    "<img src=\"img/ring.png\" alt=\"diagram\" width=\"300\"/>\n",
    "\n",
    "With a center wavelength of 500 nm and 10 nm resolution, this is a challenging FDTD problem because of the large simulation size.  The simulation contains 1 million grid points to model the entire domain and 290,000 time steps to capture the resonance of the ring.\n",
    "\n",
    "With Tidy3D, we perform each simulation in just a few minutes."
   ]
  },
  {
   "cell_type": "code",
   "execution_count": 1,
   "metadata": {
    "tags": []
   },
   "outputs": [
    {
     "name": "stdout",
     "output_type": "stream",
     "text": [
      "Using Tidy3D credentials from stored file\n"
     ]
    }
   ],
   "source": [
    "# standard python imports\n",
    "import numpy as np\n",
    "from numpy import random\n",
    "import matplotlib.pyplot as plt\n",
    "\n",
    "# tidy3D import\n",
    "import tidy3d.web as web\n",
    "import tidy3d as td"
   ]
  },
  {
   "cell_type": "markdown",
   "metadata": {},
   "source": [
    "## Initial setup\n",
    "\n",
    "Our ring resonator will include a ring centered at (0,0) with a waveguide just above the ring spanning the x direction.\n",
    "\n",
    "```    \n",
    "                      (waveguide)      \n",
    "                in -> ========== -> out\n",
    "                           0\n",
    "                      (resonator)\n",
    "   ```"
   ]
  },
  {
   "cell_type": "code",
   "execution_count": 2,
   "metadata": {
    "tags": []
   },
   "outputs": [],
   "source": [
    "# resolution\n",
    "dl = 0.01\n",
    "\n",
    "# define geometry\n",
    "wg_width = 0.25\n",
    "couple_width = 0.05\n",
    "ring_radius = 3.5\n",
    "ring_wg_width = 0.25\n",
    "wg_spacing = 2.0\n",
    "buffer = 2.0\n",
    "\n",
    "# compute quantities based on geometry parameters\n",
    "x_span = 2*wg_spacing + 2*ring_radius + 2*buffer\n",
    "y_span = 2*ring_radius + 2*ring_wg_width + wg_width + couple_width + 2*buffer\n",
    "wg_insert_x = ring_radius + wg_spacing\n",
    "wg_center_y = ring_radius + ring_wg_width/2. + couple_width + wg_width/2.\n",
    "\n",
    "# set number of PMLs on each side\n",
    "npml = 15"
   ]
  },
  {
   "cell_type": "code",
   "execution_count": 3,
   "metadata": {
    "tags": []
   },
   "outputs": [],
   "source": [
    "# define pulse parameters\n",
    "lambda0 = 1.0\n",
    "freq0 = td.C_0 /lambda0\n",
    "fwidth =  freq0 / 6\n",
    "grids_per_wavelength = lambda0 / dl\n",
    "run_time_norm = 1e-13  # run time for normalization run without ring\n",
    "run_time = 5e-12       # run time for simulation with ring"
   ]
  },
  {
   "cell_type": "markdown",
   "metadata": {},
   "source": [
    "Define materials. [(docs)](https://simulation.cloud/docs/html/api.html#material)"
   ]
  },
  {
   "cell_type": "code",
   "execution_count": 4,
   "metadata": {
    "tags": []
   },
   "outputs": [],
   "source": [
    "n_bg = 1.0\n",
    "n_solid = 1.5\n",
    "background = td.Medium(permittivity=n_bg**2)\n",
    "solid = td.Medium(permittivity=n_solid**2)"
   ]
  },
  {
   "cell_type": "markdown",
   "metadata": {},
   "source": [
    "Define structures. [(docs)](https://simulation.cloud/docs/html/api.html#structure)\n"
   ]
  },
  {
   "cell_type": "code",
   "execution_count": 5,
   "metadata": {
    "tags": []
   },
   "outputs": [],
   "source": [
    "# background of entire domain (set explicitly as a box)\n",
    "background_box = td.Structure(\n",
    "    geometry=td.Box(\n",
    "        center=[0, 0, 0],\n",
    "        size=[td.inf, td.inf, td.inf],\n",
    "    ),\n",
    "    medium=background,\n",
    "    name='background')\n",
    "\n",
    "# waveguide\n",
    "waveguide = td.Structure(\n",
    "    geometry=td.Box(\n",
    "        center=[0, wg_center_y, 0],\n",
    "        size=[td.inf, wg_width, td.inf],\n",
    "    ),\n",
    "    medium=solid,\n",
    "    name='waveguide')\n",
    "\n",
    "# outside ring\n",
    "outer_ring = td.Structure(\n",
    "    geometry=td.Cylinder(\n",
    "        center=[0,0,0],\n",
    "        axis=2,\n",
    "        radius=ring_radius+ring_wg_width/2.0,\n",
    "        length=td.inf,\n",
    "    ),\n",
    "    medium=solid,\n",
    "    name='outer_ring')\n",
    "\n",
    "# inside ring fill\n",
    "inner_ring = td.Structure(\n",
    "    geometry=td.Cylinder(\n",
    "        center=[0,0,0],\n",
    "        axis=2,\n",
    "        radius=ring_radius-ring_wg_width/2.0,\n",
    "        length=td.inf,\n",
    "    ),\n",
    "    medium=background,\n",
    "    name='inner_ring')"
   ]
  },
  {
   "cell_type": "code",
   "execution_count": 6,
   "metadata": {},
   "outputs": [
    {
     "data": {
      "text/html": [
       "<div><svg style=\"position: absolute; width: 0; height: 0; overflow: hidden\">\n",
       "<defs>\n",
       "<symbol id=\"icon-database\" viewBox=\"0 0 32 32\">\n",
       "<path d=\"M16 0c-8.837 0-16 2.239-16 5v4c0 2.761 7.163 5 16 5s16-2.239 16-5v-4c0-2.761-7.163-5-16-5z\"></path>\n",
       "<path d=\"M16 17c-8.837 0-16-2.239-16-5v6c0 2.761 7.163 5 16 5s16-2.239 16-5v-6c0 2.761-7.163 5-16 5z\"></path>\n",
       "<path d=\"M16 26c-8.837 0-16-2.239-16-5v6c0 2.761 7.163 5 16 5s16-2.239 16-5v-6c0 2.761-7.163 5-16 5z\"></path>\n",
       "</symbol>\n",
       "<symbol id=\"icon-file-text2\" viewBox=\"0 0 32 32\">\n",
       "<path d=\"M28.681 7.159c-0.694-0.947-1.662-2.053-2.724-3.116s-2.169-2.030-3.116-2.724c-1.612-1.182-2.393-1.319-2.841-1.319h-15.5c-1.378 0-2.5 1.121-2.5 2.5v27c0 1.378 1.122 2.5 2.5 2.5h23c1.378 0 2.5-1.122 2.5-2.5v-19.5c0-0.448-0.137-1.23-1.319-2.841zM24.543 5.457c0.959 0.959 1.712 1.825 2.268 2.543h-4.811v-4.811c0.718 0.556 1.584 1.309 2.543 2.268zM28 29.5c0 0.271-0.229 0.5-0.5 0.5h-23c-0.271 0-0.5-0.229-0.5-0.5v-27c0-0.271 0.229-0.5 0.5-0.5 0 0 15.499-0 15.5 0v7c0 0.552 0.448 1 1 1h7v19.5z\"></path>\n",
       "<path d=\"M23 26h-14c-0.552 0-1-0.448-1-1s0.448-1 1-1h14c0.552 0 1 0.448 1 1s-0.448 1-1 1z\"></path>\n",
       "<path d=\"M23 22h-14c-0.552 0-1-0.448-1-1s0.448-1 1-1h14c0.552 0 1 0.448 1 1s-0.448 1-1 1z\"></path>\n",
       "<path d=\"M23 18h-14c-0.552 0-1-0.448-1-1s0.448-1 1-1h14c0.552 0 1 0.448 1 1s-0.448 1-1 1z\"></path>\n",
       "</symbol>\n",
       "</defs>\n",
       "</svg>\n",
       "<style>/* CSS stylesheet for displaying xarray objects in jupyterlab.\n",
       " *\n",
       " */\n",
       "\n",
       ":root {\n",
       "  --xr-font-color0: var(--jp-content-font-color0, rgba(0, 0, 0, 1));\n",
       "  --xr-font-color2: var(--jp-content-font-color2, rgba(0, 0, 0, 0.54));\n",
       "  --xr-font-color3: var(--jp-content-font-color3, rgba(0, 0, 0, 0.38));\n",
       "  --xr-border-color: var(--jp-border-color2, #e0e0e0);\n",
       "  --xr-disabled-color: var(--jp-layout-color3, #bdbdbd);\n",
       "  --xr-background-color: var(--jp-layout-color0, white);\n",
       "  --xr-background-color-row-even: var(--jp-layout-color1, white);\n",
       "  --xr-background-color-row-odd: var(--jp-layout-color2, #eeeeee);\n",
       "}\n",
       "\n",
       "html[theme=dark],\n",
       "body.vscode-dark {\n",
       "  --xr-font-color0: rgba(255, 255, 255, 1);\n",
       "  --xr-font-color2: rgba(255, 255, 255, 0.54);\n",
       "  --xr-font-color3: rgba(255, 255, 255, 0.38);\n",
       "  --xr-border-color: #1F1F1F;\n",
       "  --xr-disabled-color: #515151;\n",
       "  --xr-background-color: #111111;\n",
       "  --xr-background-color-row-even: #111111;\n",
       "  --xr-background-color-row-odd: #313131;\n",
       "}\n",
       "\n",
       ".xr-wrap {\n",
       "  display: block;\n",
       "  min-width: 300px;\n",
       "  max-width: 700px;\n",
       "}\n",
       "\n",
       ".xr-text-repr-fallback {\n",
       "  /* fallback to plain text repr when CSS is not injected (untrusted notebook) */\n",
       "  display: none;\n",
       "}\n",
       "\n",
       ".xr-header {\n",
       "  padding-top: 6px;\n",
       "  padding-bottom: 6px;\n",
       "  margin-bottom: 4px;\n",
       "  border-bottom: solid 1px var(--xr-border-color);\n",
       "}\n",
       "\n",
       ".xr-header > div,\n",
       ".xr-header > ul {\n",
       "  display: inline;\n",
       "  margin-top: 0;\n",
       "  margin-bottom: 0;\n",
       "}\n",
       "\n",
       ".xr-obj-type,\n",
       ".xr-array-name {\n",
       "  margin-left: 2px;\n",
       "  margin-right: 10px;\n",
       "}\n",
       "\n",
       ".xr-obj-type {\n",
       "  color: var(--xr-font-color2);\n",
       "}\n",
       "\n",
       ".xr-sections {\n",
       "  padding-left: 0 !important;\n",
       "  display: grid;\n",
       "  grid-template-columns: 150px auto auto 1fr 20px 20px;\n",
       "}\n",
       "\n",
       ".xr-section-item {\n",
       "  display: contents;\n",
       "}\n",
       "\n",
       ".xr-section-item input {\n",
       "  display: none;\n",
       "}\n",
       "\n",
       ".xr-section-item input + label {\n",
       "  color: var(--xr-disabled-color);\n",
       "}\n",
       "\n",
       ".xr-section-item input:enabled + label {\n",
       "  cursor: pointer;\n",
       "  color: var(--xr-font-color2);\n",
       "}\n",
       "\n",
       ".xr-section-item input:enabled + label:hover {\n",
       "  color: var(--xr-font-color0);\n",
       "}\n",
       "\n",
       ".xr-section-summary {\n",
       "  grid-column: 1;\n",
       "  color: var(--xr-font-color2);\n",
       "  font-weight: 500;\n",
       "}\n",
       "\n",
       ".xr-section-summary > span {\n",
       "  display: inline-block;\n",
       "  padding-left: 0.5em;\n",
       "}\n",
       "\n",
       ".xr-section-summary-in:disabled + label {\n",
       "  color: var(--xr-font-color2);\n",
       "}\n",
       "\n",
       ".xr-section-summary-in + label:before {\n",
       "  display: inline-block;\n",
       "  content: '►';\n",
       "  font-size: 11px;\n",
       "  width: 15px;\n",
       "  text-align: center;\n",
       "}\n",
       "\n",
       ".xr-section-summary-in:disabled + label:before {\n",
       "  color: var(--xr-disabled-color);\n",
       "}\n",
       "\n",
       ".xr-section-summary-in:checked + label:before {\n",
       "  content: '▼';\n",
       "}\n",
       "\n",
       ".xr-section-summary-in:checked + label > span {\n",
       "  display: none;\n",
       "}\n",
       "\n",
       ".xr-section-summary,\n",
       ".xr-section-inline-details {\n",
       "  padding-top: 4px;\n",
       "  padding-bottom: 4px;\n",
       "}\n",
       "\n",
       ".xr-section-inline-details {\n",
       "  grid-column: 2 / -1;\n",
       "}\n",
       "\n",
       ".xr-section-details {\n",
       "  display: none;\n",
       "  grid-column: 1 / -1;\n",
       "  margin-bottom: 5px;\n",
       "}\n",
       "\n",
       ".xr-section-summary-in:checked ~ .xr-section-details {\n",
       "  display: contents;\n",
       "}\n",
       "\n",
       ".xr-array-wrap {\n",
       "  grid-column: 1 / -1;\n",
       "  display: grid;\n",
       "  grid-template-columns: 20px auto;\n",
       "}\n",
       "\n",
       ".xr-array-wrap > label {\n",
       "  grid-column: 1;\n",
       "  vertical-align: top;\n",
       "}\n",
       "\n",
       ".xr-preview {\n",
       "  color: var(--xr-font-color3);\n",
       "}\n",
       "\n",
       ".xr-array-preview,\n",
       ".xr-array-data {\n",
       "  padding: 0 5px !important;\n",
       "  grid-column: 2;\n",
       "}\n",
       "\n",
       ".xr-array-data,\n",
       ".xr-array-in:checked ~ .xr-array-preview {\n",
       "  display: none;\n",
       "}\n",
       "\n",
       ".xr-array-in:checked ~ .xr-array-data,\n",
       ".xr-array-preview {\n",
       "  display: inline-block;\n",
       "}\n",
       "\n",
       ".xr-dim-list {\n",
       "  display: inline-block !important;\n",
       "  list-style: none;\n",
       "  padding: 0 !important;\n",
       "  margin: 0;\n",
       "}\n",
       "\n",
       ".xr-dim-list li {\n",
       "  display: inline-block;\n",
       "  padding: 0;\n",
       "  margin: 0;\n",
       "}\n",
       "\n",
       ".xr-dim-list:before {\n",
       "  content: '(';\n",
       "}\n",
       "\n",
       ".xr-dim-list:after {\n",
       "  content: ')';\n",
       "}\n",
       "\n",
       ".xr-dim-list li:not(:last-child):after {\n",
       "  content: ',';\n",
       "  padding-right: 5px;\n",
       "}\n",
       "\n",
       ".xr-has-index {\n",
       "  font-weight: bold;\n",
       "}\n",
       "\n",
       ".xr-var-list,\n",
       ".xr-var-item {\n",
       "  display: contents;\n",
       "}\n",
       "\n",
       ".xr-var-item > div,\n",
       ".xr-var-item label,\n",
       ".xr-var-item > .xr-var-name span {\n",
       "  background-color: var(--xr-background-color-row-even);\n",
       "  margin-bottom: 0;\n",
       "}\n",
       "\n",
       ".xr-var-item > .xr-var-name:hover span {\n",
       "  padding-right: 5px;\n",
       "}\n",
       "\n",
       ".xr-var-list > li:nth-child(odd) > div,\n",
       ".xr-var-list > li:nth-child(odd) > label,\n",
       ".xr-var-list > li:nth-child(odd) > .xr-var-name span {\n",
       "  background-color: var(--xr-background-color-row-odd);\n",
       "}\n",
       "\n",
       ".xr-var-name {\n",
       "  grid-column: 1;\n",
       "}\n",
       "\n",
       ".xr-var-dims {\n",
       "  grid-column: 2;\n",
       "}\n",
       "\n",
       ".xr-var-dtype {\n",
       "  grid-column: 3;\n",
       "  text-align: right;\n",
       "  color: var(--xr-font-color2);\n",
       "}\n",
       "\n",
       ".xr-var-preview {\n",
       "  grid-column: 4;\n",
       "}\n",
       "\n",
       ".xr-var-name,\n",
       ".xr-var-dims,\n",
       ".xr-var-dtype,\n",
       ".xr-preview,\n",
       ".xr-attrs dt {\n",
       "  white-space: nowrap;\n",
       "  overflow: hidden;\n",
       "  text-overflow: ellipsis;\n",
       "  padding-right: 10px;\n",
       "}\n",
       "\n",
       ".xr-var-name:hover,\n",
       ".xr-var-dims:hover,\n",
       ".xr-var-dtype:hover,\n",
       ".xr-attrs dt:hover {\n",
       "  overflow: visible;\n",
       "  width: auto;\n",
       "  z-index: 1;\n",
       "}\n",
       "\n",
       ".xr-var-attrs,\n",
       ".xr-var-data {\n",
       "  display: none;\n",
       "  background-color: var(--xr-background-color) !important;\n",
       "  padding-bottom: 5px !important;\n",
       "}\n",
       "\n",
       ".xr-var-attrs-in:checked ~ .xr-var-attrs,\n",
       ".xr-var-data-in:checked ~ .xr-var-data {\n",
       "  display: block;\n",
       "}\n",
       "\n",
       ".xr-var-data > table {\n",
       "  float: right;\n",
       "}\n",
       "\n",
       ".xr-var-name span,\n",
       ".xr-var-data,\n",
       ".xr-attrs {\n",
       "  padding-left: 25px !important;\n",
       "}\n",
       "\n",
       ".xr-attrs,\n",
       ".xr-var-attrs,\n",
       ".xr-var-data {\n",
       "  grid-column: 1 / -1;\n",
       "}\n",
       "\n",
       "dl.xr-attrs {\n",
       "  padding: 0;\n",
       "  margin: 0;\n",
       "  display: grid;\n",
       "  grid-template-columns: 125px auto;\n",
       "}\n",
       "\n",
       ".xr-attrs dt,\n",
       ".xr-attrs dd {\n",
       "  padding: 0;\n",
       "  margin: 0;\n",
       "  float: left;\n",
       "  padding-right: 10px;\n",
       "  width: auto;\n",
       "}\n",
       "\n",
       ".xr-attrs dt {\n",
       "  font-weight: normal;\n",
       "  grid-column: 1;\n",
       "}\n",
       "\n",
       ".xr-attrs dt:hover span {\n",
       "  display: inline-block;\n",
       "  background: var(--xr-background-color);\n",
       "  padding-right: 10px;\n",
       "}\n",
       "\n",
       ".xr-attrs dd {\n",
       "  grid-column: 2;\n",
       "  white-space: pre-wrap;\n",
       "  word-break: break-all;\n",
       "}\n",
       "\n",
       ".xr-icon-database,\n",
       ".xr-icon-file-text2 {\n",
       "  display: inline-block;\n",
       "  vertical-align: middle;\n",
       "  width: 1em;\n",
       "  height: 1.5em !important;\n",
       "  stroke-width: 0;\n",
       "  stroke: currentColor;\n",
       "  fill: currentColor;\n",
       "}\n",
       "</style><pre class='xr-text-repr-fallback'>&lt;xarray.Tidy3dDataArray (x: 1, y: 201, z: 1, f: 1)&gt;\n",
       "array([[[[-3.43501164e-15-3.33114395e-15j]],\n",
       "\n",
       "        [[-3.86407255e-15-3.61204993e-15j]],\n",
       "\n",
       "        [[-3.89012835e-15-3.74401588e-15j]],\n",
       "\n",
       "        [[-3.24470693e-15-2.32651210e-15j]],\n",
       "\n",
       "        [[-2.72209136e-15-4.19145976e-16j]],\n",
       "\n",
       "        [[-2.90084191e-15-6.47152735e-16j]],\n",
       "\n",
       "        [[-2.38142993e-15+7.40850450e-16j]],\n",
       "\n",
       "        [[-1.60560451e-15+2.18782205e-16j]],\n",
       "\n",
       "        [[-4.36142367e-16+1.92822333e-15j]],\n",
       "\n",
       "        [[-3.18775710e-16+1.84147820e-15j]],\n",
       "\n",
       "...\n",
       "\n",
       "        [[-2.07036080e-15-9.49901712e-16j]],\n",
       "\n",
       "        [[-2.65024554e-15+5.40124635e-16j]],\n",
       "\n",
       "        [[-2.46063128e-15-3.13579990e-17j]],\n",
       "\n",
       "        [[-1.57948770e-15+3.73421505e-16j]],\n",
       "\n",
       "        [[-1.36521773e-15-5.53307523e-16j]],\n",
       "\n",
       "        [[-1.00442089e-15-6.28669310e-16j]],\n",
       "\n",
       "        [[-1.92683195e-15-7.67044579e-16j]],\n",
       "\n",
       "        [[-2.34487888e-15-1.22737958e-15j]],\n",
       "\n",
       "        [[-2.31710468e-15-2.05495535e-15j]],\n",
       "\n",
       "        [[-1.30676602e-15-2.27608231e-15j]]]])\n",
       "Coordinates:\n",
       "  * x        (x) float64 -5.5\n",
       "  * y        (y) float64 2.795 2.805 2.815 2.825 ... 4.765 4.775 4.785 4.795\n",
       "  * z        (z) float64 -0.005\n",
       "  * f        (f) float64 2.998e+14</pre><div class='xr-wrap' hidden><div class='xr-header'><div class='xr-obj-type'>xarray.Tidy3dDataArray</div><div class='xr-array-name'></div><ul class='xr-dim-list'><li><span class='xr-has-index'>x</span>: 1</li><li><span class='xr-has-index'>y</span>: 201</li><li><span class='xr-has-index'>z</span>: 1</li><li><span class='xr-has-index'>f</span>: 1</li></ul></div><ul class='xr-sections'><li class='xr-section-item'><div class='xr-array-wrap'><input id='section-cd7e5c83-53c7-4f05-ab6d-d84d85bbb58d' class='xr-array-in' type='checkbox' checked><label for='section-cd7e5c83-53c7-4f05-ab6d-d84d85bbb58d' title='Show/hide data repr'><svg class='icon xr-icon-database'><use xlink:href='#icon-database'></use></svg></label><div class='xr-array-preview xr-preview'><span>(-3.4350116396648405e-15-3.3311439457099306e-15j) ... (-1.306766020...</span></div><div class='xr-array-data'><pre>array([[[[-3.43501164e-15-3.33114395e-15j]],\n",
       "\n",
       "        [[-3.86407255e-15-3.61204993e-15j]],\n",
       "\n",
       "        [[-3.89012835e-15-3.74401588e-15j]],\n",
       "\n",
       "        [[-3.24470693e-15-2.32651210e-15j]],\n",
       "\n",
       "        [[-2.72209136e-15-4.19145976e-16j]],\n",
       "\n",
       "        [[-2.90084191e-15-6.47152735e-16j]],\n",
       "\n",
       "        [[-2.38142993e-15+7.40850450e-16j]],\n",
       "\n",
       "        [[-1.60560451e-15+2.18782205e-16j]],\n",
       "\n",
       "        [[-4.36142367e-16+1.92822333e-15j]],\n",
       "\n",
       "        [[-3.18775710e-16+1.84147820e-15j]],\n",
       "\n",
       "...\n",
       "\n",
       "        [[-2.07036080e-15-9.49901712e-16j]],\n",
       "\n",
       "        [[-2.65024554e-15+5.40124635e-16j]],\n",
       "\n",
       "        [[-2.46063128e-15-3.13579990e-17j]],\n",
       "\n",
       "        [[-1.57948770e-15+3.73421505e-16j]],\n",
       "\n",
       "        [[-1.36521773e-15-5.53307523e-16j]],\n",
       "\n",
       "        [[-1.00442089e-15-6.28669310e-16j]],\n",
       "\n",
       "        [[-1.92683195e-15-7.67044579e-16j]],\n",
       "\n",
       "        [[-2.34487888e-15-1.22737958e-15j]],\n",
       "\n",
       "        [[-2.31710468e-15-2.05495535e-15j]],\n",
       "\n",
       "        [[-1.30676602e-15-2.27608231e-15j]]]])</pre></div></div></li><li class='xr-section-item'><input id='section-48f393ad-97ea-4c04-abbb-dfcf64aa5f9e' class='xr-section-summary-in' type='checkbox'  checked><label for='section-48f393ad-97ea-4c04-abbb-dfcf64aa5f9e' class='xr-section-summary' >Coordinates: <span>(4)</span></label><div class='xr-section-inline-details'></div><div class='xr-section-details'><ul class='xr-var-list'><li class='xr-var-item'><div class='xr-var-name'><span class='xr-has-index'>x</span></div><div class='xr-var-dims'>(x)</div><div class='xr-var-dtype'>float64</div><div class='xr-var-preview xr-preview'>-5.5</div><input id='attrs-b16cfa2f-ae25-44a1-97cb-79cb68353294' class='xr-var-attrs-in' type='checkbox' ><label for='attrs-b16cfa2f-ae25-44a1-97cb-79cb68353294' title='Show/Hide attributes'><svg class='icon xr-icon-file-text2'><use xlink:href='#icon-file-text2'></use></svg></label><input id='data-18ab63a0-e7b0-4df8-917e-ffd6aa1319f5' class='xr-var-data-in' type='checkbox'><label for='data-18ab63a0-e7b0-4df8-917e-ffd6aa1319f5' title='Show/Hide data repr'><svg class='icon xr-icon-database'><use xlink:href='#icon-database'></use></svg></label><div class='xr-var-attrs'><dl class='xr-attrs'><dt><span>units :</span></dt><dd>um</dd><dt><span>long_name :</span></dt><dd>x position</dd></dl></div><div class='xr-var-data'><pre>array([-5.5])</pre></div></li><li class='xr-var-item'><div class='xr-var-name'><span class='xr-has-index'>y</span></div><div class='xr-var-dims'>(y)</div><div class='xr-var-dtype'>float64</div><div class='xr-var-preview xr-preview'>2.795 2.805 2.815 ... 4.785 4.795</div><input id='attrs-047e06be-c228-4a3f-a799-f1db414c0bf4' class='xr-var-attrs-in' type='checkbox' ><label for='attrs-047e06be-c228-4a3f-a799-f1db414c0bf4' title='Show/Hide attributes'><svg class='icon xr-icon-file-text2'><use xlink:href='#icon-file-text2'></use></svg></label><input id='data-979415f0-58c0-4bb7-ae67-e4898a680c2e' class='xr-var-data-in' type='checkbox'><label for='data-979415f0-58c0-4bb7-ae67-e4898a680c2e' title='Show/Hide data repr'><svg class='icon xr-icon-database'><use xlink:href='#icon-database'></use></svg></label><div class='xr-var-attrs'><dl class='xr-attrs'><dt><span>units :</span></dt><dd>um</dd><dt><span>long_name :</span></dt><dd>y position</dd></dl></div><div class='xr-var-data'><pre>array([2.795, 2.805, 2.815, ..., 4.775, 4.785, 4.795])</pre></div></li><li class='xr-var-item'><div class='xr-var-name'><span class='xr-has-index'>z</span></div><div class='xr-var-dims'>(z)</div><div class='xr-var-dtype'>float64</div><div class='xr-var-preview xr-preview'>-0.005</div><input id='attrs-9019f02e-5815-43a4-b78a-b5c31b823f04' class='xr-var-attrs-in' type='checkbox' ><label for='attrs-9019f02e-5815-43a4-b78a-b5c31b823f04' title='Show/Hide attributes'><svg class='icon xr-icon-file-text2'><use xlink:href='#icon-file-text2'></use></svg></label><input id='data-992dfaf7-dac4-4ab5-858a-9f4e8a3aa204' class='xr-var-data-in' type='checkbox'><label for='data-992dfaf7-dac4-4ab5-858a-9f4e8a3aa204' title='Show/Hide data repr'><svg class='icon xr-icon-database'><use xlink:href='#icon-database'></use></svg></label><div class='xr-var-attrs'><dl class='xr-attrs'><dt><span>units :</span></dt><dd>um</dd><dt><span>long_name :</span></dt><dd>z position</dd></dl></div><div class='xr-var-data'><pre>array([-0.005])</pre></div></li><li class='xr-var-item'><div class='xr-var-name'><span class='xr-has-index'>f</span></div><div class='xr-var-dims'>(f)</div><div class='xr-var-dtype'>float64</div><div class='xr-var-preview xr-preview'>2.998e+14</div><input id='attrs-0ea0f84a-8c17-4a06-b70b-6176f01eb702' class='xr-var-attrs-in' type='checkbox' ><label for='attrs-0ea0f84a-8c17-4a06-b70b-6176f01eb702' title='Show/Hide attributes'><svg class='icon xr-icon-file-text2'><use xlink:href='#icon-file-text2'></use></svg></label><input id='data-af06d361-793e-479e-838b-9564d3ecbbd2' class='xr-var-data-in' type='checkbox'><label for='data-af06d361-793e-479e-838b-9564d3ecbbd2' title='Show/Hide data repr'><svg class='icon xr-icon-database'><use xlink:href='#icon-database'></use></svg></label><div class='xr-var-attrs'><dl class='xr-attrs'><dt><span>units :</span></dt><dd>Hz</dd><dt><span>long_name :</span></dt><dd>frequency</dd></dl></div><div class='xr-var-data'><pre>array([2.997925e+14])</pre></div></li></ul></div></li><li class='xr-section-item'><input id='section-d40bd4f2-4b91-45e5-bffa-72e718959cc8' class='xr-section-summary-in' type='checkbox' disabled ><label for='section-d40bd4f2-4b91-45e5-bffa-72e718959cc8' class='xr-section-summary'  title='Expand/collapse section'>Attributes: <span>(0)</span></label><div class='xr-section-inline-details'></div><div class='xr-section-details'><dl class='xr-attrs'></dl></div></li></ul></div></div>"
      ]
     },
     "execution_count": 6,
     "metadata": {},
     "output_type": "execute_result"
    }
   ],
   "source": [
    "from tidy3d.plugins import ModeSolver\n",
    "\n",
    "mode_plane = td.Box(\n",
    "    center=[-wg_insert_x, wg_center_y, 0],\n",
    "    size=[0, 2, td.inf],\n",
    ")\n",
    "\n",
    "sim_modesolver = td.Simulation(\n",
    "    size=[x_span, y_span, 1*dl],\n",
    "    grid_size=[dl, dl, dl],\n",
    "    structures=[background_box, waveguide],\n",
    ")\n",
    "\n",
    "mode_solver = ModeSolver(simulation=sim_modesolver, plane=mode_plane, freq=freq0)\n",
    "mode_data = mode_solver.solve(mode_spec=td.ModeSpec(num_modes=2))\n",
    "\n",
    "mode_data_0, mode_data_1 = mode_data\n",
    "\n",
    "mode_data_0.field_data.Ey"
   ]
  },
  {
   "cell_type": "code",
   "execution_count": 7,
   "metadata": {},
   "outputs": [
    {
     "data": {
      "image/png": "[encoded data removed]"
     },
     "metadata": {
      "needs_background": "light"
     },
     "output_type": "display_data"
    }
   ],
   "source": [
    "f, ((ax1, ax2, ax3), (ax4, ax5, ax6)) = plt.subplots(2, 3, tight_layout=True, figsize=(10, 6))\n",
    "abs(mode_data_0.field_data.Ex).plot(ax=ax1)\n",
    "abs(mode_data_0.field_data.Ey).plot(ax=ax2)\n",
    "abs(mode_data_0.field_data.Ez).plot(ax=ax3)\n",
    "abs(mode_data_1.field_data.Ex).plot(ax=ax4)\n",
    "abs(mode_data_1.field_data.Ey).plot(ax=ax5)\n",
    "abs(mode_data_1.field_data.Ez).plot(ax=ax6)\n",
    "ax1.set_title('|Ex|: mode_index=0')\n",
    "ax2.set_title('|Ey|: mode_index=0')\n",
    "ax3.set_title('|Ez|: mode_index=0')\n",
    "ax4.set_title('|Ex|: mode_index=1')\n",
    "ax5.set_title('|Ey|: mode_index=1')\n",
    "ax6.set_title('|Ez|: mode_index=1')\n",
    "plt.show()"
   ]
  },
  {
   "cell_type": "markdown",
   "metadata": {},
   "source": [
    "From the above plots, we see that \n",
    "\n",
    "`mode_index=0` corresponds to exciting 0-th order TM mode (E=Ez) and \n",
    "\n",
    "`mode_index=1` corresponds to exciting 0-th order TE mode (E=Ey).\n",
    "\n",
    "We can therefore switch the mode index accordingly based on our polarization.\n",
    "\n",
    "Let's select Ey and create the source for it."
   ]
  },
  {
   "cell_type": "code",
   "execution_count": 8,
   "metadata": {},
   "outputs": [],
   "source": [
    "# mode_source = mode_solver.to_source(mode_spec=td.ModeSpec(num_modes=2), fwidth=fwidth, direction=\"+\")\n",
    "mode_source = td.ModeSource(\n",
    "    size=mode_plane.size,\n",
    "    center=mode_plane.center,\n",
    "    source_time=td.GaussianPulse(freq0=freq0, fwidth=fwidth),\n",
    "    mode_spec=td.ModeSpec(num_modes=2),\n",
    "    mode_index=1,\n",
    "    direction='+'\n",
    ")"
   ]
  },
  {
   "cell_type": "markdown",
   "metadata": {},
   "source": [
    "In addition, let's monitor both the fields in plane as well as the output mode amplitudes into the fundamental TE mode."
   ]
  },
  {
   "cell_type": "code",
   "execution_count": 9,
   "metadata": {
    "tags": []
   },
   "outputs": [],
   "source": [
    "# monitor steady state fields at central frequency over whole domain\n",
    "field_monitor = td.FieldMonitor(\n",
    "    center=[0, 0, 0],\n",
    "    size=[td.inf, td.inf, 0],\n",
    "    freqs=[freq0],\n",
    "    name='field')\n",
    "\n",
    "# monitor the mode amps on the output waveguide\n",
    "lambdas_measure = np.linspace(0.8, 1.1, 1001)\n",
    "freqs_measure = td.C_0 / lambdas_measure\n",
    "# mode_monitor = mode_solver.to_monitor(mode=td.Mode(mode_index=1), freqs=freqs_measure, name='mode')\n",
    "mode_monitor = td.ModeMonitor(\n",
    "    size=mode_plane.size,\n",
    "    center=mode_plane.center,\n",
    "    freqs=freqs_measure,\n",
    "    mode_spec=td.ModeSpec(num_modes=2),\n",
    "    name='mode'\n",
    ")\n",
    "\n",
    "# lets reset the center to the on the right hand side of the simulation though\n",
    "mode_monitor.center = [+wg_insert_x, wg_center_y, 0]"
   ]
  },
  {
   "cell_type": "markdown",
   "metadata": {},
   "source": [
    "Define simulation. [(docs)](https://simulation.cloud/docs/html/api.html#simulation)\n",
    "\n",
    "Here, we turn off the automatic shutoff factor by setting it to 0. This is because we will compute the spectrum by a fourier transform of the time response, and we would like to run the normalization simulation and the simulation with ring to exactly the same `run_time`."
   ]
  },
  {
   "cell_type": "code",
   "execution_count": 10,
   "metadata": {
    "tags": []
   },
   "outputs": [],
   "source": [
    "# create normalization simulation (no ring)\n",
    "sim0 = td.Simulation(\n",
    "    size=[x_span, y_span, 1*dl],\n",
    "    grid_size=[dl, dl, dl],\n",
    "    structures=[background_box, waveguide],\n",
    "    sources=[mode_source],\n",
    "    monitors=[field_monitor, mode_monitor],\n",
    "    run_time = run_time_norm,\n",
    "    pml_layers=[td.PML(), td.PML(), None])\n",
    "\n",
    "# create simulation (with ring)\n",
    "sim = td.Simulation(\n",
    "    size=[x_span, y_span, 1*dl],\n",
    "    grid_size=[dl, dl, dl],\n",
    "    structures=[background_box, waveguide, outer_ring, inner_ring],\n",
    "    sources=[mode_source],\n",
    "    monitors=[field_monitor, mode_monitor],\n",
    "    run_time = run_time,\n",
    "    pml_layers=[td.PML(), td.PML(), None])"
   ]
  },
  {
   "cell_type": "markdown",
   "metadata": {},
   "source": [
    "----\n",
    "Visualize structure, source, and modes. [(docs)](https://simulation.cloud/docs/html/api.html#plotting-tools)"
   ]
  },
  {
   "cell_type": "code",
   "execution_count": 11,
   "metadata": {
    "tags": []
   },
   "outputs": [
    {
     "name": "stderr",
     "output_type": "stream",
     "text": [
      "/Library/Frameworks/Python.framework/Versions/3.7/lib/python3.7/site-packages/descartes/patch.py:46: ShapelyDeprecationWarning: Iteration over multi-part geometries is deprecated and will be removed in Shapely 2.0. Use the `geoms` property to access the constituent parts of a multi-part geometry.\n",
      "  polygon = [Polygon(p) for p in polygon]\n",
      "/Library/Frameworks/Python.framework/Versions/3.7/lib/python3.7/site-packages/descartes/patch.py:65: ShapelyDeprecationWarning: The array interface is deprecated and will no longer work in Shapely 2.0. Convert the '.coords' to a numpy array instead.\n",
      "  for t in polygon])\n"
     ]
    },
    {
     "data": {
      "image/png": "[encoded data removed]"
     },
     "metadata": {
      "needs_background": "light"
     },
     "output_type": "display_data"
    }
   ],
   "source": [
    "# plot the two simulations\n",
    "fig, (ax1, ax2) = plt.subplots(1, 2, figsize=(18, 6))\n",
    "sim0.plot_eps(z=0.01, ax=ax1)\n",
    "sim.plot_eps(z=0.01, ax=ax2)\n",
    "plt.show()"
   ]
  },
  {
   "cell_type": "markdown",
   "metadata": {},
   "source": [
    "----\n",
    "## Run Simulation\n",
    "Run simulations on our server. [(docs)](https://simulation.cloud/docs/html/api.html#web-api)"
   ]
  },
  {
   "cell_type": "code",
   "execution_count": null,
   "metadata": {
    "tags": []
   },
   "outputs": [
    {
     "data": {
      "text/html": [
       "<pre style=\"white-space:pre;overflow-x:auto;line-height:normal;font-family:Menlo,'DejaVu Sans Mono',consolas,'Courier New',monospace\"><span style=\"color: #7fbfbf; text-decoration-color: #7fbfbf\">[16:30:59] </span><span style=\"color: #000080; text-decoration-color: #000080\">INFO    </span> Uploaded task <span style=\"color: #008000; text-decoration-color: #008000\">'normalization'</span> with task_id                  <a href=\"file://../../tidy3d/tidy3d/web/webapi.py\"><span style=\"color: #7f7f7f; text-decoration-color: #7f7f7f\">webapi.py</span></a><span style=\"color: #7f7f7f; text-decoration-color: #7f7f7f\">:</span><a href=\"file://../../tidy3d/tidy3d/web/webapi.py#109\"><span style=\"color: #7f7f7f; text-decoration-color: #7f7f7f\">109</span></a>\n",
       "                    <span style=\"color: #008000; text-decoration-color: #008000\">'ac89e7af-44f9-413f-86ce-4b477b62fd56'</span>.                                  \n",
       "</pre>\n"
      ],
      "text/plain": [
       "\u001b[2;36m[16:30:59]\u001b[0m\u001b[2;36m \u001b[0m\u001b[34mINFO    \u001b[0m Uploaded task \u001b[32m'normalization'\u001b[0m with task_id                  \u001b]8;id=498054;file://../../tidy3d/tidy3d/web/webapi.py\u001b\\\u001b[2mwebapi.py\u001b[0m\u001b]8;;\u001b\\\u001b[2m:\u001b[0m\u001b]8;id=23341;file://../../tidy3d/tidy3d/web/webapi.py#109\u001b\\\u001b[2m109\u001b[0m\u001b]8;;\u001b\\\n",
       "                    \u001b[32m'ac89e7af-44f9-413f-86ce-4b477b62fd56'\u001b[0m.                                  \n"
      ]
     },
     "metadata": {},
     "output_type": "display_data"
    },
    {
     "data": {
      "application/vnd.jupyter.widget-view+json": {
       "model_id": "83a30bedd0234fa2899de4dd0b521710",
       "version_major": 2,
       "version_minor": 0
      },
      "text/plain": [
       "Output()"
      ]
     },
     "metadata": {},
     "output_type": "display_data"
    },
    {
     "data": {
      "text/html": [
       "<pre style=\"white-space:pre;overflow-x:auto;line-height:normal;font-family:Menlo,'DejaVu Sans Mono',consolas,'Courier New',monospace\"><span style=\"color: #7fbfbf; text-decoration-color: #7fbfbf\">[16:31:00] </span>status = queued                                                      <a href=\"file:///Users/twhughes/Documents/Flexcompute/tidy3d-docs/tidy3d/tidy3d/web/webapi.py\"><span style=\"color: #7f7f7f; text-decoration-color: #7f7f7f\">webapi.py</span></a><span style=\"color: #7f7f7f; text-decoration-color: #7f7f7f\">:</span><a href=\"file:///Users/twhughes/Documents/Flexcompute/tidy3d-docs/tidy3d/tidy3d/web/webapi.py#201\"><span style=\"color: #7f7f7f; text-decoration-color: #7f7f7f\">201</span></a>\n",
       "</pre>\n"
      ],
      "text/plain": [
       "\u001b[2;36m[16:31:00]\u001b[0m\u001b[2;36m \u001b[0mstatus = queued                                                      \u001b]8;id=592871;file:///Users/twhughes/Documents/Flexcompute/tidy3d-docs/tidy3d/tidy3d/web/webapi.py\u001b\\\u001b[2mwebapi.py\u001b[0m\u001b]8;;\u001b\\\u001b[2m:\u001b[0m\u001b]8;id=669531;file:///Users/twhughes/Documents/Flexcompute/tidy3d-docs/tidy3d/tidy3d/web/webapi.py#201\u001b\\\u001b[2m201\u001b[0m\u001b]8;;\u001b\\\n"
      ]
     },
     "metadata": {},
     "output_type": "display_data"
    },
    {
     "data": {
      "text/html": [
       "<pre style=\"white-space:pre;overflow-x:auto;line-height:normal;font-family:Menlo,'DejaVu Sans Mono',consolas,'Courier New',monospace\"><span style=\"color: #7fbfbf; text-decoration-color: #7fbfbf\">[16:33:17] </span>status = running                                                     <a href=\"file:///Users/twhughes/Documents/Flexcompute/tidy3d-docs/tidy3d/tidy3d/web/webapi.py\"><span style=\"color: #7f7f7f; text-decoration-color: #7f7f7f\">webapi.py</span></a><span style=\"color: #7f7f7f; text-decoration-color: #7f7f7f\">:</span><a href=\"file:///Users/twhughes/Documents/Flexcompute/tidy3d-docs/tidy3d/tidy3d/web/webapi.py#201\"><span style=\"color: #7f7f7f; text-decoration-color: #7f7f7f\">201</span></a>\n",
       "</pre>\n"
      ],
      "text/plain": [
       "\u001b[2;36m[16:33:17]\u001b[0m\u001b[2;36m \u001b[0mstatus = running                                                     \u001b]8;id=769265;file:///Users/twhughes/Documents/Flexcompute/tidy3d-docs/tidy3d/tidy3d/web/webapi.py\u001b\\\u001b[2mwebapi.py\u001b[0m\u001b]8;;\u001b\\\u001b[2m:\u001b[0m\u001b]8;id=13458;file:///Users/twhughes/Documents/Flexcompute/tidy3d-docs/tidy3d/tidy3d/web/webapi.py#201\u001b\\\u001b[2m201\u001b[0m\u001b]8;;\u001b\\\n"
      ]
     },
     "metadata": {},
     "output_type": "display_data"
    },
    {
     "data": {
      "text/html": [
       "<pre style=\"white-space:pre;overflow-x:auto;line-height:normal;font-family:Menlo,'DejaVu Sans Mono',consolas,'Courier New',monospace\"><span style=\"color: #7fbfbf; text-decoration-color: #7fbfbf\">[16:57:26] </span>status = visualize                                                   <a href=\"file:///Users/twhughes/Documents/Flexcompute/tidy3d-docs/tidy3d/tidy3d/web/webapi.py\"><span style=\"color: #7f7f7f; text-decoration-color: #7f7f7f\">webapi.py</span></a><span style=\"color: #7f7f7f; text-decoration-color: #7f7f7f\">:</span><a href=\"file:///Users/twhughes/Documents/Flexcompute/tidy3d-docs/tidy3d/tidy3d/web/webapi.py#201\"><span style=\"color: #7f7f7f; text-decoration-color: #7f7f7f\">201</span></a>\n",
       "</pre>\n"
      ],
      "text/plain": [
       "\u001b[2;36m[16:57:26]\u001b[0m\u001b[2;36m \u001b[0mstatus = visualize                                                   \u001b]8;id=904975;file:///Users/twhughes/Documents/Flexcompute/tidy3d-docs/tidy3d/tidy3d/web/webapi.py\u001b\\\u001b[2mwebapi.py\u001b[0m\u001b]8;;\u001b\\\u001b[2m:\u001b[0m\u001b]8;id=640236;file:///Users/twhughes/Documents/Flexcompute/tidy3d-docs/tidy3d/tidy3d/web/webapi.py#201\u001b\\\u001b[2m201\u001b[0m\u001b]8;;\u001b\\\n"
      ]
     },
     "metadata": {},
     "output_type": "display_data"
    },
    {
     "data": {
      "text/html": [
       "<pre style=\"white-space:pre;overflow-x:auto;line-height:normal;font-family:Menlo,'DejaVu Sans Mono',consolas,'Courier New',monospace\"><span style=\"color: #7fbfbf; text-decoration-color: #7fbfbf\">[16:57:39] </span>status = success                                                     <a href=\"file:///Users/twhughes/Documents/Flexcompute/tidy3d-docs/tidy3d/tidy3d/web/webapi.py\"><span style=\"color: #7f7f7f; text-decoration-color: #7f7f7f\">webapi.py</span></a><span style=\"color: #7f7f7f; text-decoration-color: #7f7f7f\">:</span><a href=\"file:///Users/twhughes/Documents/Flexcompute/tidy3d-docs/tidy3d/tidy3d/web/webapi.py#201\"><span style=\"color: #7f7f7f; text-decoration-color: #7f7f7f\">201</span></a>\n",
       "</pre>\n"
      ],
      "text/plain": [
       "\u001b[2;36m[16:57:39]\u001b[0m\u001b[2;36m \u001b[0mstatus = success                                                     \u001b]8;id=633032;file:///Users/twhughes/Documents/Flexcompute/tidy3d-docs/tidy3d/tidy3d/web/webapi.py\u001b\\\u001b[2mwebapi.py\u001b[0m\u001b]8;;\u001b\\\u001b[2m:\u001b[0m\u001b]8;id=400202;file:///Users/twhughes/Documents/Flexcompute/tidy3d-docs/tidy3d/tidy3d/web/webapi.py#201\u001b\\\u001b[2m201\u001b[0m\u001b]8;;\u001b\\\n"
      ]
     },
     "metadata": {},
     "output_type": "display_data"
    }
   ],
   "source": [
    "# use function above to run simulation with and without ring\n",
    "sim_data0 = web.run(sim0, task_name='normalization', path='data/simulation_data0.hdf5')\n",
    "sim_data = web.run(sim, task_name='with_ring', path='data/simulation_data.hdf5')"
   ]
  },
  {
   "cell_type": "code",
   "execution_count": null,
   "metadata": {},
   "outputs": [],
   "source": [
    "print(sim_data.log)"
   ]
  },
  {
   "cell_type": "code",
   "execution_count": null,
   "metadata": {},
   "outputs": [],
   "source": [
    "# visualize normalization run\n",
    "fig, ((ax1, ax2), (ax3, ax4)) = plt.subplots(2, 2, tight_layout=True, figsize=(15, 10))\n",
    "im = sim_data0.plot_field('field', 'Ex', val='real', z=0, freq=freq0, ax=ax1)\n",
    "im = sim_data0.plot_field('field', 'Ey', val='real', z=0, freq=freq0, ax=ax2)\n",
    "im = sim_data.plot_field('field', 'Ex', val='real', z=0, freq=freq0, ax=ax3)\n",
    "im = sim_data.plot_field('field', 'Ey', val='real', z=0, freq=freq0, ax=ax4)"
   ]
  },
  {
   "cell_type": "markdown",
   "metadata": {},
   "source": [
    "## Analyze Spectrum\n",
    "\n",
    "Now let's analyze the mode amplitudes in the output waveguide.\n",
    "\n",
    "First, let's grab the data to inspect it."
   ]
  },
  {
   "cell_type": "code",
   "execution_count": null,
   "metadata": {},
   "outputs": [],
   "source": [
    "sim_data['mode']"
   ]
  },
  {
   "cell_type": "markdown",
   "metadata": {},
   "source": [
    "As we see, the mode amplitude data is complex-valued with three 3 dimensions:\n",
    "* index into the mode order returned by solver (remember, we wanted mode_index=1 for fundamental TE).\n",
    "* direction of the propagation (for decomposition).\n",
    "* frequency.\n",
    "\n",
    "Let's select into the first two dimensions to get mode amplitudes as a function of frequency and divide the results with a ring by the normalization."
   ]
  },
  {
   "cell_type": "code",
   "execution_count": null,
   "metadata": {},
   "outputs": [],
   "source": [
    "mode_data = sim_data['mode'].amps.sel(mode_index=1, direction='+')\n",
    "mode_data0 = sim_data0['mode'].amps.sel(mode_index=1, direction='+')\n",
    "transmission_amps = mode_data / mode_data0"
   ]
  },
  {
   "cell_type": "markdown",
   "metadata": {},
   "source": [
    "Now let's plot the data."
   ]
  },
  {
   "cell_type": "code",
   "execution_count": null,
   "metadata": {},
   "outputs": [],
   "source": [
    "f, ax = plt.subplots()\n",
    "transmission_amps.real.plot.line(x='f', ax=ax, label='real')\n",
    "transmission_amps.imag.plot.line(x='f', ax=ax, label='imag')\n",
    "abs(transmission_amps).plot.line(x='f', ax=ax, label='abs')\n",
    "ax.legend()\n",
    "ax.set_title('transmission amplitudes into fundamental TE (forward)')\n",
    "ax.set_ylim(0, 1)\n",
    "plt.show()"
   ]
  },
  {
   "cell_type": "code",
   "execution_count": null,
   "metadata": {},
   "outputs": [],
   "source": []
  },
  {
   "cell_type": "code",
   "execution_count": null,
   "metadata": {},
   "outputs": [],
   "source": []
  }
 ],
 "metadata": {
  "kernelspec": {
   "display_name": "Python 3 (ipykernel)",
   "language": "python",
   "name": "python3"
  },
  "language_info": {
   "codemirror_mode": {
    "name": "ipython",
    "version": 3
   },
   "file_extension": ".py",
   "mimetype": "text/x-python",
   "name": "python",
   "nbconvert_exporter": "python",
   "pygments_lexer": "ipython3",
   "version": "3.7.9"
  }
 },
 "nbformat": 4,
 "nbformat_minor": 4
}
