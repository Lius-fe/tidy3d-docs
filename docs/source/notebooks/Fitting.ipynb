{
 "cells": [
  {
   "cell_type": "markdown",
   "metadata": {},
   "source": [
    "# Dispersion fitting tool\n",
    "\n",
    "Run this notebook in your browser using [Binder](https://mybinder.org/v2/gh/flexcompute-readthedocs/tidy3d-docs/readthedocs?labpath=docs%2Fsource%2Fnotebooks%2FFitting.ipynb).\n",
    "\n",
    "Here we show how to fit optical measurement data and use the results to create dispersion material models for Tidy3d.\n",
    "\n",
    "Tidy3D's dispersion fitting tool peforms an optimization to find a medium defined as a dispersive [PoleResidue](../_autosummary/tidy3d.PoleResidue.rst) model that minimizes the RMS error between the model results and the data. This can then be directly used as a material in simulations."
   ]
  },
  {
   "cell_type": "code",
   "execution_count": 1,
   "metadata": {
    "execution": {
     "iopub.execute_input": "2022-02-28T22:57:45.538657Z",
     "iopub.status.busy": "2022-02-28T22:57:45.537880Z",
     "iopub.status.idle": "2022-02-28T22:57:46.781206Z",
     "shell.execute_reply": "2022-02-28T22:57:46.781537Z"
    },
    "tags": []
   },
   "outputs": [],
   "source": [
    "# first import packages\n",
    "import matplotlib.pylab as plt\n",
    "import numpy as np\n",
    "\n",
    "import tidy3d as td"
   ]
  },
  {
   "cell_type": "markdown",
   "metadata": {},
   "source": [
    "## Load Data\n",
    "\n",
    "The fitting tool accepts three ways of loading data:\n",
    "\n",
    "1. Numpy arrays directly by specifying `wvl_um`, `n_data`, and optionally `k_data`;\n",
    "\n",
    "2. Data file with the `from_file` utility function.\n",
    "\n",
    "    Our data file has columns for wavelength (um), real part of refractive index (n), and imaginary part of refractive index (k).  k data is optional. \n",
    "    \n",
    "    Note: `from_file` uses [np.loadtxt](https://numpy.org/doc/stable/reference/generated/numpy.loadtxt.html) under the hood, so additional keyword arguments for parsing the file follow the same format as [np.loadtxt](https://numpy.org/doc/stable/reference/generated/numpy.loadtxt.html).\n",
    "    \n",
    "3. URL linked to a csv/txt file that contains wavelength (micron), n, and optionally k data with the `from_url` utility function. URL can come from [refractiveindex](https://refractiveindex.info).\n",
    "\n",
    "Below the 2nd way is taken as an example:"
   ]
  },
  {
   "cell_type": "code",
   "execution_count": 2,
   "metadata": {
    "execution": {
     "iopub.execute_input": "2022-02-28T22:57:46.786413Z",
     "iopub.status.busy": "2022-02-28T22:57:46.785908Z",
     "iopub.status.idle": "2022-02-28T22:57:47.200473Z",
     "shell.execute_reply": "2022-02-28T22:57:47.200787Z"
    },
    "tags": []
   },
   "outputs": [
    {
     "data": {
      "image/png": "[encoded data removed]"
     },
     "metadata": {
      "needs_background": "light"
     },
     "output_type": "display_data"
    }
   ],
   "source": [
    "from tidy3d.plugins import DispersionFitter\n",
    "\n",
    "fname = 'data/nk_data.csv'\n",
    "\n",
    "# note that additional keyword arguments to load_nk_file get passed to np.loadtxt\n",
    "fitter = DispersionFitter.from_file(fname, skiprows=1, delimiter=',')\n",
    "\n",
    "# lets plot the data\n",
    "plt.scatter(fitter.wvl_um, fitter.n_data, label='n', color='crimson', edgecolors='black', linewidth=0.5)\n",
    "plt.scatter(fitter.wvl_um, fitter.k_data, label='k', color='blueviolet', edgecolors='black', linewidth=0.5)\n",
    "plt.xlabel('wavelength ($\\mu m$)')\n",
    "plt.ylabel('value')\n",
    "plt.title('refractive index data')\n",
    "plt.legend()\n",
    "plt.show()"
   ]
  },
  {
   "cell_type": "markdown",
   "metadata": {},
   "source": [
    "## Fitting the data\n",
    "\n",
    "The fitting tool fit a dispersion model to the data by minimizing the root mean squared (RMS) error between the model n,k prediciton and the data at the given wavelengths.\n",
    "\n",
    "There are various fitting parameters that can be set, but the most important is the number of \"poles\" in the model.\n",
    "\n",
    "For each pole, there are 4 degrees of freedom in the model.  Adding more poles can produce a closer fit, but each additional pole added will make the fit harder to obtain and will slow down the FDTD.  Therefore, it is best to try the fit with few numbers of poles and increase until the results look good.\n",
    "\n",
    "Here, we will first try fitting the data with 1 pole and specify the RMS value that we are happy with (`tolerance_rms`).\n",
    "\n",
    "Note that the fitting tool performs global optimizations with random starting coefficients, and will repeat the optimization `num_tries` times, returning either the best result or the first result to satisfy the tolerance specified."
   ]
  },
  {
   "cell_type": "code",
   "execution_count": 3,
   "metadata": {
    "execution": {
     "iopub.execute_input": "2022-02-28T22:57:47.204441Z",
     "iopub.status.busy": "2022-02-28T22:57:47.203926Z",
     "iopub.status.idle": "2022-02-28T23:01:18.347733Z",
     "shell.execute_reply": "2022-02-28T23:01:18.348212Z"
    },
    "tags": []
   },
   "outputs": [
    {
     "data": {
      "text/html": [
       "<pre style=\"white-space:pre;overflow-x:auto;line-height:normal;font-family:Menlo,'DejaVu Sans Mono',consolas,'Courier New',monospace\">best RMS error so far: 9.95e-02 <span style=\"color: #729c1f; text-decoration-color: #729c1f\">━━━━━━━━━━━━━━━━━━━━━━━━━━━━━━━━━━━━━━━━</span> <span style=\"color: #800080; text-decoration-color: #800080\">100%</span> <span style=\"color: #008080; text-decoration-color: #008080\">0:00:00</span>\n",
       "</pre>\n"
      ],
      "text/plain": [
       "best RMS error so far: 9.95e-02 \u001b[38;2;114;156;31m━━━━━━━━━━━━━━━━━━━━━━━━━━━━━━━━━━━━━━━━\u001b[0m \u001b[35m100%\u001b[0m \u001b[36m0:00:00\u001b[0m\n"
      ]
     },
     "metadata": {},
     "output_type": "display_data"
    },
    {
     "data": {
      "text/html": [
       "<pre style=\"white-space:pre;overflow-x:auto;line-height:normal;font-family:Menlo,'DejaVu Sans Mono',consolas,'Courier New',monospace\"><span style=\"color: #7fbfbf; text-decoration-color: #7fbfbf\">[10:38:33] </span><span style=\"color: #800000; text-decoration-color: #800000\">WARNING </span>         warning: did not find fit with RMS error under         <a href=\"file:///home/momchil/Drive/flexcompute/tidy3d-core/tidy3d_frontend/tidy3d/plugins/dispersion/fit.py\"><span style=\"color: #7f7f7f; text-decoration-color: #7f7f7f\">fit.py</span></a><span style=\"color: #7f7f7f; text-decoration-color: #7f7f7f\">:363</span>\n",
       "                    tolerance_rms of <span style=\"color: #008080; text-decoration-color: #008080; font-weight: bold\">2.00e-02</span>                                                \n",
       "</pre>\n"
      ],
      "text/plain": [
       "\u001b[2;36m[10:38:33]\u001b[0m\u001b[2;36m \u001b[0m\u001b[31mWARNING \u001b[0m         warning: did not find fit with RMS error under         \u001b]8;id=192559;file:///home/momchil/Drive/flexcompute/tidy3d-core/tidy3d_frontend/tidy3d/plugins/dispersion/fit.py\u001b\\\u001b[2mfit.py\u001b[0m\u001b]8;;\u001b\\\u001b[2m:363\u001b[0m\n",
       "                    tolerance_rms of \u001b[1;36m2.00e-02\u001b[0m                                                \n"
      ]
     },
     "metadata": {},
     "output_type": "display_data"
    },
    {
     "data": {
      "text/html": [
       "<pre style=\"white-space:pre;overflow-x:auto;line-height:normal;font-family:Menlo,'DejaVu Sans Mono',consolas,'Courier New',monospace\"><span style=\"color: #7fbfbf; text-decoration-color: #7fbfbf\">           </span><span style=\"color: #000080; text-decoration-color: #000080\">INFO    </span>         returning best fit with RMS error <span style=\"color: #008080; text-decoration-color: #008080; font-weight: bold\">9.95e-02</span>             <a href=\"file:///home/momchil/Drive/flexcompute/tidy3d-core/tidy3d_frontend/tidy3d/plugins/dispersion/fit.py\"><span style=\"color: #7f7f7f; text-decoration-color: #7f7f7f\">fit.py</span></a><span style=\"color: #7f7f7f; text-decoration-color: #7f7f7f\">:367</span>\n",
       "</pre>\n"
      ],
      "text/plain": [
       "\u001b[2;36m          \u001b[0m\u001b[2;36m \u001b[0m\u001b[34mINFO    \u001b[0m         returning best fit with RMS error \u001b[1;36m9.95e-02\u001b[0m             \u001b]8;id=413326;file:///home/momchil/Drive/flexcompute/tidy3d-core/tidy3d_frontend/tidy3d/plugins/dispersion/fit.py\u001b\\\u001b[2mfit.py\u001b[0m\u001b]8;;\u001b\\\u001b[2m:367\u001b[0m\n"
      ]
     },
     "metadata": {},
     "output_type": "display_data"
    }
   ],
   "source": [
    "medium, rms_error = fitter.fit(\n",
    "                        num_poles=1,\n",
    "                        tolerance_rms=2e-2,\n",
    "                        num_tries=100)"
   ]
  },
  {
   "cell_type": "markdown",
   "metadata": {},
   "source": [
    "The RMS error stalled at a value that was far above our tolerance, so we might want to try more fits.\n",
    "\n",
    "Let's first visualize how well the best single pole fit captured our model using the `.plot()` method"
   ]
  },
  {
   "cell_type": "code",
   "execution_count": 4,
   "metadata": {
    "execution": {
     "iopub.execute_input": "2022-02-28T23:01:18.646354Z",
     "iopub.status.busy": "2022-02-28T23:01:18.644275Z",
     "iopub.status.idle": "2022-02-28T23:01:18.881732Z",
     "shell.execute_reply": "2022-02-28T23:01:18.882395Z"
    },
    "tags": []
   },
   "outputs": [
    {
     "data": {
      "image/png": "[encoded data removed]"
     },
     "metadata": {
      "needs_background": "light"
     },
     "output_type": "display_data"
    }
   ],
   "source": [
    "fitter.plot(medium)\n",
    "plt.show()"
   ]
  },
  {
   "cell_type": "markdown",
   "metadata": {},
   "source": [
    "As we can see, there is room for improvement at short wavelengths. Let's now try a two pole fit."
   ]
  },
  {
   "cell_type": "code",
   "execution_count": 5,
   "metadata": {
    "execution": {
     "iopub.execute_input": "2022-02-28T23:01:18.907602Z",
     "iopub.status.busy": "2022-02-28T23:01:18.893371Z",
     "iopub.status.idle": "2022-02-28T23:01:21.292072Z",
     "shell.execute_reply": "2022-02-28T23:01:21.292424Z"
    },
    "tags": []
   },
   "outputs": [
    {
     "data": {
      "text/html": [
       "<pre style=\"white-space:pre;overflow-x:auto;line-height:normal;font-family:Menlo,'DejaVu Sans Mono',consolas,'Courier New',monospace\">best RMS error so far: 1.80e-02 <span style=\"color: #f92672; text-decoration-color: #f92672\">━━</span><span style=\"color: #3a3a3a; text-decoration-color: #3a3a3a\">╺━━━━━━━━━━━━━━━━━━━━━━━━━━━━━━━━━━━━━</span> <span style=\"color: #800080; text-decoration-color: #800080\">  6%</span> <span style=\"color: #008080; text-decoration-color: #008080\">0:00:11</span>\n",
       "</pre>\n"
      ],
      "text/plain": [
       "best RMS error so far: 1.80e-02 \u001b[38;2;249;38;114m━━\u001b[0m\u001b[38;5;237m╺\u001b[0m\u001b[38;5;237m━━━━━━━━━━━━━━━━━━━━━━━━━━━━━━━━━━━━━\u001b[0m \u001b[35m  6%\u001b[0m \u001b[36m0:00:11\u001b[0m\n"
      ]
     },
     "metadata": {},
     "output_type": "display_data"
    }
   ],
   "source": [
    "medium, rms_error = fitter.fit(\n",
    "                        num_poles=2,\n",
    "                        tolerance_rms=2e-2,\n",
    "                        num_tries=50)"
   ]
  },
  {
   "cell_type": "code",
   "execution_count": 6,
   "metadata": {
    "execution": {
     "iopub.execute_input": "2022-02-28T23:01:21.426122Z",
     "iopub.status.busy": "2022-02-28T23:01:21.420523Z",
     "iopub.status.idle": "2022-02-28T23:01:21.561433Z",
     "shell.execute_reply": "2022-02-28T23:01:21.561772Z"
    },
    "scrolled": true,
    "tags": []
   },
   "outputs": [
    {
     "data": {
      "image/png": "[encoded data removed]"
     },
     "metadata": {
      "needs_background": "light"
     },
     "output_type": "display_data"
    }
   ],
   "source": [
    "fitter.plot(medium)\n",
    "plt.show()"
   ]
  },
  {
   "cell_type": "markdown",
   "metadata": {},
   "source": [
    "This fit looks great and should be sufficient for our simulation."
   ]
  },
  {
   "cell_type": "markdown",
   "metadata": {},
   "source": [
    "Alternatively, if the simulation is narrowband, you might want to truncate your data to not include wavelengths far outside your measurement wavelength to simplify the dispersive model. This is through modifying the attribute `wvl_range` where you can set the lower wavelength bound `wvl_range[0]` and the higher wavelength bound `wvl_range[1]`. This operation is non-destructive, so you can always unset them by setting the value to `None`. \n",
    "\n",
    "E.g. if we are only interested in the wavelength 3-20 um, we can still use the single-pole model:"
   ]
  },
  {
   "cell_type": "code",
   "execution_count": 7,
   "metadata": {
    "execution": {
     "iopub.execute_input": "2022-02-28T23:01:21.567894Z",
     "iopub.status.busy": "2022-02-28T23:01:21.567216Z",
     "iopub.status.idle": "2022-02-28T23:01:21.666789Z",
     "shell.execute_reply": "2022-02-28T23:01:21.664878Z"
    }
   },
   "outputs": [
    {
     "data": {
      "text/html": [
       "<pre style=\"white-space:pre;overflow-x:auto;line-height:normal;font-family:Menlo,'DejaVu Sans Mono',consolas,'Courier New',monospace\">best RMS error so far: 1.21e-02 <span style=\"color: #3a3a3a; text-decoration-color: #3a3a3a\">━━━━━━━━━━━━━━━━━━━━━━━━━━━━━━━━━━━━━━━━</span> <span style=\"color: #800080; text-decoration-color: #800080\">  1%</span> <span style=\"color: #008080; text-decoration-color: #008080\">-:--:--</span>\n",
       "</pre>\n"
      ],
      "text/plain": [
       "best RMS error so far: 1.21e-02 \u001b[38;5;237m━━━━━━━━━━━━━━━━━━━━━━━━━━━━━━━━━━━━━━━━\u001b[0m \u001b[35m  1%\u001b[0m \u001b[36m-:--:--\u001b[0m\n"
      ]
     },
     "metadata": {},
     "output_type": "display_data"
    }
   ],
   "source": [
    "fitter.wvl_range = [3,20]\n",
    "medium, rms_error = fitter.fit(\n",
    "                        num_poles=1,\n",
    "                        tolerance_rms=2e-2,\n",
    "                        num_tries=100)"
   ]
  },
  {
   "cell_type": "code",
   "execution_count": 8,
   "metadata": {
    "execution": {
     "iopub.execute_input": "2022-02-28T23:01:21.695511Z",
     "iopub.status.busy": "2022-02-28T23:01:21.669754Z",
     "iopub.status.idle": "2022-02-28T23:01:21.824528Z",
     "shell.execute_reply": "2022-02-28T23:01:21.824862Z"
    }
   },
   "outputs": [
    {
     "data": {
      "image/png": "[encoded data removed]"
     },
     "metadata": {
      "needs_background": "light"
     },
     "output_type": "display_data"
    }
   ],
   "source": [
    "fitter.plot(medium)\n",
    "plt.show()"
   ]
  },
  {
   "cell_type": "markdown",
   "metadata": {},
   "source": [
    "## Using Fit Results\n",
    "\n",
    "With the fit performed, we want to use the `Medium` in our simulation.\n"
   ]
  },
  {
   "cell_type": "markdown",
   "metadata": {},
   "source": [
    "### Method 1: direct export as Medium\n",
    "\n",
    "The fit returns a medium, which can be used directly in simulation"
   ]
  },
  {
   "cell_type": "code",
   "execution_count": 9,
   "metadata": {
    "execution": {
     "iopub.execute_input": "2022-02-28T23:01:21.828792Z",
     "iopub.status.busy": "2022-02-28T23:01:21.828319Z",
     "iopub.status.idle": "2022-02-28T23:01:21.830224Z",
     "shell.execute_reply": "2022-02-28T23:01:21.830556Z"
    },
    "tags": []
   },
   "outputs": [],
   "source": [
    "b = td.Structure(\n",
    "    geometry=td.Box(size=(1,1,1)),\n",
    "    medium=medium)"
   ]
  },
  {
   "cell_type": "markdown",
   "metadata": {},
   "source": [
    "### Method 2: print medium definition string\n",
    "\n",
    "In many cases, one may want to perform the fit once and then hardcode the result in their tidy3d script.\n",
    "\n",
    "For a quick and easy way to do this, just `print()` the medium and the output can be copied and pasted into your main svript"
   ]
  },
  {
   "cell_type": "code",
   "execution_count": 10,
   "metadata": {
    "execution": {
     "iopub.execute_input": "2022-02-28T23:01:21.833599Z",
     "iopub.status.busy": "2022-02-28T23:01:21.833071Z",
     "iopub.status.idle": "2022-02-28T23:01:21.835118Z",
     "shell.execute_reply": "2022-02-28T23:01:21.835514Z"
    },
    "tags": []
   },
   "outputs": [
    {
     "name": "stdout",
     "output_type": "stream",
     "text": [
      "td.PoleResidue(\n",
      "\tpoles=[((-5815828506643158+2944729630668783.5j), -7.851862481416974e+16j)], \n",
      "\tfrequency_range=(15048764573822.465, 97485556810323.33))\n"
     ]
    }
   ],
   "source": [
    "print(medium)"
   ]
  },
  {
   "cell_type": "code",
   "execution_count": 11,
   "metadata": {
    "execution": {
     "iopub.execute_input": "2022-02-28T23:01:21.838195Z",
     "iopub.status.busy": "2022-02-28T23:01:21.837673Z",
     "iopub.status.idle": "2022-02-28T23:01:21.839329Z",
     "shell.execute_reply": "2022-02-28T23:01:21.839724Z"
    }
   },
   "outputs": [],
   "source": [
    "# medium = td.PoleResidue(\n",
    "# \tpoles=[((-1720022108564405.2, 1111614865738177.4), (1.0199002935090378e+16, -3696384150818460.5)), ((0.0, -3100558969639478.5), (3298054971521434.5, 859192377978951.2))], \n",
    "# \tfrequency_range=(7994465562158.582, 299792458580946.8))"
   ]
  },
  {
   "cell_type": "markdown",
   "metadata": {},
   "source": [
    "### Method 3: save and load file containing poles\n",
    "\n",
    "Finally, one can save export the `Medium` directly as .json file. Here is an example."
   ]
  },
  {
   "cell_type": "code",
   "execution_count": 12,
   "metadata": {
    "execution": {
     "iopub.execute_input": "2022-02-28T23:01:21.843669Z",
     "iopub.status.busy": "2022-02-28T23:01:21.843111Z",
     "iopub.status.idle": "2022-02-28T23:01:21.845333Z",
     "shell.execute_reply": "2022-02-28T23:01:21.845692Z"
    },
    "tags": []
   },
   "outputs": [],
   "source": [
    "# save poles to pole_data.txt\n",
    "fname = 'data/my_medium.json'\n",
    "medium.to_file(fname)\n",
    "\n",
    "# load the file in your script\n",
    "medium = td.PoleResidue.from_file(fname)"
   ]
  },
  {
   "cell_type": "markdown",
   "metadata": {},
   "source": [
    "## Tricks and Tips / Troubleshooting\n",
    "\n",
    "Performing dispersion model fits is more of an art than a science and some trial and error may be required to get good fits.  A good general strategy is to:\n",
    "\n",
    "- Start with few poles and increase unitl RMS error gets to the desired level.\n",
    "\n",
    "- Large `num_tries` values can sometimes find good fits if the RMS seems stalled.  it can be a good idea to set a large number of tries and let it run for a while on an especially difficult data model.\n",
    "\n",
    "- Tailor the parameters to your data.  Long wavelengths and large n,k values can affect the RMS error that is considered a 'good' fit.  So it is a good idea to tweak the tolerance to match your data.  Once size does not fit all.\n",
    "\n",
    "Finally, there are some things to be aware of when troubleshooting the dispersion models in your actaual simulation:\n",
    "\n",
    "- If you are unable to find a good fit to your data, it might be worth considering whether you care about certain features in the data.  For example as shown above, if the simulation is narrowband, you might want to truncate your data to not include wavelengths far outside your measurement wavelength to simplify the dispersive model.\n",
    "\n",
    "- It is common to find divergence in FDTD simulations due to dispersive materials.  Besides trying \"absorber\" PML types and reducing runtime, a good solution can be to try other fits, or to explore our new `StableFitter` feature which will be explained below.\n"
   ]
  },
  {
   "cell_type": "markdown",
   "metadata": {},
   "source": [
    "# Stable fitter\n",
    "\n",
    "We recently introduced a version of the `DispersionFitter` tool that implements our proprietary stability criterion.  We observe consistently stable FDTD simulations when materials are fit using this method and also provide it in the newest versions of Tidy3d.\n",
    "\n",
    "Functionally speaking, it works identically to the previously introduced tool, excpet the `.fit()` method is run on Flexcompute servers and therefore this tool reqiures signing in to a Tidy3D account. Here is a demonstration."
   ]
  },
  {
   "cell_type": "code",
   "execution_count": 13,
   "metadata": {
    "execution": {
     "iopub.execute_input": "2022-02-28T23:01:21.849073Z",
     "iopub.status.busy": "2022-02-28T23:01:21.848582Z",
     "iopub.status.idle": "2022-02-28T23:01:21.851043Z",
     "shell.execute_reply": "2022-02-28T23:01:21.851465Z"
    }
   },
   "outputs": [],
   "source": [
    "from tidy3d.plugins import StableDispersionFitter, AdvancedFitterParam\n",
    "\n",
    "fname = 'data/nk_data.csv'\n",
    "fitter_stable = StableDispersionFitter.from_file(fname, skiprows=1, delimiter=',')"
   ]
  },
  {
   "cell_type": "code",
   "execution_count": 14,
   "metadata": {
    "execution": {
     "iopub.execute_input": "2022-02-28T23:01:21.854890Z",
     "iopub.status.busy": "2022-02-28T23:01:21.854392Z",
     "iopub.status.idle": "2022-02-28T23:01:25.826351Z",
     "shell.execute_reply": "2022-02-28T23:01:25.826817Z"
    },
    "scrolled": true
   },
   "outputs": [
    {
     "name": "stdout",
     "output_type": "stream",
     "text": [
      "Using Tidy3D credentials from stored file\n"
     ]
    },
    {
     "data": {
      "text/html": [
       "<pre style=\"white-space:pre;overflow-x:auto;line-height:normal;font-family:Menlo,'DejaVu Sans Mono',consolas,'Courier New',monospace\"><span style=\"color: #7fbfbf; text-decoration-color: #7fbfbf\">[10:38:47] </span><span style=\"color: #000080; text-decoration-color: #000080\">INFO    </span>         found optimal fit with RMS error = <span style=\"color: #008080; text-decoration-color: #008080; font-weight: bold\">1.67e-02</span>,       <a href=\"file:///home/momchil/Drive/flexcompute/tidy3d-core/tidy3d_frontend/tidy3d/plugins/dispersion/fit_web.py\"><span style=\"color: #7f7f7f; text-decoration-color: #7f7f7f\">fit_web.py</span></a><span style=\"color: #7f7f7f; text-decoration-color: #7f7f7f\">:261</span>\n",
       "                    returning                                                                \n",
       "</pre>\n"
      ],
      "text/plain": [
       "\u001b[2;36m[10:38:47]\u001b[0m\u001b[2;36m \u001b[0m\u001b[34mINFO    \u001b[0m         found optimal fit with RMS error = \u001b[1;36m1.67e-02\u001b[0m,       \u001b]8;id=363599;file:///home/momchil/Drive/flexcompute/tidy3d-core/tidy3d_frontend/tidy3d/plugins/dispersion/fit_web.py\u001b\\\u001b[2mfit_web.py\u001b[0m\u001b]8;;\u001b\\\u001b[2m:261\u001b[0m\n",
       "                    returning                                                                \n"
      ]
     },
     "metadata": {},
     "output_type": "display_data"
    }
   ],
   "source": [
    "medium, rms_error = fitter_stable.fit(\n",
    "                        num_poles=2,\n",
    "                        tolerance_rms=2e-2,\n",
    "                        num_tries=50,\n",
    "                        advanced_param=AdvancedFitterParam(nlopt_max=10000))"
   ]
  },
  {
   "cell_type": "markdown",
   "metadata": {},
   "source": [
    "Note here we supply the `advanced_param` for more control of the fitting process. `nlopt_max` stands for the maximal number of iterations for each inner optimization. Details of a list of other advanced parameters will be explained later."
   ]
  },
  {
   "cell_type": "markdown",
   "metadata": {},
   "source": [
    "We can visualize our fits the same way."
   ]
  },
  {
   "cell_type": "code",
   "execution_count": 15,
   "metadata": {
    "execution": {
     "iopub.execute_input": "2022-02-28T23:01:25.844978Z",
     "iopub.status.busy": "2022-02-28T23:01:25.838107Z",
     "iopub.status.idle": "2022-02-28T23:01:25.983900Z",
     "shell.execute_reply": "2022-02-28T23:01:25.984223Z"
    }
   },
   "outputs": [
    {
     "data": {
      "image/png": "[encoded data removed]"
     },
     "metadata": {
      "needs_background": "light"
     },
     "output_type": "display_data"
    }
   ],
   "source": [
    "fitter_stable.plot(medium)\n",
    "plt.show()"
   ]
  },
  {
   "cell_type": "markdown",
   "metadata": {},
   "source": [
    "Once the fitting is performed, the procedure of using the medium in our simulation is also idential to the previous fitting tool, which we will not go into details here."
   ]
  },
  {
   "cell_type": "markdown",
   "metadata": {},
   "source": [
    "## Tips\n",
    "\n",
    "- Our stable fitter is based on a web service, and therefore it can run into `timeout` errors if the fitter runs for too long. In this case, you are encouraged to decrease the value of `num_tries` or to relax the value of `tolerance_rms` to your needs.\n",
    "\n",
    "- Our fitting tool performs global optimizations with random starting coefficients, and will repeat the optimization `num_tries` times. Within each inner optimization, the maximal number of iterations is bounded by an  **advanced parameter** `nlopt_maxeval` whose default value is `5000`. Since there is a well-known tradeoff between exploration and exploitation in a typical global optimization process, you can play around with `num_tries` and `nlopt_maxeval`. In particular in senarios where `timeout` error occurs and decreasing `num_tries` leads to larger RMS error, you can try to decrease `nlopt_maxeval`.\n",
    "\n",
    "A list of other advanced parameters can be found in our documentation. For example:\n",
    "\n",
    "- In cases where the permittivity at inifinity frequency is other than 1, it can also be optimized by setting an **advanced parameter** `bound_eps_inf` so that the permittivity at infinite frequency can take values between `[1,bound_eps_inf]`.\n",
    "\n",
    "- Sometimes we want to bound the pole frequency in the dispersive model so that the oscillater can be resolved with the time steps in our simulation. This can be set with `bound_f`. "
   ]
  }
 ],
 "metadata": {
  "kernelspec": {
   "display_name": "Python 3 (ipykernel)",
   "language": "python",
   "name": "python3"
  },
  "language_info": {
   "codemirror_mode": {
    "name": "ipython",
    "version": 3
   },
   "file_extension": ".py",
   "mimetype": "text/x-python",
   "name": "python",
   "nbconvert_exporter": "python",
   "pygments_lexer": "ipython3",
   "version": "3.8.3"
  },
  "widgets": {
   "application/vnd.jupyter.widget-state+json": {
    "state": {
     "3422d712f8344d14b02e184ec88cd0e5": {
      "model_module": "@jupyter-widgets/output",
      "model_module_version": "1.0.0",
      "model_name": "OutputModel",
      "state": {
       "_dom_classes": [],
       "_model_module": "@jupyter-widgets/output",
       "_model_module_version": "1.0.0",
       "_model_name": "OutputModel",
       "_view_count": null,
       "_view_module": "@jupyter-widgets/output",
       "_view_module_version": "1.0.0",
       "_view_name": "OutputView",
       "layout": "IPY_MODEL_41d1ff092baf4380a004c28a7d6a770d",
       "msg_id": "",
       "outputs": []
      }
     },
     "41d1ff092baf4380a004c28a7d6a770d": {
      "model_module": "@jupyter-widgets/base",
      "model_module_version": "1.2.0",
      "model_name": "LayoutModel",
      "state": {
       "_model_module": "@jupyter-widgets/base",
       "_model_module_version": "1.2.0",
       "_model_name": "LayoutModel",
       "_view_count": null,
       "_view_module": "@jupyter-widgets/base",
       "_view_module_version": "1.2.0",
       "_view_name": "LayoutView",
       "align_content": null,
       "align_items": null,
       "align_self": null,
       "border": null,
       "bottom": null,
       "display": null,
       "flex": null,
       "flex_flow": null,
       "grid_area": null,
       "grid_auto_columns": null,
       "grid_auto_flow": null,
       "grid_auto_rows": null,
       "grid_column": null,
       "grid_gap": null,
       "grid_row": null,
       "grid_template_areas": null,
       "grid_template_columns": null,
       "grid_template_rows": null,
       "height": null,
       "justify_content": null,
       "justify_items": null,
       "left": null,
       "margin": null,
       "max_height": null,
       "max_width": null,
       "min_height": null,
       "min_width": null,
       "object_fit": null,
       "object_position": null,
       "order": null,
       "overflow": null,
       "overflow_x": null,
       "overflow_y": null,
       "padding": null,
       "right": null,
       "top": null,
       "visibility": null,
       "width": null
      }
     },
     "4d77973b2c3640e185155af40f77085d": {
      "model_module": "@jupyter-widgets/output",
      "model_module_version": "1.0.0",
      "model_name": "OutputModel",
      "state": {
       "_dom_classes": [],
       "_model_module": "@jupyter-widgets/output",
       "_model_module_version": "1.0.0",
       "_model_name": "OutputModel",
       "_view_count": null,
       "_view_module": "@jupyter-widgets/output",
       "_view_module_version": "1.0.0",
       "_view_name": "OutputView",
       "layout": "IPY_MODEL_62e2335e8bf247b48fa8edef0b3509f2",
       "msg_id": "",
       "outputs": []
      }
     },
     "55058bc26bd547d3ace05a23fab3a5fd": {
      "model_module": "@jupyter-widgets/output",
      "model_module_version": "1.0.0",
      "model_name": "OutputModel",
      "state": {
       "_dom_classes": [],
       "_model_module": "@jupyter-widgets/output",
       "_model_module_version": "1.0.0",
       "_model_name": "OutputModel",
       "_view_count": null,
       "_view_module": "@jupyter-widgets/output",
       "_view_module_version": "1.0.0",
       "_view_name": "OutputView",
       "layout": "IPY_MODEL_a78e3f2150344f35965acd6e8ad513c7",
       "msg_id": "",
       "outputs": []
      }
     },
     "62e2335e8bf247b48fa8edef0b3509f2": {
      "model_module": "@jupyter-widgets/base",
      "model_module_version": "1.2.0",
      "model_name": "LayoutModel",
      "state": {
       "_model_module": "@jupyter-widgets/base",
       "_model_module_version": "1.2.0",
       "_model_name": "LayoutModel",
       "_view_count": null,
       "_view_module": "@jupyter-widgets/base",
       "_view_module_version": "1.2.0",
       "_view_name": "LayoutView",
       "align_content": null,
       "align_items": null,
       "align_self": null,
       "border": null,
       "bottom": null,
       "display": null,
       "flex": null,
       "flex_flow": null,
       "grid_area": null,
       "grid_auto_columns": null,
       "grid_auto_flow": null,
       "grid_auto_rows": null,
       "grid_column": null,
       "grid_gap": null,
       "grid_row": null,
       "grid_template_areas": null,
       "grid_template_columns": null,
       "grid_template_rows": null,
       "height": null,
       "justify_content": null,
       "justify_items": null,
       "left": null,
       "margin": null,
       "max_height": null,
       "max_width": null,
       "min_height": null,
       "min_width": null,
       "object_fit": null,
       "object_position": null,
       "order": null,
       "overflow": null,
       "overflow_x": null,
       "overflow_y": null,
       "padding": null,
       "right": null,
       "top": null,
       "visibility": null,
       "width": null
      }
     },
     "a78e3f2150344f35965acd6e8ad513c7": {
      "model_module": "@jupyter-widgets/base",
      "model_module_version": "1.2.0",
      "model_name": "LayoutModel",
      "state": {
       "_model_module": "@jupyter-widgets/base",
       "_model_module_version": "1.2.0",
       "_model_name": "LayoutModel",
       "_view_count": null,
       "_view_module": "@jupyter-widgets/base",
       "_view_module_version": "1.2.0",
       "_view_name": "LayoutView",
       "align_content": null,
       "align_items": null,
       "align_self": null,
       "border": null,
       "bottom": null,
       "display": null,
       "flex": null,
       "flex_flow": null,
       "grid_area": null,
       "grid_auto_columns": null,
       "grid_auto_flow": null,
       "grid_auto_rows": null,
       "grid_column": null,
       "grid_gap": null,
       "grid_row": null,
       "grid_template_areas": null,
       "grid_template_columns": null,
       "grid_template_rows": null,
       "height": null,
       "justify_content": null,
       "justify_items": null,
       "left": null,
       "margin": null,
       "max_height": null,
       "max_width": null,
       "min_height": null,
       "min_width": null,
       "object_fit": null,
       "object_position": null,
       "order": null,
       "overflow": null,
       "overflow_x": null,
       "overflow_y": null,
       "padding": null,
       "right": null,
       "top": null,
       "visibility": null,
       "width": null
      }
     }
    },
    "version_major": 2,
    "version_minor": 0
   }
  }
 },
 "nbformat": 4,
 "nbformat_minor": 4
}
