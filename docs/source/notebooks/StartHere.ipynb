{
 "cells": [
  {
   "cell_type": "markdown",
   "id": "773b8e31-afe9-4710-9cfb-d949650fa99c",
   "metadata": {},
   "source": [
    "# Start Here\n",
    "\n",
    "Run this notebook in your browser using [Binder](https://mybinder.org/v2/gh/flexcompute-readthedocs/tidy3d-docs/readthedocs?labpath=docs%2Fsource%2Fnotebooks%2FStartHere.ipynb).\n",
    "\n",
    "This is a basic Tidy3D script showing the FDTD simulation of a delectric cube in the presence of a point dipole."
   ]
  },
  {
   "cell_type": "code",
   "execution_count": 1,
   "id": "25ed08b2-a980-46c8-bf05-eed76f90517c",
   "metadata": {
    "execution": {
     "iopub.execute_input": "2022-02-28T23:01:27.218578Z",
     "iopub.status.busy": "2022-02-28T23:01:27.217920Z",
     "iopub.status.idle": "2022-02-28T23:01:31.115749Z",
     "shell.execute_reply": "2022-02-28T23:01:31.116324Z"
    },
    "tags": []
   },
   "outputs": [
    {
     "name": "stdout",
     "output_type": "stream",
     "text": [
      "Using Tidy3D credentials from stored file\n"
     ]
    }
   ],
   "source": [
    "import numpy as np\n",
    "\n",
    "# import the package and the web API\n",
    "import tidy3d as td\n",
    "import tidy3d.web as web"
   ]
  },
  {
   "cell_type": "code",
   "execution_count": 2,
   "id": "ab32c9db-5da6-4712-a787-48916db1e394",
   "metadata": {
    "execution": {
     "iopub.execute_input": "2022-02-28T23:01:31.126763Z",
     "iopub.status.busy": "2022-02-28T23:01:31.126095Z",
     "iopub.status.idle": "2022-02-28T23:01:31.127949Z",
     "shell.execute_reply": "2022-02-28T23:01:31.128353Z"
    },
    "tags": []
   },
   "outputs": [],
   "source": [
    "# set up parameters of simulation (length scales are micrometers)\n",
    "grid_size = 0.01\n",
    "pml = td.PML()\n",
    "sim_size = (4, 4, 4)\n",
    "lambda0 = 1.0\n",
    "freq0 = td.C_0 / lambda0\n",
    "fwidth = freq0 / 10.0\n",
    "run_time = 12.0 / fwidth\n",
    "\n",
    "# create structure\n",
    "dielectric = td.Medium.from_nk(n=2, k=0, freq=freq0)\n",
    "square = td.Structure(\n",
    "    geometry=td.Box(center=(0, 0, 0), size=(1.5, 1.5, 1.5)),\n",
    "    medium=dielectric)\n",
    "\n",
    "# create source\n",
    "source = td.VolumeSource(\n",
    "    center=(-1.5, 0, 0),\n",
    "    size=(0, 0.4, 0.4),\n",
    "    source_time = td.GaussianPulse(\n",
    "        freq0=freq0,\n",
    "        fwidth=fwidth),\n",
    "    polarization='Ey')\n",
    "\n",
    "# create monitor\n",
    "monitor = td.FieldMonitor(\n",
    "    fields=['Ex', 'Ey', 'Hz'],\n",
    "    center=(0, 0, 0),\n",
    "    size=(td.inf, td.inf, 0),\n",
    "    freqs=[freq0],\n",
    "    name='fields_on_plane')\n",
    "\n",
    "# Initialize simulation\n",
    "sim = td.Simulation(size=sim_size,\n",
    "                    grid_size=(grid_size, grid_size, grid_size),\n",
    "                    structures=[square],\n",
    "                    sources=[source],\n",
    "                    monitors=[monitor],\n",
    "                    run_time=run_time,\n",
    "                    pml_layers=(pml, pml, pml))"
   ]
  },
  {
   "cell_type": "code",
   "execution_count": 3,
   "id": "aaddbc59-d2f2-4a63-b212-f72a11f5feb6",
   "metadata": {
    "execution": {
     "iopub.execute_input": "2022-02-28T23:01:31.133381Z",
     "iopub.status.busy": "2022-02-28T23:01:31.132765Z",
     "iopub.status.idle": "2022-02-28T23:01:31.134760Z",
     "shell.execute_reply": "2022-02-28T23:01:31.135278Z"
    }
   },
   "outputs": [
    {
     "name": "stdout",
     "output_type": "stream",
     "text": [
      "simulation grid is shaped [424, 424, 424] for 76 million cells.\n"
     ]
    }
   ],
   "source": [
    "print(f'simulation grid is shaped {sim.grid.num_cells} for {int(np.prod(sim.grid.num_cells)/1e6)} million cells.')"
   ]
  },
  {
   "cell_type": "code",
   "execution_count": 4,
   "id": "9b85451d-abd5-488c-a1f7-88f81e6a4d9d",
   "metadata": {
    "execution": {
     "iopub.execute_input": "2022-02-28T23:01:31.138701Z",
     "iopub.status.busy": "2022-02-28T23:01:31.138194Z",
     "iopub.status.idle": "2022-02-28T23:15:52.942457Z",
     "shell.execute_reply": "2022-02-28T23:15:52.942937Z"
    },
    "tags": []
   },
   "outputs": [
    {
     "data": {
      "text/html": [
       "<pre style=\"white-space:pre;overflow-x:auto;line-height:normal;font-family:Menlo,'DejaVu Sans Mono',consolas,'Courier New',monospace\"><span style=\"color: #008000; text-decoration-color: #008000\">🏃 </span> <span style=\"color: #008000; text-decoration-color: #008000; font-weight: bold\">Working on 'quickstart'...</span>\n",
       "</pre>\n"
      ],
      "text/plain": [
       "\u001b[32m🏃 \u001b[0m \u001b[1;32mWorking on 'quickstart'...\u001b[0m\n"
      ]
     },
     "metadata": {},
     "output_type": "display_data"
    }
   ],
   "source": [
    "# run the simulation, download the data.\n",
    "data = web.run(sim, task_name='quickstart', path='data/data.hdf5')"
   ]
  },
  {
   "cell_type": "code",
   "execution_count": 5,
   "id": "9ce5c4df-501e-4ece-b47f-388c8f33ce1a",
   "metadata": {
    "execution": {
     "iopub.execute_input": "2022-02-28T23:16:08.251576Z",
     "iopub.status.busy": "2022-02-28T23:16:08.251069Z",
     "iopub.status.idle": "2022-02-28T23:16:08.252859Z",
     "shell.execute_reply": "2022-02-28T23:16:08.253400Z"
    }
   },
   "outputs": [
    {
     "name": "stdout",
     "output_type": "stream",
     "text": [
      "Simulation domain Nx, Ny, Nz: [424, 424, 424]\n",
      "Applied symmetries: (0, 0, 0)\n",
      "Number of computational grid points: 7.6225e+07.\n",
      "Using subpixel averaging: True\n",
      "Number of time steps: 2.3096e+04\n",
      "Automatic shutoff factor: 1.00e-05\n",
      "Time step (s): 1.7332e-17\n",
      "Compute source modes time (s):     0.4113\n",
      "Compute monitor modes time (s):    0.4394\n",
      "\n",
      "Rest of setup time (s):            0.5193\n",
      "\n",
      "Starting solver...\n",
      "- Time step    923 / time 1.60e-14s (  4 % done), field decay: 1.00e+00\n",
      "- Time step   1531 / time 2.65e-14s (  6 % done), field decay: 1.00e+00\n",
      "- Time step   1847 / time 3.20e-14s (  8 % done), field decay: 9.11e-01\n",
      "- Time step   2771 / time 4.80e-14s ( 12 % done), field decay: 1.27e-01\n",
      "- Time step   3695 / time 6.40e-14s ( 16 % done), field decay: 2.84e-02\n",
      "- Time step   4619 / time 8.01e-14s ( 20 % done), field decay: 1.24e-02\n",
      "- Time step   5543 / time 9.61e-14s ( 24 % done), field decay: 6.35e-03\n",
      "- Time step   6466 / time 1.12e-13s ( 28 % done), field decay: 2.98e-03\n",
      "- Time step   7390 / time 1.28e-13s ( 32 % done), field decay: 2.04e-03\n",
      "- Time step   8314 / time 1.44e-13s ( 36 % done), field decay: 1.42e-03\n",
      "- Time step   9238 / time 1.60e-13s ( 40 % done), field decay: 1.07e-03\n",
      "- Time step  10162 / time 1.76e-13s ( 44 % done), field decay: 6.96e-04\n",
      "- Time step  11086 / time 1.92e-13s ( 48 % done), field decay: 4.85e-04\n",
      "- Time step  12009 / time 2.08e-13s ( 52 % done), field decay: 2.43e-04\n",
      "- Time step  12933 / time 2.24e-13s ( 56 % done), field decay: 1.56e-04\n",
      "- Time step  13857 / time 2.40e-13s ( 60 % done), field decay: 7.08e-05\n",
      "- Time step  14781 / time 2.56e-13s ( 64 % done), field decay: 6.72e-05\n",
      "- Time step  15705 / time 2.72e-13s ( 68 % done), field decay: 3.67e-05\n",
      "- Time step  16629 / time 2.88e-13s ( 72 % done), field decay: 5.07e-05\n",
      "- Time step  17552 / time 3.04e-13s ( 76 % done), field decay: 2.10e-05\n",
      "- Time step  18476 / time 3.20e-13s ( 80 % done), field decay: 2.89e-05\n",
      "- Time step  19400 / time 3.36e-13s ( 84 % done), field decay: 1.32e-05\n",
      "- Time step  20324 / time 3.52e-13s ( 88 % done), field decay: 2.19e-05\n",
      "- Time step  21248 / time 3.68e-13s ( 92 % done), field decay: 6.48e-06\n",
      "Field decay smaller than shutoff factor, exiting solver.\n",
      "\n",
      "Solver time (s):                   79.5789\n",
      "Post-processing time (s):          0.1153\n",
      "\n"
     ]
    }
   ],
   "source": [
    "# see the log\n",
    "print(data.log)"
   ]
  },
  {
   "cell_type": "code",
   "execution_count": 6,
   "id": "3610dd7b-2392-4003-a7b0-3b69a417533c",
   "metadata": {
    "execution": {
     "iopub.execute_input": "2022-02-28T23:16:08.261658Z",
     "iopub.status.busy": "2022-02-28T23:16:08.261146Z",
     "iopub.status.idle": "2022-02-28T23:16:09.551665Z",
     "shell.execute_reply": "2022-02-28T23:16:09.552063Z"
    }
   },
   "outputs": [
    {
     "data": {
      "image/png": "[encoded data removed]"
     },
     "metadata": {
      "needs_background": "light"
     },
     "output_type": "display_data"
    }
   ],
   "source": [
    "# plot the fields stored in the monitor\n",
    "ax = data.plot_field('fields_on_plane', 'Ey', freq=freq0, z=0)\n",
    "_ = ax.set_title('Ey(x,y)')"
   ]
  },
  {
   "cell_type": "code",
   "execution_count": null,
   "id": "37157c0e-5403-45cb-b934-1be82c61c70b",
   "metadata": {},
   "outputs": [],
   "source": []
  }
 ],
 "metadata": {
  "kernelspec": {
   "display_name": "Python 3 (ipykernel)",
   "language": "python",
   "name": "python3"
  },
  "language_info": {
   "codemirror_mode": {
    "name": "ipython",
    "version": 3
   },
   "file_extension": ".py",
   "mimetype": "text/x-python",
   "name": "python",
   "nbconvert_exporter": "python",
   "pygments_lexer": "ipython3",
   "version": "3.8.3"
  },
  "widgets": {
   "application/vnd.jupyter.widget-state+json": {
    "state": {
     "857a59c632f24dd895d43cc4758cd9f2": {
      "model_module": "@jupyter-widgets/output",
      "model_module_version": "1.0.0",
      "model_name": "OutputModel",
      "state": {
       "_dom_classes": [],
       "_model_module": "@jupyter-widgets/output",
       "_model_module_version": "1.0.0",
       "_model_name": "OutputModel",
       "_view_count": null,
       "_view_module": "@jupyter-widgets/output",
       "_view_module_version": "1.0.0",
       "_view_name": "OutputView",
       "layout": "IPY_MODEL_d4f3b3f98bc24d558691fecfcf73f977",
       "msg_id": "",
       "outputs": []
      }
     },
     "d4f3b3f98bc24d558691fecfcf73f977": {
      "model_module": "@jupyter-widgets/base",
      "model_module_version": "1.2.0",
      "model_name": "LayoutModel",
      "state": {
       "_model_module": "@jupyter-widgets/base",
       "_model_module_version": "1.2.0",
       "_model_name": "LayoutModel",
       "_view_count": null,
       "_view_module": "@jupyter-widgets/base",
       "_view_module_version": "1.2.0",
       "_view_name": "LayoutView",
       "align_content": null,
       "align_items": null,
       "align_self": null,
       "border": null,
       "bottom": null,
       "display": null,
       "flex": null,
       "flex_flow": null,
       "grid_area": null,
       "grid_auto_columns": null,
       "grid_auto_flow": null,
       "grid_auto_rows": null,
       "grid_column": null,
       "grid_gap": null,
       "grid_row": null,
       "grid_template_areas": null,
       "grid_template_columns": null,
       "grid_template_rows": null,
       "height": null,
       "justify_content": null,
       "justify_items": null,
       "left": null,
       "margin": null,
       "max_height": null,
       "max_width": null,
       "min_height": null,
       "min_width": null,
       "object_fit": null,
       "object_position": null,
       "order": null,
       "overflow": null,
       "overflow_x": null,
       "overflow_y": null,
       "padding": null,
       "right": null,
       "top": null,
       "visibility": null,
       "width": null
      }
     }
    },
    "version_major": 2,
    "version_minor": 0
   }
  }
 },
 "nbformat": 4,
 "nbformat_minor": 5
}
