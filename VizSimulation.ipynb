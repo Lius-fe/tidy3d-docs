{
 "cells": [
  {
   "cell_type": "markdown",
   "id": "dd18b3f3-cc18-4b21-915d-051a293268db",
   "metadata": {},
   "source": [
    "# Geometry Plotting\n",
    "\n",
    "This notebook provides a tutorial for plotting tidy3d objects."
   ]
  },
  {
   "cell_type": "code",
   "execution_count": 4,
   "id": "4d9eb77a-3c17-4902-a55e-ce0e6ecd43b1",
   "metadata": {
    "tags": []
   },
   "outputs": [],
   "source": [
    "import matplotlib.pylab as plt\n",
    "import numpy as np\n",
    "\n",
    "import sys\n",
    "sys.path.append('../tidy3d-client-revamp')\n",
    "import tidy3d as td"
   ]
  },
  {
   "cell_type": "markdown",
   "id": "b3f62efb-c305-49e8-b4a6-2070bb26a7fa",
   "metadata": {},
   "source": [
    "## Simple, 2D plotting\n",
    "\n",
    "### Geometries\n",
    "\n",
    "All `td.Geometry` objects such as `td.Box`, `td.Sphere`, `td.Cylinder`, `td.PolySlab` have a `.plot()` method that plots their geometries on a plane specified by axis (0,1,2) and position."
   ]
  },
  {
   "cell_type": "code",
   "execution_count": 5,
   "id": "95a9234c-a6f6-4b68-be18-9da5ef8fac82",
   "metadata": {
    "tags": []
   },
   "outputs": [
    {
     "data": {
      "image/png": "[encoded data removed]"
     },
     "metadata": {
      "needs_background": "light"
     },
     "output_type": "display_data"
    }
   ],
   "source": [
    "cylinder = td.Cylinder(center=(0,0,0), radius=1, length=2, axis=0)\n",
    "ax = cylinder.plot(x=0)\n",
    "plt.show()"
   ]
  },
  {
   "cell_type": "markdown",
   "id": "740160d4-62d6-4029-9d67-f26800120b5e",
   "metadata": {},
   "source": [
    "### Structures\n",
    "\n",
    "Plotting `td.Structure` objects, which combine `td.Geometry` with a `td.Medium` works the same way."
   ]
  },
  {
   "cell_type": "code",
   "execution_count": 6,
   "id": "b02c4b1a-1dce-491e-86a1-93e668ec75aa",
   "metadata": {
    "tags": []
   },
   "outputs": [
    {
     "data": {
      "text/html": [
       "<pre style=\"white-space:pre;overflow-x:auto;line-height:normal;font-family:Menlo,'DejaVu Sans Mono',consolas,'Courier New',monospace\"><span style=\"color: #ff0000; text-decoration-color: #ff0000\">╭──────────────────────────── </span><span style=\"color: #800000; text-decoration-color: #800000; font-weight: bold\">Traceback </span><span style=\"color: #bf7f7f; text-decoration-color: #bf7f7f; font-weight: bold\">(most recent call last)</span><span style=\"color: #ff0000; text-decoration-color: #ff0000\"> ────────────────────────────╮</span>\n",
       "<span style=\"color: #ff0000; text-decoration-color: #ff0000\">│</span>                                                                                           <span style=\"color: #ff0000; text-decoration-color: #ff0000\">│</span>\n",
       "<span style=\"color: #ff0000; text-decoration-color: #ff0000\">│</span> <span style=\"color: #bfbf7f; text-decoration-color: #bfbf7f\">/var/folders/jx/9y0mtn3s3zzb6mzgmsw6s6gr0000gn/T/ipykernel_99337/</span><span style=\"color: #808000; text-decoration-color: #808000; font-weight: bold\">1399839648.py</span>:<span style=\"color: #0000ff; text-decoration-color: #0000ff\">6</span> in       <span style=\"color: #ff0000; text-decoration-color: #ff0000\">│</span>\n",
       "<span style=\"color: #ff0000; text-decoration-color: #ff0000\">│</span> <span style=\"color: #00ff00; text-decoration-color: #00ff00\">&lt;module&gt;</span>                                                                                  <span style=\"color: #ff0000; text-decoration-color: #ff0000\">│</span>\n",
       "<span style=\"color: #ff0000; text-decoration-color: #ff0000\">│</span>                                                                                           <span style=\"color: #ff0000; text-decoration-color: #ff0000\">│</span>\n",
       "<span style=\"color: #ff0000; text-decoration-color: #ff0000\">│</span> <span style=\"color: #800000; text-decoration-color: #800000; font-style: italic\">[Errno 2] No such file or directory: </span>                                                     <span style=\"color: #ff0000; text-decoration-color: #ff0000\">│</span>\n",
       "<span style=\"color: #ff0000; text-decoration-color: #ff0000\">│</span> <span style=\"color: #800000; text-decoration-color: #800000; font-style: italic\">'/var/folders/jx/9y0mtn3s3zzb6mzgmsw6s6gr0000gn/T/ipykernel_99337/1399839648.py'</span>          <span style=\"color: #ff0000; text-decoration-color: #ff0000\">│</span>\n",
       "<span style=\"color: #ff0000; text-decoration-color: #ff0000\">│</span> <span style=\"color: #bfbf7f; text-decoration-color: #bfbf7f\">/Users/twhughes/Documents/Flexcompute/tidy3d-revamp-notebooks/../tidy3d-client-revamp/tid</span> <span style=\"color: #ff0000; text-decoration-color: #ff0000\">│</span>\n",
       "<span style=\"color: #ff0000; text-decoration-color: #ff0000\">│</span> <span style=\"color: #bfbf7f; text-decoration-color: #bfbf7f\">y3d/components/</span><span style=\"color: #808000; text-decoration-color: #808000; font-weight: bold\">viz.py</span>:<span style=\"color: #0000ff; text-decoration-color: #0000ff\">32</span> in <span style=\"color: #00ff00; text-decoration-color: #00ff00\">_plot</span>                                                         <span style=\"color: #ff0000; text-decoration-color: #ff0000\">│</span>\n",
       "<span style=\"color: #ff0000; text-decoration-color: #ff0000\">│</span>                                                                                           <span style=\"color: #ff0000; text-decoration-color: #ff0000\">│</span>\n",
       "<span style=\"color: #ff0000; text-decoration-color: #ff0000\">│</span>   <span style=\"color: #7f7f7f; text-decoration-color: #7f7f7f\"> 29 │   │   </span><span style=\"color: #0000ff; text-decoration-color: #0000ff\">if</span> kwargs.get(<span style=\"color: #808000; text-decoration-color: #808000\">\"ax\"</span>) <span style=\"color: #ff00ff; text-decoration-color: #ff00ff\">is</span> <span style=\"color: #0000ff; text-decoration-color: #0000ff\">None</span>:                                                <span style=\"color: #ff0000; text-decoration-color: #ff0000\">│</span>\n",
       "<span style=\"color: #ff0000; text-decoration-color: #ff0000\">│</span>   <span style=\"color: #7f7f7f; text-decoration-color: #7f7f7f\"> 30 │   │   │   </span>ax = make_ax()                                                          <span style=\"color: #ff0000; text-decoration-color: #ff0000\">│</span>\n",
       "<span style=\"color: #ff0000; text-decoration-color: #ff0000\">│</span>   <span style=\"color: #7f7f7f; text-decoration-color: #7f7f7f\"> 31 │   │   │   </span>kwargs[<span style=\"color: #808000; text-decoration-color: #808000\">\"ax\"</span>] = ax                                                       <span style=\"color: #ff0000; text-decoration-color: #ff0000\">│</span>\n",
       "<span style=\"color: #ff0000; text-decoration-color: #ff0000\">│</span> <span style=\"color: #800000; text-decoration-color: #800000\">❱ </span> 32 <span style=\"color: #7f7f7f; text-decoration-color: #7f7f7f\">│   │   </span><span style=\"color: #0000ff; text-decoration-color: #0000ff\">return</span> plot(*args, **kwargs)                                                <span style=\"color: #ff0000; text-decoration-color: #ff0000\">│</span>\n",
       "<span style=\"color: #ff0000; text-decoration-color: #ff0000\">│</span>   <span style=\"color: #7f7f7f; text-decoration-color: #7f7f7f\"> 33 │   </span>                                                                                <span style=\"color: #ff0000; text-decoration-color: #ff0000\">│</span>\n",
       "<span style=\"color: #ff0000; text-decoration-color: #ff0000\">│</span>   <span style=\"color: #7f7f7f; text-decoration-color: #7f7f7f\"> 34 │   </span><span style=\"color: #0000ff; text-decoration-color: #0000ff\">return</span> _plot                                                                    <span style=\"color: #ff0000; text-decoration-color: #ff0000\">│</span>\n",
       "<span style=\"color: #ff0000; text-decoration-color: #ff0000\">│</span>   <span style=\"color: #7f7f7f; text-decoration-color: #7f7f7f\"> 35 </span>                                                                                    <span style=\"color: #ff0000; text-decoration-color: #ff0000\">│</span>\n",
       "<span style=\"color: #ff0000; text-decoration-color: #ff0000\">│</span>                                                                                           <span style=\"color: #ff0000; text-decoration-color: #ff0000\">│</span>\n",
       "<span style=\"color: #ff0000; text-decoration-color: #ff0000\">│</span> <span style=\"color: #bfbf7f; text-decoration-color: #bfbf7f\">/Users/twhughes/Documents/Flexcompute/tidy3d-revamp-notebooks/../tidy3d-client-revamp/tid</span> <span style=\"color: #ff0000; text-decoration-color: #ff0000\">│</span>\n",
       "<span style=\"color: #ff0000; text-decoration-color: #ff0000\">│</span> <span style=\"color: #bfbf7f; text-decoration-color: #bfbf7f\">y3d/components/</span><span style=\"color: #808000; text-decoration-color: #808000; font-weight: bold\">structure.py</span>:<span style=\"color: #0000ff; text-decoration-color: #0000ff\">65</span> in <span style=\"color: #00ff00; text-decoration-color: #00ff00\">plot</span>                                                    <span style=\"color: #ff0000; text-decoration-color: #ff0000\">│</span>\n",
       "<span style=\"color: #ff0000; text-decoration-color: #ff0000\">│</span>                                                                                           <span style=\"color: #ff0000; text-decoration-color: #ff0000\">│</span>\n",
       "<span style=\"color: #ff0000; text-decoration-color: #ff0000\">│</span>   <span style=\"color: #7f7f7f; text-decoration-color: #7f7f7f\">62 </span><span style=\"color: #bfbf7f; text-decoration-color: #bfbf7f\">│   │   </span><span style=\"color: #808000; text-decoration-color: #808000\">matplotlib.axes._subplots.Axes</span>                                               <span style=\"color: #ff0000; text-decoration-color: #ff0000\">│</span>\n",
       "<span style=\"color: #ff0000; text-decoration-color: #ff0000\">│</span>   <span style=\"color: #7f7f7f; text-decoration-color: #7f7f7f\">63 </span><span style=\"color: #bfbf7f; text-decoration-color: #bfbf7f\">│   │   │   </span><span style=\"color: #808000; text-decoration-color: #808000\">The supplied or created matplotlib axes.</span>                                 <span style=\"color: #ff0000; text-decoration-color: #ff0000\">│</span>\n",
       "<span style=\"color: #ff0000; text-decoration-color: #ff0000\">│</span>   <span style=\"color: #7f7f7f; text-decoration-color: #7f7f7f\">64 </span><span style=\"color: #bfbf7f; text-decoration-color: #bfbf7f\">│   │   </span><span style=\"color: #808000; text-decoration-color: #808000\">\"\"\"</span>                                                                          <span style=\"color: #ff0000; text-decoration-color: #ff0000\">│</span>\n",
       "<span style=\"color: #ff0000; text-decoration-color: #ff0000\">│</span> <span style=\"color: #800000; text-decoration-color: #800000\">❱ </span>65 <span style=\"color: #7f7f7f; text-decoration-color: #7f7f7f\">│   │   </span><span style=\"color: #0000ff; text-decoration-color: #0000ff\">return</span> <span style=\"color: #00ffff; text-decoration-color: #00ffff\">self</span>.geometry.plot(x=x, y=y, z=z, ax=ax, **patch_kwargs)              <span style=\"color: #ff0000; text-decoration-color: #ff0000\">│</span>\n",
       "<span style=\"color: #ff0000; text-decoration-color: #ff0000\">│</span>   <span style=\"color: #7f7f7f; text-decoration-color: #7f7f7f\">66 </span>                                                                                     <span style=\"color: #ff0000; text-decoration-color: #ff0000\">│</span>\n",
       "<span style=\"color: #ff0000; text-decoration-color: #ff0000\">│</span>                                                                                           <span style=\"color: #ff0000; text-decoration-color: #ff0000\">│</span>\n",
       "<span style=\"color: #ff0000; text-decoration-color: #ff0000\">│</span> <span style=\"color: #bfbf7f; text-decoration-color: #bfbf7f\">/Users/twhughes/Documents/Flexcompute/tidy3d-revamp-notebooks/../tidy3d-client-revamp/tid</span> <span style=\"color: #ff0000; text-decoration-color: #ff0000\">│</span>\n",
       "<span style=\"color: #ff0000; text-decoration-color: #ff0000\">│</span> <span style=\"color: #bfbf7f; text-decoration-color: #bfbf7f\">y3d/components/</span><span style=\"color: #808000; text-decoration-color: #808000; font-weight: bold\">viz.py</span>:<span style=\"color: #0000ff; text-decoration-color: #0000ff\">32</span> in <span style=\"color: #00ff00; text-decoration-color: #00ff00\">_plot</span>                                                         <span style=\"color: #ff0000; text-decoration-color: #ff0000\">│</span>\n",
       "<span style=\"color: #ff0000; text-decoration-color: #ff0000\">│</span>                                                                                           <span style=\"color: #ff0000; text-decoration-color: #ff0000\">│</span>\n",
       "<span style=\"color: #ff0000; text-decoration-color: #ff0000\">│</span>   <span style=\"color: #7f7f7f; text-decoration-color: #7f7f7f\"> 29 │   │   </span><span style=\"color: #0000ff; text-decoration-color: #0000ff\">if</span> kwargs.get(<span style=\"color: #808000; text-decoration-color: #808000\">\"ax\"</span>) <span style=\"color: #ff00ff; text-decoration-color: #ff00ff\">is</span> <span style=\"color: #0000ff; text-decoration-color: #0000ff\">None</span>:                                                <span style=\"color: #ff0000; text-decoration-color: #ff0000\">│</span>\n",
       "<span style=\"color: #ff0000; text-decoration-color: #ff0000\">│</span>   <span style=\"color: #7f7f7f; text-decoration-color: #7f7f7f\"> 30 │   │   │   </span>ax = make_ax()                                                          <span style=\"color: #ff0000; text-decoration-color: #ff0000\">│</span>\n",
       "<span style=\"color: #ff0000; text-decoration-color: #ff0000\">│</span>   <span style=\"color: #7f7f7f; text-decoration-color: #7f7f7f\"> 31 │   │   │   </span>kwargs[<span style=\"color: #808000; text-decoration-color: #808000\">\"ax\"</span>] = ax                                                       <span style=\"color: #ff0000; text-decoration-color: #ff0000\">│</span>\n",
       "<span style=\"color: #ff0000; text-decoration-color: #ff0000\">│</span> <span style=\"color: #800000; text-decoration-color: #800000\">❱ </span> 32 <span style=\"color: #7f7f7f; text-decoration-color: #7f7f7f\">│   │   </span><span style=\"color: #0000ff; text-decoration-color: #0000ff\">return</span> plot(*args, **kwargs)                                                <span style=\"color: #ff0000; text-decoration-color: #ff0000\">│</span>\n",
       "<span style=\"color: #ff0000; text-decoration-color: #ff0000\">│</span>   <span style=\"color: #7f7f7f; text-decoration-color: #7f7f7f\"> 33 │   </span>                                                                                <span style=\"color: #ff0000; text-decoration-color: #ff0000\">│</span>\n",
       "<span style=\"color: #ff0000; text-decoration-color: #ff0000\">│</span>   <span style=\"color: #7f7f7f; text-decoration-color: #7f7f7f\"> 34 │   </span><span style=\"color: #0000ff; text-decoration-color: #0000ff\">return</span> _plot                                                                    <span style=\"color: #ff0000; text-decoration-color: #ff0000\">│</span>\n",
       "<span style=\"color: #ff0000; text-decoration-color: #ff0000\">│</span>   <span style=\"color: #7f7f7f; text-decoration-color: #7f7f7f\"> 35 </span>                                                                                    <span style=\"color: #ff0000; text-decoration-color: #ff0000\">│</span>\n",
       "<span style=\"color: #ff0000; text-decoration-color: #ff0000\">│</span>                                                                                           <span style=\"color: #ff0000; text-decoration-color: #ff0000\">│</span>\n",
       "<span style=\"color: #ff0000; text-decoration-color: #ff0000\">│</span> <span style=\"color: #bfbf7f; text-decoration-color: #bfbf7f\">/Users/twhughes/Documents/Flexcompute/tidy3d-revamp-notebooks/../tidy3d-client-revamp/tid</span> <span style=\"color: #ff0000; text-decoration-color: #ff0000\">│</span>\n",
       "<span style=\"color: #ff0000; text-decoration-color: #ff0000\">│</span> <span style=\"color: #bfbf7f; text-decoration-color: #bfbf7f\">y3d/components/</span><span style=\"color: #808000; text-decoration-color: #808000; font-weight: bold\">geometry.py</span>:<span style=\"color: #0000ff; text-decoration-color: #0000ff\">215</span> in <span style=\"color: #00ff00; text-decoration-color: #00ff00\">plot</span>                                                    <span style=\"color: #ff0000; text-decoration-color: #ff0000\">│</span>\n",
       "<span style=\"color: #ff0000; text-decoration-color: #ff0000\">│</span>                                                                                           <span style=\"color: #ff0000; text-decoration-color: #ff0000\">│</span>\n",
       "<span style=\"color: #ff0000; text-decoration-color: #ff0000\">│</span>   <span style=\"color: #7f7f7f; text-decoration-color: #7f7f7f\">212 │   │   │   </span>ax.add_artist(patch)                                                    <span style=\"color: #ff0000; text-decoration-color: #ff0000\">│</span>\n",
       "<span style=\"color: #ff0000; text-decoration-color: #ff0000\">│</span>   <span style=\"color: #7f7f7f; text-decoration-color: #7f7f7f\">213 │   │   </span>                                                                            <span style=\"color: #ff0000; text-decoration-color: #ff0000\">│</span>\n",
       "<span style=\"color: #ff0000; text-decoration-color: #ff0000\">│</span>   <span style=\"color: #7f7f7f; text-decoration-color: #7f7f7f\">214 │   │   # clean up the axis display</span>                                                 <span style=\"color: #ff0000; text-decoration-color: #ff0000\">│</span>\n",
       "<span style=\"color: #ff0000; text-decoration-color: #ff0000\">│</span> <span style=\"color: #800000; text-decoration-color: #800000\">❱ </span>215 <span style=\"color: #7f7f7f; text-decoration-color: #7f7f7f\">│   │   </span>ax = <span style=\"color: #00ffff; text-decoration-color: #00ffff\">self</span>.add_ax_labels_lims(axis=axis, ax=ax)                              <span style=\"color: #ff0000; text-decoration-color: #ff0000\">│</span>\n",
       "<span style=\"color: #ff0000; text-decoration-color: #ff0000\">│</span>   <span style=\"color: #7f7f7f; text-decoration-color: #7f7f7f\">216 │   │   </span>ax.set_aspect(<span style=\"color: #808000; text-decoration-color: #808000\">\"equal\"</span>)                                                      <span style=\"color: #ff0000; text-decoration-color: #ff0000\">│</span>\n",
       "<span style=\"color: #ff0000; text-decoration-color: #ff0000\">│</span>   <span style=\"color: #7f7f7f; text-decoration-color: #7f7f7f\">217 │   │   </span>ax.set_title(<span style=\"color: #808000; text-decoration-color: #808000\">f\"cross section at {'xyz'</span>[axis]<span style=\"color: #808000; text-decoration-color: #808000\">}={</span>position<span style=\"color: #808000; text-decoration-color: #808000\">:.2f}\"</span>)              <span style=\"color: #ff0000; text-decoration-color: #ff0000\">│</span>\n",
       "<span style=\"color: #ff0000; text-decoration-color: #ff0000\">│</span>   <span style=\"color: #7f7f7f; text-decoration-color: #7f7f7f\">218 │   │   </span><span style=\"color: #0000ff; text-decoration-color: #0000ff\">return</span> ax                                                                   <span style=\"color: #ff0000; text-decoration-color: #ff0000\">│</span>\n",
       "<span style=\"color: #ff0000; text-decoration-color: #ff0000\">│</span>                                                                                           <span style=\"color: #ff0000; text-decoration-color: #ff0000\">│</span>\n",
       "<span style=\"color: #ff0000; text-decoration-color: #ff0000\">│</span> <span style=\"color: #bfbf7f; text-decoration-color: #bfbf7f\">/Users/twhughes/Documents/Flexcompute/tidy3d-revamp-notebooks/../tidy3d-client-revamp/tid</span> <span style=\"color: #ff0000; text-decoration-color: #ff0000\">│</span>\n",
       "<span style=\"color: #ff0000; text-decoration-color: #ff0000\">│</span> <span style=\"color: #bfbf7f; text-decoration-color: #bfbf7f\">y3d/components/</span><span style=\"color: #808000; text-decoration-color: #808000; font-weight: bold\">geometry.py</span>:<span style=\"color: #0000ff; text-decoration-color: #0000ff\">274</span> in <span style=\"color: #00ff00; text-decoration-color: #00ff00\">add_ax_labels_lims</span>                                      <span style=\"color: #ff0000; text-decoration-color: #ff0000\">│</span>\n",
       "<span style=\"color: #ff0000; text-decoration-color: #ff0000\">│</span>                                                                                           <span style=\"color: #ff0000; text-decoration-color: #ff0000\">│</span>\n",
       "<span style=\"color: #ff0000; text-decoration-color: #ff0000\">│</span>   <span style=\"color: #7f7f7f; text-decoration-color: #7f7f7f\">271 </span><span style=\"color: #bfbf7f; text-decoration-color: #bfbf7f\">│   │   │   </span><span style=\"color: #808000; text-decoration-color: #808000\">The supplied or created matplotlib axes.</span>                                <span style=\"color: #ff0000; text-decoration-color: #ff0000\">│</span>\n",
       "<span style=\"color: #ff0000; text-decoration-color: #ff0000\">│</span>   <span style=\"color: #7f7f7f; text-decoration-color: #7f7f7f\">272 </span><span style=\"color: #bfbf7f; text-decoration-color: #bfbf7f\">│   │   </span><span style=\"color: #808000; text-decoration-color: #808000\">\"\"\"</span>                                                                         <span style=\"color: #ff0000; text-decoration-color: #ff0000\">│</span>\n",
       "<span style=\"color: #ff0000; text-decoration-color: #ff0000\">│</span>   <span style=\"color: #7f7f7f; text-decoration-color: #7f7f7f\">273 │   │   </span>xlabel, ylabel = <span style=\"color: #00ffff; text-decoration-color: #00ffff\">self</span>._get_plot_labels(axis=axis)                           <span style=\"color: #ff0000; text-decoration-color: #ff0000\">│</span>\n",
       "<span style=\"color: #ff0000; text-decoration-color: #ff0000\">│</span> <span style=\"color: #800000; text-decoration-color: #800000\">❱ </span>274 <span style=\"color: #7f7f7f; text-decoration-color: #7f7f7f\">│   │   </span>(xmin, xmax), (ymin, ymax) = <span style=\"color: #00ffff; text-decoration-color: #00ffff\">self</span>._get_plot_limits(axis=axis, buffer=buffer <span style=\"color: #ff0000; text-decoration-color: #ff0000\">│</span>\n",
       "<span style=\"color: #ff0000; text-decoration-color: #ff0000\">│</span>   <span style=\"color: #7f7f7f; text-decoration-color: #7f7f7f\">275 │   │   </span>ax.set_xlim(xmin, xmax)                                                     <span style=\"color: #ff0000; text-decoration-color: #ff0000\">│</span>\n",
       "<span style=\"color: #ff0000; text-decoration-color: #ff0000\">│</span>   <span style=\"color: #7f7f7f; text-decoration-color: #7f7f7f\">276 │   │   </span>ax.set_ylim(ymin, ymax)                                                     <span style=\"color: #ff0000; text-decoration-color: #ff0000\">│</span>\n",
       "<span style=\"color: #ff0000; text-decoration-color: #ff0000\">│</span>   <span style=\"color: #7f7f7f; text-decoration-color: #7f7f7f\">277 │   │   </span>ax.set_xlabel(xlabel)                                                       <span style=\"color: #ff0000; text-decoration-color: #ff0000\">│</span>\n",
       "<span style=\"color: #ff0000; text-decoration-color: #ff0000\">│</span>                                                                                           <span style=\"color: #ff0000; text-decoration-color: #ff0000\">│</span>\n",
       "<span style=\"color: #ff0000; text-decoration-color: #ff0000\">│</span> <span style=\"color: #bfbf7f; text-decoration-color: #bfbf7f\">/Users/twhughes/Documents/Flexcompute/tidy3d-revamp-notebooks/../tidy3d-client-revamp/tid</span> <span style=\"color: #ff0000; text-decoration-color: #ff0000\">│</span>\n",
       "<span style=\"color: #ff0000; text-decoration-color: #ff0000\">│</span> <span style=\"color: #bfbf7f; text-decoration-color: #bfbf7f\">y3d/components/</span><span style=\"color: #808000; text-decoration-color: #808000; font-weight: bold\">geometry.py</span>:<span style=\"color: #0000ff; text-decoration-color: #0000ff\">253</span> in <span style=\"color: #00ff00; text-decoration-color: #00ff00\">_get_plot_limits</span>                                        <span style=\"color: #ff0000; text-decoration-color: #ff0000\">│</span>\n",
       "<span style=\"color: #ff0000; text-decoration-color: #ff0000\">│</span>                                                                                           <span style=\"color: #ff0000; text-decoration-color: #ff0000\">│</span>\n",
       "<span style=\"color: #ff0000; text-decoration-color: #ff0000\">│</span>   <span style=\"color: #7f7f7f; text-decoration-color: #7f7f7f\">250 </span><span style=\"color: #bfbf7f; text-decoration-color: #bfbf7f\">│   │   │   </span><span style=\"color: #808000; text-decoration-color: #808000\">Tuple[float, float], Tuple[float, float]</span>                                <span style=\"color: #ff0000; text-decoration-color: #ff0000\">│</span>\n",
       "<span style=\"color: #ff0000; text-decoration-color: #ff0000\">│</span>   <span style=\"color: #7f7f7f; text-decoration-color: #7f7f7f\">251 </span><span style=\"color: #bfbf7f; text-decoration-color: #bfbf7f\">│   │   </span><span style=\"color: #808000; text-decoration-color: #808000\">The x and y plot limits, packed as ``(xmin, xmax), (ymin, ymax)``.</span>          <span style=\"color: #ff0000; text-decoration-color: #ff0000\">│</span>\n",
       "<span style=\"color: #ff0000; text-decoration-color: #ff0000\">│</span>   <span style=\"color: #7f7f7f; text-decoration-color: #7f7f7f\">252 </span><span style=\"color: #bfbf7f; text-decoration-color: #bfbf7f\">│   │   </span><span style=\"color: #808000; text-decoration-color: #808000\">\"\"\"</span>                                                                         <span style=\"color: #ff0000; text-decoration-color: #ff0000\">│</span>\n",
       "<span style=\"color: #ff0000; text-decoration-color: #ff0000\">│</span> <span style=\"color: #800000; text-decoration-color: #800000\">❱ </span>253 <span style=\"color: #7f7f7f; text-decoration-color: #7f7f7f\">│   │   </span>_, ((xmin, ymin), (xmax, ymax)) = <span style=\"color: #00ffff; text-decoration-color: #00ffff\">self</span>._pop_bounds(axis=axis)               <span style=\"color: #ff0000; text-decoration-color: #ff0000\">│</span>\n",
       "<span style=\"color: #ff0000; text-decoration-color: #ff0000\">│</span>   <span style=\"color: #7f7f7f; text-decoration-color: #7f7f7f\">254 │   │   </span><span style=\"color: #0000ff; text-decoration-color: #0000ff\">return</span> (xmin - buffer, xmax + buffer), (ymin - buffer, ymax + buffer)       <span style=\"color: #ff0000; text-decoration-color: #ff0000\">│</span>\n",
       "<span style=\"color: #ff0000; text-decoration-color: #ff0000\">│</span>   <span style=\"color: #7f7f7f; text-decoration-color: #7f7f7f\">255 │   </span>                                                                                <span style=\"color: #ff0000; text-decoration-color: #ff0000\">│</span>\n",
       "<span style=\"color: #ff0000; text-decoration-color: #ff0000\">│</span>   <span style=\"color: #7f7f7f; text-decoration-color: #7f7f7f\">256 │   </span><span style=\"color: #0000ff; text-decoration-color: #0000ff\">def</span> <span style=\"color: #00ff00; text-decoration-color: #00ff00\">add_ax_labels_lims</span>(<span style=\"color: #00ffff; text-decoration-color: #00ffff\">self</span>, axis: Axis, ax: Ax, buffer: <span style=\"color: #00ffff; text-decoration-color: #00ffff\">float</span> = PLOT_BUFFER) - <span style=\"color: #ff0000; text-decoration-color: #ff0000\">│</span>\n",
       "<span style=\"color: #ff0000; text-decoration-color: #ff0000\">│</span>                                                                                           <span style=\"color: #ff0000; text-decoration-color: #ff0000\">│</span>\n",
       "<span style=\"color: #ff0000; text-decoration-color: #ff0000\">│</span> <span style=\"color: #bfbf7f; text-decoration-color: #bfbf7f\">/Users/twhughes/Documents/Flexcompute/tidy3d-revamp-notebooks/../tidy3d-client-revamp/tid</span> <span style=\"color: #ff0000; text-decoration-color: #ff0000\">│</span>\n",
       "<span style=\"color: #ff0000; text-decoration-color: #ff0000\">│</span> <span style=\"color: #bfbf7f; text-decoration-color: #bfbf7f\">y3d/components/</span><span style=\"color: #808000; text-decoration-color: #808000; font-weight: bold\">geometry.py</span>:<span style=\"color: #0000ff; text-decoration-color: #0000ff\">173</span> in <span style=\"color: #00ff00; text-decoration-color: #00ff00\">_pop_bounds</span>                                             <span style=\"color: #ff0000; text-decoration-color: #ff0000\">│</span>\n",
       "<span style=\"color: #ff0000; text-decoration-color: #ff0000\">│</span>                                                                                           <span style=\"color: #ff0000; text-decoration-color: #ff0000\">│</span>\n",
       "<span style=\"color: #ff0000; text-decoration-color: #ff0000\">│</span>   <span style=\"color: #7f7f7f; text-decoration-color: #7f7f7f\">170 </span><span style=\"color: #bfbf7f; text-decoration-color: #bfbf7f\">│   │   │   </span><span style=\"color: #808000; text-decoration-color: #808000\">Bounds along axis and a tuple of bounds in the ordered planar coordinat</span> <span style=\"color: #ff0000; text-decoration-color: #ff0000\">│</span>\n",
       "<span style=\"color: #ff0000; text-decoration-color: #ff0000\">│</span>   <span style=\"color: #7f7f7f; text-decoration-color: #7f7f7f\">171 </span><span style=\"color: #bfbf7f; text-decoration-color: #bfbf7f\">│   │   │   </span><span style=\"color: #808000; text-decoration-color: #808000\">Packed as ``(zmin, zmax), ((xmin, ymin), (xmax, ymax))``.</span>               <span style=\"color: #ff0000; text-decoration-color: #ff0000\">│</span>\n",
       "<span style=\"color: #ff0000; text-decoration-color: #ff0000\">│</span>   <span style=\"color: #7f7f7f; text-decoration-color: #7f7f7f\">172 </span><span style=\"color: #bfbf7f; text-decoration-color: #bfbf7f\">│   │   </span><span style=\"color: #808000; text-decoration-color: #808000\">\"\"\"</span>                                                                         <span style=\"color: #ff0000; text-decoration-color: #ff0000\">│</span>\n",
       "<span style=\"color: #ff0000; text-decoration-color: #ff0000\">│</span> <span style=\"color: #800000; text-decoration-color: #800000\">❱ </span>173 <span style=\"color: #7f7f7f; text-decoration-color: #7f7f7f\">│   │   </span>b_min, b_max = <span style=\"color: #00ffff; text-decoration-color: #00ffff\">self</span>.bounds                                                  <span style=\"color: #ff0000; text-decoration-color: #ff0000\">│</span>\n",
       "<span style=\"color: #ff0000; text-decoration-color: #ff0000\">│</span>   <span style=\"color: #7f7f7f; text-decoration-color: #7f7f7f\">174 │   │   </span>zmin, (xmin, ymin) = <span style=\"color: #00ffff; text-decoration-color: #00ffff\">self</span>.pop_axis(b_min, axis=axis)                        <span style=\"color: #ff0000; text-decoration-color: #ff0000\">│</span>\n",
       "<span style=\"color: #ff0000; text-decoration-color: #ff0000\">│</span>   <span style=\"color: #7f7f7f; text-decoration-color: #7f7f7f\">175 │   │   </span>zmax, (xmax, ymax) = <span style=\"color: #00ffff; text-decoration-color: #00ffff\">self</span>.pop_axis(b_max, axis=axis)                        <span style=\"color: #ff0000; text-decoration-color: #ff0000\">│</span>\n",
       "<span style=\"color: #ff0000; text-decoration-color: #ff0000\">│</span>   <span style=\"color: #7f7f7f; text-decoration-color: #7f7f7f\">176 │   │   </span><span style=\"color: #0000ff; text-decoration-color: #0000ff\">return</span> (zmin, zmax), ((xmin, ymin), (xmax, ymax))                           <span style=\"color: #ff0000; text-decoration-color: #ff0000\">│</span>\n",
       "<span style=\"color: #ff0000; text-decoration-color: #ff0000\">│</span>                                                                                           <span style=\"color: #ff0000; text-decoration-color: #ff0000\">│</span>\n",
       "<span style=\"color: #ff0000; text-decoration-color: #ff0000\">│</span> <span style=\"color: #bfbf7f; text-decoration-color: #bfbf7f\">/Users/twhughes/Documents/Flexcompute/tidy3d-revamp-notebooks/../tidy3d-client-revamp/tid</span> <span style=\"color: #ff0000; text-decoration-color: #ff0000\">│</span>\n",
       "<span style=\"color: #ff0000; text-decoration-color: #ff0000\">│</span> <span style=\"color: #bfbf7f; text-decoration-color: #bfbf7f\">y3d/components/</span><span style=\"color: #808000; text-decoration-color: #808000; font-weight: bold\">geometry.py</span>:<span style=\"color: #0000ff; text-decoration-color: #0000ff\">566</span> in <span style=\"color: #00ff00; text-decoration-color: #00ff00\">bounds</span>                                                  <span style=\"color: #ff0000; text-decoration-color: #ff0000\">│</span>\n",
       "<span style=\"color: #ff0000; text-decoration-color: #ff0000\">│</span>                                                                                           <span style=\"color: #ff0000; text-decoration-color: #ff0000\">│</span>\n",
       "<span style=\"color: #ff0000; text-decoration-color: #ff0000\">│</span>   <span style=\"color: #7f7f7f; text-decoration-color: #7f7f7f\">563 </span><span style=\"color: #bfbf7f; text-decoration-color: #bfbf7f\">│   │   </span><span style=\"color: #808000; text-decoration-color: #808000\">\"\"\"</span>                                                                         <span style=\"color: #ff0000; text-decoration-color: #ff0000\">│</span>\n",
       "<span style=\"color: #ff0000; text-decoration-color: #ff0000\">│</span>   <span style=\"color: #7f7f7f; text-decoration-color: #7f7f7f\">564 │   │   </span>size = <span style=\"color: #00ffff; text-decoration-color: #00ffff\">self</span>.size                                                            <span style=\"color: #ff0000; text-decoration-color: #ff0000\">│</span>\n",
       "<span style=\"color: #ff0000; text-decoration-color: #ff0000\">│</span>   <span style=\"color: #7f7f7f; text-decoration-color: #7f7f7f\">565 │   │   </span>center = <span style=\"color: #00ffff; text-decoration-color: #00ffff\">self</span>.center                                                        <span style=\"color: #ff0000; text-decoration-color: #ff0000\">│</span>\n",
       "<span style=\"color: #ff0000; text-decoration-color: #ff0000\">│</span> <span style=\"color: #800000; text-decoration-color: #800000\">❱ </span>566 <span style=\"color: #7f7f7f; text-decoration-color: #7f7f7f\">│   │   </span>coord_min = <span style=\"color: #00ffff; text-decoration-color: #00ffff\">tuple</span>(c - s / <span style=\"color: #0000ff; text-decoration-color: #0000ff\">2</span> <span style=\"color: #0000ff; text-decoration-color: #0000ff\">for</span> (s, c) <span style=\"color: #ff00ff; text-decoration-color: #ff00ff\">in</span> <span style=\"color: #00ffff; text-decoration-color: #00ffff\">zip</span>(size, center))                <span style=\"color: #ff0000; text-decoration-color: #ff0000\">│</span>\n",
       "<span style=\"color: #ff0000; text-decoration-color: #ff0000\">│</span>   <span style=\"color: #7f7f7f; text-decoration-color: #7f7f7f\">567 │   │   </span>coord_max = <span style=\"color: #00ffff; text-decoration-color: #00ffff\">tuple</span>(c + s / <span style=\"color: #0000ff; text-decoration-color: #0000ff\">2</span> <span style=\"color: #0000ff; text-decoration-color: #0000ff\">for</span> (s, c) <span style=\"color: #ff00ff; text-decoration-color: #ff00ff\">in</span> <span style=\"color: #00ffff; text-decoration-color: #00ffff\">zip</span>(size, center))                <span style=\"color: #ff0000; text-decoration-color: #ff0000\">│</span>\n",
       "<span style=\"color: #ff0000; text-decoration-color: #ff0000\">│</span>   <span style=\"color: #7f7f7f; text-decoration-color: #7f7f7f\">568 │   │   </span><span style=\"color: #0000ff; text-decoration-color: #0000ff\">return</span> (coord_min, coord_max)                                               <span style=\"color: #ff0000; text-decoration-color: #ff0000\">│</span>\n",
       "<span style=\"color: #ff0000; text-decoration-color: #ff0000\">│</span>   <span style=\"color: #7f7f7f; text-decoration-color: #7f7f7f\">569 </span>                                                                                    <span style=\"color: #ff0000; text-decoration-color: #ff0000\">│</span>\n",
       "<span style=\"color: #ff0000; text-decoration-color: #ff0000\">│</span>                                                                                           <span style=\"color: #ff0000; text-decoration-color: #ff0000\">│</span>\n",
       "<span style=\"color: #ff0000; text-decoration-color: #ff0000\">│</span> <span style=\"color: #bfbf7f; text-decoration-color: #bfbf7f\">/Users/twhughes/Documents/Flexcompute/tidy3d-revamp-notebooks/../tidy3d-client-revamp/tid</span> <span style=\"color: #ff0000; text-decoration-color: #ff0000\">│</span>\n",
       "<span style=\"color: #ff0000; text-decoration-color: #ff0000\">│</span> <span style=\"color: #bfbf7f; text-decoration-color: #bfbf7f\">y3d/components/</span><span style=\"color: #808000; text-decoration-color: #808000; font-weight: bold\">geometry.py</span>:<span style=\"color: #0000ff; text-decoration-color: #0000ff\">566</span> in <span style=\"color: #00ff00; text-decoration-color: #00ff00\">&lt;genexpr&gt;</span>                                               <span style=\"color: #ff0000; text-decoration-color: #ff0000\">│</span>\n",
       "<span style=\"color: #ff0000; text-decoration-color: #ff0000\">│</span>                                                                                           <span style=\"color: #ff0000; text-decoration-color: #ff0000\">│</span>\n",
       "<span style=\"color: #ff0000; text-decoration-color: #ff0000\">│</span>   <span style=\"color: #7f7f7f; text-decoration-color: #7f7f7f\">563 </span><span style=\"color: #bfbf7f; text-decoration-color: #bfbf7f\">│   │   </span><span style=\"color: #808000; text-decoration-color: #808000\">\"\"\"</span>                                                                         <span style=\"color: #ff0000; text-decoration-color: #ff0000\">│</span>\n",
       "<span style=\"color: #ff0000; text-decoration-color: #ff0000\">│</span>   <span style=\"color: #7f7f7f; text-decoration-color: #7f7f7f\">564 │   │   </span>size = <span style=\"color: #00ffff; text-decoration-color: #00ffff\">self</span>.size                                                            <span style=\"color: #ff0000; text-decoration-color: #ff0000\">│</span>\n",
       "<span style=\"color: #ff0000; text-decoration-color: #ff0000\">│</span>   <span style=\"color: #7f7f7f; text-decoration-color: #7f7f7f\">565 │   │   </span>center = <span style=\"color: #00ffff; text-decoration-color: #00ffff\">self</span>.center                                                        <span style=\"color: #ff0000; text-decoration-color: #ff0000\">│</span>\n",
       "<span style=\"color: #ff0000; text-decoration-color: #ff0000\">│</span> <span style=\"color: #800000; text-decoration-color: #800000\">❱ </span>566 <span style=\"color: #7f7f7f; text-decoration-color: #7f7f7f\">│   │   </span>coord_min = <span style=\"color: #00ffff; text-decoration-color: #00ffff\">tuple</span>(c - s / <span style=\"color: #0000ff; text-decoration-color: #0000ff\">2</span> <span style=\"color: #0000ff; text-decoration-color: #0000ff\">for</span> (s, c) <span style=\"color: #ff00ff; text-decoration-color: #ff00ff\">in</span> <span style=\"color: #00ffff; text-decoration-color: #00ffff\">zip</span>(size, center))                <span style=\"color: #ff0000; text-decoration-color: #ff0000\">│</span>\n",
       "<span style=\"color: #ff0000; text-decoration-color: #ff0000\">│</span>   <span style=\"color: #7f7f7f; text-decoration-color: #7f7f7f\">567 │   │   </span>coord_max = <span style=\"color: #00ffff; text-decoration-color: #00ffff\">tuple</span>(c + s / <span style=\"color: #0000ff; text-decoration-color: #0000ff\">2</span> <span style=\"color: #0000ff; text-decoration-color: #0000ff\">for</span> (s, c) <span style=\"color: #ff00ff; text-decoration-color: #ff00ff\">in</span> <span style=\"color: #00ffff; text-decoration-color: #00ffff\">zip</span>(size, center))                <span style=\"color: #ff0000; text-decoration-color: #ff0000\">│</span>\n",
       "<span style=\"color: #ff0000; text-decoration-color: #ff0000\">│</span>   <span style=\"color: #7f7f7f; text-decoration-color: #7f7f7f\">568 │   │   </span><span style=\"color: #0000ff; text-decoration-color: #0000ff\">return</span> (coord_min, coord_max)                                               <span style=\"color: #ff0000; text-decoration-color: #ff0000\">│</span>\n",
       "<span style=\"color: #ff0000; text-decoration-color: #ff0000\">│</span>   <span style=\"color: #7f7f7f; text-decoration-color: #7f7f7f\">569 </span>                                                                                    <span style=\"color: #ff0000; text-decoration-color: #ff0000\">│</span>\n",
       "<span style=\"color: #ff0000; text-decoration-color: #ff0000\">╰───────────────────────────────────────────────────────────────────────────────────────────╯</span>\n",
       "<span style=\"color: #ff0000; text-decoration-color: #ff0000; font-weight: bold\">TypeError: </span>unsupported operand <span style=\"color: #800080; text-decoration-color: #800080; font-weight: bold\">type</span><span style=\"font-weight: bold\">(</span>s<span style=\"font-weight: bold\">)</span> for -: <span style=\"color: #008000; text-decoration-color: #008000\">'float'</span> and <span style=\"color: #008000; text-decoration-color: #008000\">'Inf'</span>\n",
       "</pre>\n"
      ],
      "text/plain": [
       "\u001b[91m╭─\u001b[0m\u001b[91m─────────────────────────── \u001b[0m\u001b[1;31mTraceback \u001b[0m\u001b[1;2;31m(most recent call last)\u001b[0m\u001b[91m ───────────────────────────\u001b[0m\u001b[91m─╮\u001b[0m\n",
       "\u001b[91m│\u001b[0m                                                                                           \u001b[91m│\u001b[0m\n",
       "\u001b[91m│\u001b[0m \u001b[2;33m/var/folders/jx/9y0mtn3s3zzb6mzgmsw6s6gr0000gn/T/ipykernel_99337/\u001b[0m\u001b[1;33m1399839648.py\u001b[0m:\u001b[94m6\u001b[0m in       \u001b[91m│\u001b[0m\n",
       "\u001b[91m│\u001b[0m \u001b[92m<module>\u001b[0m                                                                                  \u001b[91m│\u001b[0m\n",
       "\u001b[91m│\u001b[0m                                                                                           \u001b[91m│\u001b[0m\n",
       "\u001b[91m│\u001b[0m \u001b[3;31m[Errno 2] No such file or directory: \u001b[0m                                                     \u001b[91m│\u001b[0m\n",
       "\u001b[91m│\u001b[0m \u001b[3;31m'/var/folders/jx/9y0mtn3s3zzb6mzgmsw6s6gr0000gn/T/ipykernel_99337/1399839648.py'\u001b[0m          \u001b[91m│\u001b[0m\n",
       "\u001b[91m│\u001b[0m \u001b[2;33m/Users/twhughes/Documents/Flexcompute/tidy3d-revamp-notebooks/../tidy3d-client-revamp/tid\u001b[0m \u001b[91m│\u001b[0m\n",
       "\u001b[91m│\u001b[0m \u001b[2;33my3d/components/\u001b[0m\u001b[1;33mviz.py\u001b[0m:\u001b[94m32\u001b[0m in \u001b[92m_plot\u001b[0m                                                         \u001b[91m│\u001b[0m\n",
       "\u001b[91m│\u001b[0m                                                                                           \u001b[91m│\u001b[0m\n",
       "\u001b[91m│\u001b[0m   \u001b[2m 29 \u001b[0m\u001b[2m│   │   \u001b[0m\u001b[94mif\u001b[0m kwargs.get(\u001b[33m\"\u001b[0m\u001b[33max\u001b[0m\u001b[33m\"\u001b[0m) \u001b[95mis\u001b[0m \u001b[94mNone\u001b[0m:                                                \u001b[91m│\u001b[0m\n",
       "\u001b[91m│\u001b[0m   \u001b[2m 30 \u001b[0m\u001b[2m│   │   │   \u001b[0max = make_ax()                                                          \u001b[91m│\u001b[0m\n",
       "\u001b[91m│\u001b[0m   \u001b[2m 31 \u001b[0m\u001b[2m│   │   │   \u001b[0mkwargs[\u001b[33m\"\u001b[0m\u001b[33max\u001b[0m\u001b[33m\"\u001b[0m] = ax                                                       \u001b[91m│\u001b[0m\n",
       "\u001b[91m│\u001b[0m \u001b[31m❱ \u001b[0m 32 \u001b[2m│   │   \u001b[0m\u001b[94mreturn\u001b[0m plot(*args, **kwargs)                                                \u001b[91m│\u001b[0m\n",
       "\u001b[91m│\u001b[0m   \u001b[2m 33 \u001b[0m\u001b[2m│   \u001b[0m                                                                                \u001b[91m│\u001b[0m\n",
       "\u001b[91m│\u001b[0m   \u001b[2m 34 \u001b[0m\u001b[2m│   \u001b[0m\u001b[94mreturn\u001b[0m _plot                                                                    \u001b[91m│\u001b[0m\n",
       "\u001b[91m│\u001b[0m   \u001b[2m 35 \u001b[0m                                                                                    \u001b[91m│\u001b[0m\n",
       "\u001b[91m│\u001b[0m                                                                                           \u001b[91m│\u001b[0m\n",
       "\u001b[91m│\u001b[0m \u001b[2;33m/Users/twhughes/Documents/Flexcompute/tidy3d-revamp-notebooks/../tidy3d-client-revamp/tid\u001b[0m \u001b[91m│\u001b[0m\n",
       "\u001b[91m│\u001b[0m \u001b[2;33my3d/components/\u001b[0m\u001b[1;33mstructure.py\u001b[0m:\u001b[94m65\u001b[0m in \u001b[92mplot\u001b[0m                                                    \u001b[91m│\u001b[0m\n",
       "\u001b[91m│\u001b[0m                                                                                           \u001b[91m│\u001b[0m\n",
       "\u001b[91m│\u001b[0m   \u001b[2m62 \u001b[0m\u001b[2;33m│   │   \u001b[0m\u001b[33mmatplotlib.axes._subplots.Axes\u001b[0m                                               \u001b[91m│\u001b[0m\n",
       "\u001b[91m│\u001b[0m   \u001b[2m63 \u001b[0m\u001b[2;33m│   │   │   \u001b[0m\u001b[33mThe supplied or created matplotlib axes.\u001b[0m                                 \u001b[91m│\u001b[0m\n",
       "\u001b[91m│\u001b[0m   \u001b[2m64 \u001b[0m\u001b[2;33m│   │   \u001b[0m\u001b[33m\"\"\"\u001b[0m                                                                          \u001b[91m│\u001b[0m\n",
       "\u001b[91m│\u001b[0m \u001b[31m❱ \u001b[0m65 \u001b[2m│   │   \u001b[0m\u001b[94mreturn\u001b[0m \u001b[96mself\u001b[0m.geometry.plot(x=x, y=y, z=z, ax=ax, **patch_kwargs)              \u001b[91m│\u001b[0m\n",
       "\u001b[91m│\u001b[0m   \u001b[2m66 \u001b[0m                                                                                     \u001b[91m│\u001b[0m\n",
       "\u001b[91m│\u001b[0m                                                                                           \u001b[91m│\u001b[0m\n",
       "\u001b[91m│\u001b[0m \u001b[2;33m/Users/twhughes/Documents/Flexcompute/tidy3d-revamp-notebooks/../tidy3d-client-revamp/tid\u001b[0m \u001b[91m│\u001b[0m\n",
       "\u001b[91m│\u001b[0m \u001b[2;33my3d/components/\u001b[0m\u001b[1;33mviz.py\u001b[0m:\u001b[94m32\u001b[0m in \u001b[92m_plot\u001b[0m                                                         \u001b[91m│\u001b[0m\n",
       "\u001b[91m│\u001b[0m                                                                                           \u001b[91m│\u001b[0m\n",
       "\u001b[91m│\u001b[0m   \u001b[2m 29 \u001b[0m\u001b[2m│   │   \u001b[0m\u001b[94mif\u001b[0m kwargs.get(\u001b[33m\"\u001b[0m\u001b[33max\u001b[0m\u001b[33m\"\u001b[0m) \u001b[95mis\u001b[0m \u001b[94mNone\u001b[0m:                                                \u001b[91m│\u001b[0m\n",
       "\u001b[91m│\u001b[0m   \u001b[2m 30 \u001b[0m\u001b[2m│   │   │   \u001b[0max = make_ax()                                                          \u001b[91m│\u001b[0m\n",
       "\u001b[91m│\u001b[0m   \u001b[2m 31 \u001b[0m\u001b[2m│   │   │   \u001b[0mkwargs[\u001b[33m\"\u001b[0m\u001b[33max\u001b[0m\u001b[33m\"\u001b[0m] = ax                                                       \u001b[91m│\u001b[0m\n",
       "\u001b[91m│\u001b[0m \u001b[31m❱ \u001b[0m 32 \u001b[2m│   │   \u001b[0m\u001b[94mreturn\u001b[0m plot(*args, **kwargs)                                                \u001b[91m│\u001b[0m\n",
       "\u001b[91m│\u001b[0m   \u001b[2m 33 \u001b[0m\u001b[2m│   \u001b[0m                                                                                \u001b[91m│\u001b[0m\n",
       "\u001b[91m│\u001b[0m   \u001b[2m 34 \u001b[0m\u001b[2m│   \u001b[0m\u001b[94mreturn\u001b[0m _plot                                                                    \u001b[91m│\u001b[0m\n",
       "\u001b[91m│\u001b[0m   \u001b[2m 35 \u001b[0m                                                                                    \u001b[91m│\u001b[0m\n",
       "\u001b[91m│\u001b[0m                                                                                           \u001b[91m│\u001b[0m\n",
       "\u001b[91m│\u001b[0m \u001b[2;33m/Users/twhughes/Documents/Flexcompute/tidy3d-revamp-notebooks/../tidy3d-client-revamp/tid\u001b[0m \u001b[91m│\u001b[0m\n",
       "\u001b[91m│\u001b[0m \u001b[2;33my3d/components/\u001b[0m\u001b[1;33mgeometry.py\u001b[0m:\u001b[94m215\u001b[0m in \u001b[92mplot\u001b[0m                                                    \u001b[91m│\u001b[0m\n",
       "\u001b[91m│\u001b[0m                                                                                           \u001b[91m│\u001b[0m\n",
       "\u001b[91m│\u001b[0m   \u001b[2m212 \u001b[0m\u001b[2m│   │   │   \u001b[0max.add_artist(patch)                                                    \u001b[91m│\u001b[0m\n",
       "\u001b[91m│\u001b[0m   \u001b[2m213 \u001b[0m\u001b[2m│   │   \u001b[0m                                                                            \u001b[91m│\u001b[0m\n",
       "\u001b[91m│\u001b[0m   \u001b[2m214 \u001b[0m\u001b[2m│   │   \u001b[0m\u001b[2m# clean up the axis display\u001b[0m                                                 \u001b[91m│\u001b[0m\n",
       "\u001b[91m│\u001b[0m \u001b[31m❱ \u001b[0m215 \u001b[2m│   │   \u001b[0max = \u001b[96mself\u001b[0m.add_ax_labels_lims(axis=axis, ax=ax)                              \u001b[91m│\u001b[0m\n",
       "\u001b[91m│\u001b[0m   \u001b[2m216 \u001b[0m\u001b[2m│   │   \u001b[0max.set_aspect(\u001b[33m\"\u001b[0m\u001b[33mequal\u001b[0m\u001b[33m\"\u001b[0m)                                                      \u001b[91m│\u001b[0m\n",
       "\u001b[91m│\u001b[0m   \u001b[2m217 \u001b[0m\u001b[2m│   │   \u001b[0max.set_title(\u001b[33mf\u001b[0m\u001b[33m\"\u001b[0m\u001b[33mcross section at \u001b[0m\u001b[33m{\u001b[0m\u001b[33m'\u001b[0m\u001b[33mxyz\u001b[0m\u001b[33m'\u001b[0m[axis]\u001b[33m}\u001b[0m\u001b[33m=\u001b[0m\u001b[33m{\u001b[0mposition\u001b[33m:\u001b[0m\u001b[33m.2f\u001b[0m\u001b[33m}\u001b[0m\u001b[33m\"\u001b[0m)              \u001b[91m│\u001b[0m\n",
       "\u001b[91m│\u001b[0m   \u001b[2m218 \u001b[0m\u001b[2m│   │   \u001b[0m\u001b[94mreturn\u001b[0m ax                                                                   \u001b[91m│\u001b[0m\n",
       "\u001b[91m│\u001b[0m                                                                                           \u001b[91m│\u001b[0m\n",
       "\u001b[91m│\u001b[0m \u001b[2;33m/Users/twhughes/Documents/Flexcompute/tidy3d-revamp-notebooks/../tidy3d-client-revamp/tid\u001b[0m \u001b[91m│\u001b[0m\n",
       "\u001b[91m│\u001b[0m \u001b[2;33my3d/components/\u001b[0m\u001b[1;33mgeometry.py\u001b[0m:\u001b[94m274\u001b[0m in \u001b[92madd_ax_labels_lims\u001b[0m                                      \u001b[91m│\u001b[0m\n",
       "\u001b[91m│\u001b[0m                                                                                           \u001b[91m│\u001b[0m\n",
       "\u001b[91m│\u001b[0m   \u001b[2m271 \u001b[0m\u001b[2;33m│   │   │   \u001b[0m\u001b[33mThe supplied or created matplotlib axes.\u001b[0m                                \u001b[91m│\u001b[0m\n",
       "\u001b[91m│\u001b[0m   \u001b[2m272 \u001b[0m\u001b[2;33m│   │   \u001b[0m\u001b[33m\"\"\"\u001b[0m                                                                         \u001b[91m│\u001b[0m\n",
       "\u001b[91m│\u001b[0m   \u001b[2m273 \u001b[0m\u001b[2m│   │   \u001b[0mxlabel, ylabel = \u001b[96mself\u001b[0m._get_plot_labels(axis=axis)                           \u001b[91m│\u001b[0m\n",
       "\u001b[91m│\u001b[0m \u001b[31m❱ \u001b[0m274 \u001b[2m│   │   \u001b[0m(xmin, xmax), (ymin, ymax) = \u001b[96mself\u001b[0m._get_plot_limits(axis=axis, buffer=buffer \u001b[91m│\u001b[0m\n",
       "\u001b[91m│\u001b[0m   \u001b[2m275 \u001b[0m\u001b[2m│   │   \u001b[0max.set_xlim(xmin, xmax)                                                     \u001b[91m│\u001b[0m\n",
       "\u001b[91m│\u001b[0m   \u001b[2m276 \u001b[0m\u001b[2m│   │   \u001b[0max.set_ylim(ymin, ymax)                                                     \u001b[91m│\u001b[0m\n",
       "\u001b[91m│\u001b[0m   \u001b[2m277 \u001b[0m\u001b[2m│   │   \u001b[0max.set_xlabel(xlabel)                                                       \u001b[91m│\u001b[0m\n",
       "\u001b[91m│\u001b[0m                                                                                           \u001b[91m│\u001b[0m\n",
       "\u001b[91m│\u001b[0m \u001b[2;33m/Users/twhughes/Documents/Flexcompute/tidy3d-revamp-notebooks/../tidy3d-client-revamp/tid\u001b[0m \u001b[91m│\u001b[0m\n",
       "\u001b[91m│\u001b[0m \u001b[2;33my3d/components/\u001b[0m\u001b[1;33mgeometry.py\u001b[0m:\u001b[94m253\u001b[0m in \u001b[92m_get_plot_limits\u001b[0m                                        \u001b[91m│\u001b[0m\n",
       "\u001b[91m│\u001b[0m                                                                                           \u001b[91m│\u001b[0m\n",
       "\u001b[91m│\u001b[0m   \u001b[2m250 \u001b[0m\u001b[2;33m│   │   │   \u001b[0m\u001b[33mTuple[float, float], Tuple[float, float]\u001b[0m                                \u001b[91m│\u001b[0m\n",
       "\u001b[91m│\u001b[0m   \u001b[2m251 \u001b[0m\u001b[2;33m│   │   \u001b[0m\u001b[33mThe x and y plot limits, packed as ``(xmin, xmax), (ymin, ymax)``.\u001b[0m          \u001b[91m│\u001b[0m\n",
       "\u001b[91m│\u001b[0m   \u001b[2m252 \u001b[0m\u001b[2;33m│   │   \u001b[0m\u001b[33m\"\"\"\u001b[0m                                                                         \u001b[91m│\u001b[0m\n",
       "\u001b[91m│\u001b[0m \u001b[31m❱ \u001b[0m253 \u001b[2m│   │   \u001b[0m_, ((xmin, ymin), (xmax, ymax)) = \u001b[96mself\u001b[0m._pop_bounds(axis=axis)               \u001b[91m│\u001b[0m\n",
       "\u001b[91m│\u001b[0m   \u001b[2m254 \u001b[0m\u001b[2m│   │   \u001b[0m\u001b[94mreturn\u001b[0m (xmin - buffer, xmax + buffer), (ymin - buffer, ymax + buffer)       \u001b[91m│\u001b[0m\n",
       "\u001b[91m│\u001b[0m   \u001b[2m255 \u001b[0m\u001b[2m│   \u001b[0m                                                                                \u001b[91m│\u001b[0m\n",
       "\u001b[91m│\u001b[0m   \u001b[2m256 \u001b[0m\u001b[2m│   \u001b[0m\u001b[94mdef\u001b[0m \u001b[92madd_ax_labels_lims\u001b[0m(\u001b[96mself\u001b[0m, axis: Axis, ax: Ax, buffer: \u001b[96mfloat\u001b[0m = PLOT_BUFFER) - \u001b[91m│\u001b[0m\n",
       "\u001b[91m│\u001b[0m                                                                                           \u001b[91m│\u001b[0m\n",
       "\u001b[91m│\u001b[0m \u001b[2;33m/Users/twhughes/Documents/Flexcompute/tidy3d-revamp-notebooks/../tidy3d-client-revamp/tid\u001b[0m \u001b[91m│\u001b[0m\n",
       "\u001b[91m│\u001b[0m \u001b[2;33my3d/components/\u001b[0m\u001b[1;33mgeometry.py\u001b[0m:\u001b[94m173\u001b[0m in \u001b[92m_pop_bounds\u001b[0m                                             \u001b[91m│\u001b[0m\n",
       "\u001b[91m│\u001b[0m                                                                                           \u001b[91m│\u001b[0m\n",
       "\u001b[91m│\u001b[0m   \u001b[2m170 \u001b[0m\u001b[2;33m│   │   │   \u001b[0m\u001b[33mBounds along axis and a tuple of bounds in the ordered planar coordinat\u001b[0m \u001b[91m│\u001b[0m\n",
       "\u001b[91m│\u001b[0m   \u001b[2m171 \u001b[0m\u001b[2;33m│   │   │   \u001b[0m\u001b[33mPacked as ``(zmin, zmax), ((xmin, ymin), (xmax, ymax))``.\u001b[0m               \u001b[91m│\u001b[0m\n",
       "\u001b[91m│\u001b[0m   \u001b[2m172 \u001b[0m\u001b[2;33m│   │   \u001b[0m\u001b[33m\"\"\"\u001b[0m                                                                         \u001b[91m│\u001b[0m\n",
       "\u001b[91m│\u001b[0m \u001b[31m❱ \u001b[0m173 \u001b[2m│   │   \u001b[0mb_min, b_max = \u001b[96mself\u001b[0m.bounds                                                  \u001b[91m│\u001b[0m\n",
       "\u001b[91m│\u001b[0m   \u001b[2m174 \u001b[0m\u001b[2m│   │   \u001b[0mzmin, (xmin, ymin) = \u001b[96mself\u001b[0m.pop_axis(b_min, axis=axis)                        \u001b[91m│\u001b[0m\n",
       "\u001b[91m│\u001b[0m   \u001b[2m175 \u001b[0m\u001b[2m│   │   \u001b[0mzmax, (xmax, ymax) = \u001b[96mself\u001b[0m.pop_axis(b_max, axis=axis)                        \u001b[91m│\u001b[0m\n",
       "\u001b[91m│\u001b[0m   \u001b[2m176 \u001b[0m\u001b[2m│   │   \u001b[0m\u001b[94mreturn\u001b[0m (zmin, zmax), ((xmin, ymin), (xmax, ymax))                           \u001b[91m│\u001b[0m\n",
       "\u001b[91m│\u001b[0m                                                                                           \u001b[91m│\u001b[0m\n",
       "\u001b[91m│\u001b[0m \u001b[2;33m/Users/twhughes/Documents/Flexcompute/tidy3d-revamp-notebooks/../tidy3d-client-revamp/tid\u001b[0m \u001b[91m│\u001b[0m\n",
       "\u001b[91m│\u001b[0m \u001b[2;33my3d/components/\u001b[0m\u001b[1;33mgeometry.py\u001b[0m:\u001b[94m566\u001b[0m in \u001b[92mbounds\u001b[0m                                                  \u001b[91m│\u001b[0m\n",
       "\u001b[91m│\u001b[0m                                                                                           \u001b[91m│\u001b[0m\n",
       "\u001b[91m│\u001b[0m   \u001b[2m563 \u001b[0m\u001b[2;33m│   │   \u001b[0m\u001b[33m\"\"\"\u001b[0m                                                                         \u001b[91m│\u001b[0m\n",
       "\u001b[91m│\u001b[0m   \u001b[2m564 \u001b[0m\u001b[2m│   │   \u001b[0msize = \u001b[96mself\u001b[0m.size                                                            \u001b[91m│\u001b[0m\n",
       "\u001b[91m│\u001b[0m   \u001b[2m565 \u001b[0m\u001b[2m│   │   \u001b[0mcenter = \u001b[96mself\u001b[0m.center                                                        \u001b[91m│\u001b[0m\n",
       "\u001b[91m│\u001b[0m \u001b[31m❱ \u001b[0m566 \u001b[2m│   │   \u001b[0mcoord_min = \u001b[96mtuple\u001b[0m(c - s / \u001b[94m2\u001b[0m \u001b[94mfor\u001b[0m (s, c) \u001b[95min\u001b[0m \u001b[96mzip\u001b[0m(size, center))                \u001b[91m│\u001b[0m\n",
       "\u001b[91m│\u001b[0m   \u001b[2m567 \u001b[0m\u001b[2m│   │   \u001b[0mcoord_max = \u001b[96mtuple\u001b[0m(c + s / \u001b[94m2\u001b[0m \u001b[94mfor\u001b[0m (s, c) \u001b[95min\u001b[0m \u001b[96mzip\u001b[0m(size, center))                \u001b[91m│\u001b[0m\n",
       "\u001b[91m│\u001b[0m   \u001b[2m568 \u001b[0m\u001b[2m│   │   \u001b[0m\u001b[94mreturn\u001b[0m (coord_min, coord_max)                                               \u001b[91m│\u001b[0m\n",
       "\u001b[91m│\u001b[0m   \u001b[2m569 \u001b[0m                                                                                    \u001b[91m│\u001b[0m\n",
       "\u001b[91m│\u001b[0m                                                                                           \u001b[91m│\u001b[0m\n",
       "\u001b[91m│\u001b[0m \u001b[2;33m/Users/twhughes/Documents/Flexcompute/tidy3d-revamp-notebooks/../tidy3d-client-revamp/tid\u001b[0m \u001b[91m│\u001b[0m\n",
       "\u001b[91m│\u001b[0m \u001b[2;33my3d/components/\u001b[0m\u001b[1;33mgeometry.py\u001b[0m:\u001b[94m566\u001b[0m in \u001b[92m<genexpr>\u001b[0m                                               \u001b[91m│\u001b[0m\n",
       "\u001b[91m│\u001b[0m                                                                                           \u001b[91m│\u001b[0m\n",
       "\u001b[91m│\u001b[0m   \u001b[2m563 \u001b[0m\u001b[2;33m│   │   \u001b[0m\u001b[33m\"\"\"\u001b[0m                                                                         \u001b[91m│\u001b[0m\n",
       "\u001b[91m│\u001b[0m   \u001b[2m564 \u001b[0m\u001b[2m│   │   \u001b[0msize = \u001b[96mself\u001b[0m.size                                                            \u001b[91m│\u001b[0m\n",
       "\u001b[91m│\u001b[0m   \u001b[2m565 \u001b[0m\u001b[2m│   │   \u001b[0mcenter = \u001b[96mself\u001b[0m.center                                                        \u001b[91m│\u001b[0m\n",
       "\u001b[91m│\u001b[0m \u001b[31m❱ \u001b[0m566 \u001b[2m│   │   \u001b[0mcoord_min = \u001b[96mtuple\u001b[0m(c - s / \u001b[94m2\u001b[0m \u001b[94mfor\u001b[0m (s, c) \u001b[95min\u001b[0m \u001b[96mzip\u001b[0m(size, center))                \u001b[91m│\u001b[0m\n",
       "\u001b[91m│\u001b[0m   \u001b[2m567 \u001b[0m\u001b[2m│   │   \u001b[0mcoord_max = \u001b[96mtuple\u001b[0m(c + s / \u001b[94m2\u001b[0m \u001b[94mfor\u001b[0m (s, c) \u001b[95min\u001b[0m \u001b[96mzip\u001b[0m(size, center))                \u001b[91m│\u001b[0m\n",
       "\u001b[91m│\u001b[0m   \u001b[2m568 \u001b[0m\u001b[2m│   │   \u001b[0m\u001b[94mreturn\u001b[0m (coord_min, coord_max)                                               \u001b[91m│\u001b[0m\n",
       "\u001b[91m│\u001b[0m   \u001b[2m569 \u001b[0m                                                                                    \u001b[91m│\u001b[0m\n",
       "\u001b[91m╰───────────────────────────────────────────────────────────────────────────────────────────╯\u001b[0m\n",
       "\u001b[1;91mTypeError: \u001b[0munsupported operand \u001b[1;35mtype\u001b[0m\u001b[1m(\u001b[0ms\u001b[1m)\u001b[0m for -: \u001b[32m'float'\u001b[0m and \u001b[32m'Inf'\u001b[0m\n"
      ]
     },
     "metadata": {},
     "output_type": "display_data"
    },
    {
     "data": {
      "image/png": "[encoded data removed]"
     },
     "metadata": {
      "needs_background": "light"
     },
     "output_type": "display_data"
    }
   ],
   "source": [
    "box = td.Structure(\n",
    "    geometry=td.Box(center=(0.,0.,0), size=(td.inf,2.,.5)),\n",
    "    medium=td.Medium(permittivity=2.0)\n",
    ")\n",
    "\n",
    "ax = box.plot(x=0)"
   ]
  },
  {
   "cell_type": "markdown",
   "id": "a3a0c975-0f78-475b-a6ae-8c5327cf2421",
   "metadata": {},
   "source": [
    "We can supply `ax` argument to the plot function to plot on a specific matplotlib Axes, for example"
   ]
  },
  {
   "cell_type": "code",
   "execution_count": 7,
   "id": "bcf9e8df-2d5c-4853-ac68-b084941f4dbe",
   "metadata": {
    "tags": []
   },
   "outputs": [
    {
     "data": {
      "text/html": [
       "<pre style=\"white-space:pre;overflow-x:auto;line-height:normal;font-family:Menlo,'DejaVu Sans Mono',consolas,'Courier New',monospace\"><span style=\"color: #ff0000; text-decoration-color: #ff0000\">╭──────────────────────────── </span><span style=\"color: #800000; text-decoration-color: #800000; font-weight: bold\">Traceback </span><span style=\"color: #bf7f7f; text-decoration-color: #bf7f7f; font-weight: bold\">(most recent call last)</span><span style=\"color: #ff0000; text-decoration-color: #ff0000\"> ────────────────────────────╮</span>\n",
       "<span style=\"color: #ff0000; text-decoration-color: #ff0000\">│</span>                                                                                           <span style=\"color: #ff0000; text-decoration-color: #ff0000\">│</span>\n",
       "<span style=\"color: #ff0000; text-decoration-color: #ff0000\">│</span> <span style=\"color: #bfbf7f; text-decoration-color: #bfbf7f\">/var/folders/jx/9y0mtn3s3zzb6mzgmsw6s6gr0000gn/T/ipykernel_99337/</span><span style=\"color: #808000; text-decoration-color: #808000; font-weight: bold\">1171282097.py</span>:<span style=\"color: #0000ff; text-decoration-color: #0000ff\">5</span> in       <span style=\"color: #ff0000; text-decoration-color: #ff0000\">│</span>\n",
       "<span style=\"color: #ff0000; text-decoration-color: #ff0000\">│</span> <span style=\"color: #00ff00; text-decoration-color: #00ff00\">&lt;module&gt;</span>                                                                                  <span style=\"color: #ff0000; text-decoration-color: #ff0000\">│</span>\n",
       "<span style=\"color: #ff0000; text-decoration-color: #ff0000\">│</span>                                                                                           <span style=\"color: #ff0000; text-decoration-color: #ff0000\">│</span>\n",
       "<span style=\"color: #ff0000; text-decoration-color: #ff0000\">│</span> <span style=\"color: #800000; text-decoration-color: #800000; font-style: italic\">[Errno 2] No such file or directory: </span>                                                     <span style=\"color: #ff0000; text-decoration-color: #ff0000\">│</span>\n",
       "<span style=\"color: #ff0000; text-decoration-color: #ff0000\">│</span> <span style=\"color: #800000; text-decoration-color: #800000; font-style: italic\">'/var/folders/jx/9y0mtn3s3zzb6mzgmsw6s6gr0000gn/T/ipykernel_99337/1171282097.py'</span>          <span style=\"color: #ff0000; text-decoration-color: #ff0000\">│</span>\n",
       "<span style=\"color: #ff0000; text-decoration-color: #ff0000\">│</span> <span style=\"color: #bfbf7f; text-decoration-color: #bfbf7f\">/Users/twhughes/Documents/Flexcompute/tidy3d-revamp-notebooks/../tidy3d-client-revamp/tid</span> <span style=\"color: #ff0000; text-decoration-color: #ff0000\">│</span>\n",
       "<span style=\"color: #ff0000; text-decoration-color: #ff0000\">│</span> <span style=\"color: #bfbf7f; text-decoration-color: #bfbf7f\">y3d/components/</span><span style=\"color: #808000; text-decoration-color: #808000; font-weight: bold\">viz.py</span>:<span style=\"color: #0000ff; text-decoration-color: #0000ff\">32</span> in <span style=\"color: #00ff00; text-decoration-color: #00ff00\">_plot</span>                                                         <span style=\"color: #ff0000; text-decoration-color: #ff0000\">│</span>\n",
       "<span style=\"color: #ff0000; text-decoration-color: #ff0000\">│</span>                                                                                           <span style=\"color: #ff0000; text-decoration-color: #ff0000\">│</span>\n",
       "<span style=\"color: #ff0000; text-decoration-color: #ff0000\">│</span>   <span style=\"color: #7f7f7f; text-decoration-color: #7f7f7f\"> 29 │   │   </span><span style=\"color: #0000ff; text-decoration-color: #0000ff\">if</span> kwargs.get(<span style=\"color: #808000; text-decoration-color: #808000\">\"ax\"</span>) <span style=\"color: #ff00ff; text-decoration-color: #ff00ff\">is</span> <span style=\"color: #0000ff; text-decoration-color: #0000ff\">None</span>:                                                <span style=\"color: #ff0000; text-decoration-color: #ff0000\">│</span>\n",
       "<span style=\"color: #ff0000; text-decoration-color: #ff0000\">│</span>   <span style=\"color: #7f7f7f; text-decoration-color: #7f7f7f\"> 30 │   │   │   </span>ax = make_ax()                                                          <span style=\"color: #ff0000; text-decoration-color: #ff0000\">│</span>\n",
       "<span style=\"color: #ff0000; text-decoration-color: #ff0000\">│</span>   <span style=\"color: #7f7f7f; text-decoration-color: #7f7f7f\"> 31 │   │   │   </span>kwargs[<span style=\"color: #808000; text-decoration-color: #808000\">\"ax\"</span>] = ax                                                       <span style=\"color: #ff0000; text-decoration-color: #ff0000\">│</span>\n",
       "<span style=\"color: #ff0000; text-decoration-color: #ff0000\">│</span> <span style=\"color: #800000; text-decoration-color: #800000\">❱ </span> 32 <span style=\"color: #7f7f7f; text-decoration-color: #7f7f7f\">│   │   </span><span style=\"color: #0000ff; text-decoration-color: #0000ff\">return</span> plot(*args, **kwargs)                                                <span style=\"color: #ff0000; text-decoration-color: #ff0000\">│</span>\n",
       "<span style=\"color: #ff0000; text-decoration-color: #ff0000\">│</span>   <span style=\"color: #7f7f7f; text-decoration-color: #7f7f7f\"> 33 │   </span>                                                                                <span style=\"color: #ff0000; text-decoration-color: #ff0000\">│</span>\n",
       "<span style=\"color: #ff0000; text-decoration-color: #ff0000\">│</span>   <span style=\"color: #7f7f7f; text-decoration-color: #7f7f7f\"> 34 │   </span><span style=\"color: #0000ff; text-decoration-color: #0000ff\">return</span> _plot                                                                    <span style=\"color: #ff0000; text-decoration-color: #ff0000\">│</span>\n",
       "<span style=\"color: #ff0000; text-decoration-color: #ff0000\">│</span>   <span style=\"color: #7f7f7f; text-decoration-color: #7f7f7f\"> 35 </span>                                                                                    <span style=\"color: #ff0000; text-decoration-color: #ff0000\">│</span>\n",
       "<span style=\"color: #ff0000; text-decoration-color: #ff0000\">│</span>                                                                                           <span style=\"color: #ff0000; text-decoration-color: #ff0000\">│</span>\n",
       "<span style=\"color: #ff0000; text-decoration-color: #ff0000\">│</span> <span style=\"color: #bfbf7f; text-decoration-color: #bfbf7f\">/Users/twhughes/Documents/Flexcompute/tidy3d-revamp-notebooks/../tidy3d-client-revamp/tid</span> <span style=\"color: #ff0000; text-decoration-color: #ff0000\">│</span>\n",
       "<span style=\"color: #ff0000; text-decoration-color: #ff0000\">│</span> <span style=\"color: #bfbf7f; text-decoration-color: #bfbf7f\">y3d/components/</span><span style=\"color: #808000; text-decoration-color: #808000; font-weight: bold\">structure.py</span>:<span style=\"color: #0000ff; text-decoration-color: #0000ff\">65</span> in <span style=\"color: #00ff00; text-decoration-color: #00ff00\">plot</span>                                                    <span style=\"color: #ff0000; text-decoration-color: #ff0000\">│</span>\n",
       "<span style=\"color: #ff0000; text-decoration-color: #ff0000\">│</span>                                                                                           <span style=\"color: #ff0000; text-decoration-color: #ff0000\">│</span>\n",
       "<span style=\"color: #ff0000; text-decoration-color: #ff0000\">│</span>   <span style=\"color: #7f7f7f; text-decoration-color: #7f7f7f\">62 </span><span style=\"color: #bfbf7f; text-decoration-color: #bfbf7f\">│   │   </span><span style=\"color: #808000; text-decoration-color: #808000\">matplotlib.axes._subplots.Axes</span>                                               <span style=\"color: #ff0000; text-decoration-color: #ff0000\">│</span>\n",
       "<span style=\"color: #ff0000; text-decoration-color: #ff0000\">│</span>   <span style=\"color: #7f7f7f; text-decoration-color: #7f7f7f\">63 </span><span style=\"color: #bfbf7f; text-decoration-color: #bfbf7f\">│   │   │   </span><span style=\"color: #808000; text-decoration-color: #808000\">The supplied or created matplotlib axes.</span>                                 <span style=\"color: #ff0000; text-decoration-color: #ff0000\">│</span>\n",
       "<span style=\"color: #ff0000; text-decoration-color: #ff0000\">│</span>   <span style=\"color: #7f7f7f; text-decoration-color: #7f7f7f\">64 </span><span style=\"color: #bfbf7f; text-decoration-color: #bfbf7f\">│   │   </span><span style=\"color: #808000; text-decoration-color: #808000\">\"\"\"</span>                                                                          <span style=\"color: #ff0000; text-decoration-color: #ff0000\">│</span>\n",
       "<span style=\"color: #ff0000; text-decoration-color: #ff0000\">│</span> <span style=\"color: #800000; text-decoration-color: #800000\">❱ </span>65 <span style=\"color: #7f7f7f; text-decoration-color: #7f7f7f\">│   │   </span><span style=\"color: #0000ff; text-decoration-color: #0000ff\">return</span> <span style=\"color: #00ffff; text-decoration-color: #00ffff\">self</span>.geometry.plot(x=x, y=y, z=z, ax=ax, **patch_kwargs)              <span style=\"color: #ff0000; text-decoration-color: #ff0000\">│</span>\n",
       "<span style=\"color: #ff0000; text-decoration-color: #ff0000\">│</span>   <span style=\"color: #7f7f7f; text-decoration-color: #7f7f7f\">66 </span>                                                                                     <span style=\"color: #ff0000; text-decoration-color: #ff0000\">│</span>\n",
       "<span style=\"color: #ff0000; text-decoration-color: #ff0000\">│</span>                                                                                           <span style=\"color: #ff0000; text-decoration-color: #ff0000\">│</span>\n",
       "<span style=\"color: #ff0000; text-decoration-color: #ff0000\">│</span> <span style=\"color: #bfbf7f; text-decoration-color: #bfbf7f\">/Users/twhughes/Documents/Flexcompute/tidy3d-revamp-notebooks/../tidy3d-client-revamp/tid</span> <span style=\"color: #ff0000; text-decoration-color: #ff0000\">│</span>\n",
       "<span style=\"color: #ff0000; text-decoration-color: #ff0000\">│</span> <span style=\"color: #bfbf7f; text-decoration-color: #bfbf7f\">y3d/components/</span><span style=\"color: #808000; text-decoration-color: #808000; font-weight: bold\">viz.py</span>:<span style=\"color: #0000ff; text-decoration-color: #0000ff\">32</span> in <span style=\"color: #00ff00; text-decoration-color: #00ff00\">_plot</span>                                                         <span style=\"color: #ff0000; text-decoration-color: #ff0000\">│</span>\n",
       "<span style=\"color: #ff0000; text-decoration-color: #ff0000\">│</span>                                                                                           <span style=\"color: #ff0000; text-decoration-color: #ff0000\">│</span>\n",
       "<span style=\"color: #ff0000; text-decoration-color: #ff0000\">│</span>   <span style=\"color: #7f7f7f; text-decoration-color: #7f7f7f\"> 29 │   │   </span><span style=\"color: #0000ff; text-decoration-color: #0000ff\">if</span> kwargs.get(<span style=\"color: #808000; text-decoration-color: #808000\">\"ax\"</span>) <span style=\"color: #ff00ff; text-decoration-color: #ff00ff\">is</span> <span style=\"color: #0000ff; text-decoration-color: #0000ff\">None</span>:                                                <span style=\"color: #ff0000; text-decoration-color: #ff0000\">│</span>\n",
       "<span style=\"color: #ff0000; text-decoration-color: #ff0000\">│</span>   <span style=\"color: #7f7f7f; text-decoration-color: #7f7f7f\"> 30 │   │   │   </span>ax = make_ax()                                                          <span style=\"color: #ff0000; text-decoration-color: #ff0000\">│</span>\n",
       "<span style=\"color: #ff0000; text-decoration-color: #ff0000\">│</span>   <span style=\"color: #7f7f7f; text-decoration-color: #7f7f7f\"> 31 │   │   │   </span>kwargs[<span style=\"color: #808000; text-decoration-color: #808000\">\"ax\"</span>] = ax                                                       <span style=\"color: #ff0000; text-decoration-color: #ff0000\">│</span>\n",
       "<span style=\"color: #ff0000; text-decoration-color: #ff0000\">│</span> <span style=\"color: #800000; text-decoration-color: #800000\">❱ </span> 32 <span style=\"color: #7f7f7f; text-decoration-color: #7f7f7f\">│   │   </span><span style=\"color: #0000ff; text-decoration-color: #0000ff\">return</span> plot(*args, **kwargs)                                                <span style=\"color: #ff0000; text-decoration-color: #ff0000\">│</span>\n",
       "<span style=\"color: #ff0000; text-decoration-color: #ff0000\">│</span>   <span style=\"color: #7f7f7f; text-decoration-color: #7f7f7f\"> 33 │   </span>                                                                                <span style=\"color: #ff0000; text-decoration-color: #ff0000\">│</span>\n",
       "<span style=\"color: #ff0000; text-decoration-color: #ff0000\">│</span>   <span style=\"color: #7f7f7f; text-decoration-color: #7f7f7f\"> 34 │   </span><span style=\"color: #0000ff; text-decoration-color: #0000ff\">return</span> _plot                                                                    <span style=\"color: #ff0000; text-decoration-color: #ff0000\">│</span>\n",
       "<span style=\"color: #ff0000; text-decoration-color: #ff0000\">│</span>   <span style=\"color: #7f7f7f; text-decoration-color: #7f7f7f\"> 35 </span>                                                                                    <span style=\"color: #ff0000; text-decoration-color: #ff0000\">│</span>\n",
       "<span style=\"color: #ff0000; text-decoration-color: #ff0000\">│</span>                                                                                           <span style=\"color: #ff0000; text-decoration-color: #ff0000\">│</span>\n",
       "<span style=\"color: #ff0000; text-decoration-color: #ff0000\">│</span> <span style=\"color: #bfbf7f; text-decoration-color: #bfbf7f\">/Users/twhughes/Documents/Flexcompute/tidy3d-revamp-notebooks/../tidy3d-client-revamp/tid</span> <span style=\"color: #ff0000; text-decoration-color: #ff0000\">│</span>\n",
       "<span style=\"color: #ff0000; text-decoration-color: #ff0000\">│</span> <span style=\"color: #bfbf7f; text-decoration-color: #bfbf7f\">y3d/components/</span><span style=\"color: #808000; text-decoration-color: #808000; font-weight: bold\">geometry.py</span>:<span style=\"color: #0000ff; text-decoration-color: #0000ff\">215</span> in <span style=\"color: #00ff00; text-decoration-color: #00ff00\">plot</span>                                                    <span style=\"color: #ff0000; text-decoration-color: #ff0000\">│</span>\n",
       "<span style=\"color: #ff0000; text-decoration-color: #ff0000\">│</span>                                                                                           <span style=\"color: #ff0000; text-decoration-color: #ff0000\">│</span>\n",
       "<span style=\"color: #ff0000; text-decoration-color: #ff0000\">│</span>   <span style=\"color: #7f7f7f; text-decoration-color: #7f7f7f\">212 │   │   │   </span>ax.add_artist(patch)                                                    <span style=\"color: #ff0000; text-decoration-color: #ff0000\">│</span>\n",
       "<span style=\"color: #ff0000; text-decoration-color: #ff0000\">│</span>   <span style=\"color: #7f7f7f; text-decoration-color: #7f7f7f\">213 │   │   </span>                                                                            <span style=\"color: #ff0000; text-decoration-color: #ff0000\">│</span>\n",
       "<span style=\"color: #ff0000; text-decoration-color: #ff0000\">│</span>   <span style=\"color: #7f7f7f; text-decoration-color: #7f7f7f\">214 │   │   # clean up the axis display</span>                                                 <span style=\"color: #ff0000; text-decoration-color: #ff0000\">│</span>\n",
       "<span style=\"color: #ff0000; text-decoration-color: #ff0000\">│</span> <span style=\"color: #800000; text-decoration-color: #800000\">❱ </span>215 <span style=\"color: #7f7f7f; text-decoration-color: #7f7f7f\">│   │   </span>ax = <span style=\"color: #00ffff; text-decoration-color: #00ffff\">self</span>.add_ax_labels_lims(axis=axis, ax=ax)                              <span style=\"color: #ff0000; text-decoration-color: #ff0000\">│</span>\n",
       "<span style=\"color: #ff0000; text-decoration-color: #ff0000\">│</span>   <span style=\"color: #7f7f7f; text-decoration-color: #7f7f7f\">216 │   │   </span>ax.set_aspect(<span style=\"color: #808000; text-decoration-color: #808000\">\"equal\"</span>)                                                      <span style=\"color: #ff0000; text-decoration-color: #ff0000\">│</span>\n",
       "<span style=\"color: #ff0000; text-decoration-color: #ff0000\">│</span>   <span style=\"color: #7f7f7f; text-decoration-color: #7f7f7f\">217 │   │   </span>ax.set_title(<span style=\"color: #808000; text-decoration-color: #808000\">f\"cross section at {'xyz'</span>[axis]<span style=\"color: #808000; text-decoration-color: #808000\">}={</span>position<span style=\"color: #808000; text-decoration-color: #808000\">:.2f}\"</span>)              <span style=\"color: #ff0000; text-decoration-color: #ff0000\">│</span>\n",
       "<span style=\"color: #ff0000; text-decoration-color: #ff0000\">│</span>   <span style=\"color: #7f7f7f; text-decoration-color: #7f7f7f\">218 │   │   </span><span style=\"color: #0000ff; text-decoration-color: #0000ff\">return</span> ax                                                                   <span style=\"color: #ff0000; text-decoration-color: #ff0000\">│</span>\n",
       "<span style=\"color: #ff0000; text-decoration-color: #ff0000\">│</span>                                                                                           <span style=\"color: #ff0000; text-decoration-color: #ff0000\">│</span>\n",
       "<span style=\"color: #ff0000; text-decoration-color: #ff0000\">│</span> <span style=\"color: #bfbf7f; text-decoration-color: #bfbf7f\">/Users/twhughes/Documents/Flexcompute/tidy3d-revamp-notebooks/../tidy3d-client-revamp/tid</span> <span style=\"color: #ff0000; text-decoration-color: #ff0000\">│</span>\n",
       "<span style=\"color: #ff0000; text-decoration-color: #ff0000\">│</span> <span style=\"color: #bfbf7f; text-decoration-color: #bfbf7f\">y3d/components/</span><span style=\"color: #808000; text-decoration-color: #808000; font-weight: bold\">geometry.py</span>:<span style=\"color: #0000ff; text-decoration-color: #0000ff\">274</span> in <span style=\"color: #00ff00; text-decoration-color: #00ff00\">add_ax_labels_lims</span>                                      <span style=\"color: #ff0000; text-decoration-color: #ff0000\">│</span>\n",
       "<span style=\"color: #ff0000; text-decoration-color: #ff0000\">│</span>                                                                                           <span style=\"color: #ff0000; text-decoration-color: #ff0000\">│</span>\n",
       "<span style=\"color: #ff0000; text-decoration-color: #ff0000\">│</span>   <span style=\"color: #7f7f7f; text-decoration-color: #7f7f7f\">271 </span><span style=\"color: #bfbf7f; text-decoration-color: #bfbf7f\">│   │   │   </span><span style=\"color: #808000; text-decoration-color: #808000\">The supplied or created matplotlib axes.</span>                                <span style=\"color: #ff0000; text-decoration-color: #ff0000\">│</span>\n",
       "<span style=\"color: #ff0000; text-decoration-color: #ff0000\">│</span>   <span style=\"color: #7f7f7f; text-decoration-color: #7f7f7f\">272 </span><span style=\"color: #bfbf7f; text-decoration-color: #bfbf7f\">│   │   </span><span style=\"color: #808000; text-decoration-color: #808000\">\"\"\"</span>                                                                         <span style=\"color: #ff0000; text-decoration-color: #ff0000\">│</span>\n",
       "<span style=\"color: #ff0000; text-decoration-color: #ff0000\">│</span>   <span style=\"color: #7f7f7f; text-decoration-color: #7f7f7f\">273 │   │   </span>xlabel, ylabel = <span style=\"color: #00ffff; text-decoration-color: #00ffff\">self</span>._get_plot_labels(axis=axis)                           <span style=\"color: #ff0000; text-decoration-color: #ff0000\">│</span>\n",
       "<span style=\"color: #ff0000; text-decoration-color: #ff0000\">│</span> <span style=\"color: #800000; text-decoration-color: #800000\">❱ </span>274 <span style=\"color: #7f7f7f; text-decoration-color: #7f7f7f\">│   │   </span>(xmin, xmax), (ymin, ymax) = <span style=\"color: #00ffff; text-decoration-color: #00ffff\">self</span>._get_plot_limits(axis=axis, buffer=buffer <span style=\"color: #ff0000; text-decoration-color: #ff0000\">│</span>\n",
       "<span style=\"color: #ff0000; text-decoration-color: #ff0000\">│</span>   <span style=\"color: #7f7f7f; text-decoration-color: #7f7f7f\">275 │   │   </span>ax.set_xlim(xmin, xmax)                                                     <span style=\"color: #ff0000; text-decoration-color: #ff0000\">│</span>\n",
       "<span style=\"color: #ff0000; text-decoration-color: #ff0000\">│</span>   <span style=\"color: #7f7f7f; text-decoration-color: #7f7f7f\">276 │   │   </span>ax.set_ylim(ymin, ymax)                                                     <span style=\"color: #ff0000; text-decoration-color: #ff0000\">│</span>\n",
       "<span style=\"color: #ff0000; text-decoration-color: #ff0000\">│</span>   <span style=\"color: #7f7f7f; text-decoration-color: #7f7f7f\">277 │   │   </span>ax.set_xlabel(xlabel)                                                       <span style=\"color: #ff0000; text-decoration-color: #ff0000\">│</span>\n",
       "<span style=\"color: #ff0000; text-decoration-color: #ff0000\">│</span>                                                                                           <span style=\"color: #ff0000; text-decoration-color: #ff0000\">│</span>\n",
       "<span style=\"color: #ff0000; text-decoration-color: #ff0000\">│</span> <span style=\"color: #bfbf7f; text-decoration-color: #bfbf7f\">/Users/twhughes/Documents/Flexcompute/tidy3d-revamp-notebooks/../tidy3d-client-revamp/tid</span> <span style=\"color: #ff0000; text-decoration-color: #ff0000\">│</span>\n",
       "<span style=\"color: #ff0000; text-decoration-color: #ff0000\">│</span> <span style=\"color: #bfbf7f; text-decoration-color: #bfbf7f\">y3d/components/</span><span style=\"color: #808000; text-decoration-color: #808000; font-weight: bold\">geometry.py</span>:<span style=\"color: #0000ff; text-decoration-color: #0000ff\">253</span> in <span style=\"color: #00ff00; text-decoration-color: #00ff00\">_get_plot_limits</span>                                        <span style=\"color: #ff0000; text-decoration-color: #ff0000\">│</span>\n",
       "<span style=\"color: #ff0000; text-decoration-color: #ff0000\">│</span>                                                                                           <span style=\"color: #ff0000; text-decoration-color: #ff0000\">│</span>\n",
       "<span style=\"color: #ff0000; text-decoration-color: #ff0000\">│</span>   <span style=\"color: #7f7f7f; text-decoration-color: #7f7f7f\">250 </span><span style=\"color: #bfbf7f; text-decoration-color: #bfbf7f\">│   │   │   </span><span style=\"color: #808000; text-decoration-color: #808000\">Tuple[float, float], Tuple[float, float]</span>                                <span style=\"color: #ff0000; text-decoration-color: #ff0000\">│</span>\n",
       "<span style=\"color: #ff0000; text-decoration-color: #ff0000\">│</span>   <span style=\"color: #7f7f7f; text-decoration-color: #7f7f7f\">251 </span><span style=\"color: #bfbf7f; text-decoration-color: #bfbf7f\">│   │   </span><span style=\"color: #808000; text-decoration-color: #808000\">The x and y plot limits, packed as ``(xmin, xmax), (ymin, ymax)``.</span>          <span style=\"color: #ff0000; text-decoration-color: #ff0000\">│</span>\n",
       "<span style=\"color: #ff0000; text-decoration-color: #ff0000\">│</span>   <span style=\"color: #7f7f7f; text-decoration-color: #7f7f7f\">252 </span><span style=\"color: #bfbf7f; text-decoration-color: #bfbf7f\">│   │   </span><span style=\"color: #808000; text-decoration-color: #808000\">\"\"\"</span>                                                                         <span style=\"color: #ff0000; text-decoration-color: #ff0000\">│</span>\n",
       "<span style=\"color: #ff0000; text-decoration-color: #ff0000\">│</span> <span style=\"color: #800000; text-decoration-color: #800000\">❱ </span>253 <span style=\"color: #7f7f7f; text-decoration-color: #7f7f7f\">│   │   </span>_, ((xmin, ymin), (xmax, ymax)) = <span style=\"color: #00ffff; text-decoration-color: #00ffff\">self</span>._pop_bounds(axis=axis)               <span style=\"color: #ff0000; text-decoration-color: #ff0000\">│</span>\n",
       "<span style=\"color: #ff0000; text-decoration-color: #ff0000\">│</span>   <span style=\"color: #7f7f7f; text-decoration-color: #7f7f7f\">254 │   │   </span><span style=\"color: #0000ff; text-decoration-color: #0000ff\">return</span> (xmin - buffer, xmax + buffer), (ymin - buffer, ymax + buffer)       <span style=\"color: #ff0000; text-decoration-color: #ff0000\">│</span>\n",
       "<span style=\"color: #ff0000; text-decoration-color: #ff0000\">│</span>   <span style=\"color: #7f7f7f; text-decoration-color: #7f7f7f\">255 │   </span>                                                                                <span style=\"color: #ff0000; text-decoration-color: #ff0000\">│</span>\n",
       "<span style=\"color: #ff0000; text-decoration-color: #ff0000\">│</span>   <span style=\"color: #7f7f7f; text-decoration-color: #7f7f7f\">256 │   </span><span style=\"color: #0000ff; text-decoration-color: #0000ff\">def</span> <span style=\"color: #00ff00; text-decoration-color: #00ff00\">add_ax_labels_lims</span>(<span style=\"color: #00ffff; text-decoration-color: #00ffff\">self</span>, axis: Axis, ax: Ax, buffer: <span style=\"color: #00ffff; text-decoration-color: #00ffff\">float</span> = PLOT_BUFFER) - <span style=\"color: #ff0000; text-decoration-color: #ff0000\">│</span>\n",
       "<span style=\"color: #ff0000; text-decoration-color: #ff0000\">│</span>                                                                                           <span style=\"color: #ff0000; text-decoration-color: #ff0000\">│</span>\n",
       "<span style=\"color: #ff0000; text-decoration-color: #ff0000\">│</span> <span style=\"color: #bfbf7f; text-decoration-color: #bfbf7f\">/Users/twhughes/Documents/Flexcompute/tidy3d-revamp-notebooks/../tidy3d-client-revamp/tid</span> <span style=\"color: #ff0000; text-decoration-color: #ff0000\">│</span>\n",
       "<span style=\"color: #ff0000; text-decoration-color: #ff0000\">│</span> <span style=\"color: #bfbf7f; text-decoration-color: #bfbf7f\">y3d/components/</span><span style=\"color: #808000; text-decoration-color: #808000; font-weight: bold\">geometry.py</span>:<span style=\"color: #0000ff; text-decoration-color: #0000ff\">173</span> in <span style=\"color: #00ff00; text-decoration-color: #00ff00\">_pop_bounds</span>                                             <span style=\"color: #ff0000; text-decoration-color: #ff0000\">│</span>\n",
       "<span style=\"color: #ff0000; text-decoration-color: #ff0000\">│</span>                                                                                           <span style=\"color: #ff0000; text-decoration-color: #ff0000\">│</span>\n",
       "<span style=\"color: #ff0000; text-decoration-color: #ff0000\">│</span>   <span style=\"color: #7f7f7f; text-decoration-color: #7f7f7f\">170 </span><span style=\"color: #bfbf7f; text-decoration-color: #bfbf7f\">│   │   │   </span><span style=\"color: #808000; text-decoration-color: #808000\">Bounds along axis and a tuple of bounds in the ordered planar coordinat</span> <span style=\"color: #ff0000; text-decoration-color: #ff0000\">│</span>\n",
       "<span style=\"color: #ff0000; text-decoration-color: #ff0000\">│</span>   <span style=\"color: #7f7f7f; text-decoration-color: #7f7f7f\">171 </span><span style=\"color: #bfbf7f; text-decoration-color: #bfbf7f\">│   │   │   </span><span style=\"color: #808000; text-decoration-color: #808000\">Packed as ``(zmin, zmax), ((xmin, ymin), (xmax, ymax))``.</span>               <span style=\"color: #ff0000; text-decoration-color: #ff0000\">│</span>\n",
       "<span style=\"color: #ff0000; text-decoration-color: #ff0000\">│</span>   <span style=\"color: #7f7f7f; text-decoration-color: #7f7f7f\">172 </span><span style=\"color: #bfbf7f; text-decoration-color: #bfbf7f\">│   │   </span><span style=\"color: #808000; text-decoration-color: #808000\">\"\"\"</span>                                                                         <span style=\"color: #ff0000; text-decoration-color: #ff0000\">│</span>\n",
       "<span style=\"color: #ff0000; text-decoration-color: #ff0000\">│</span> <span style=\"color: #800000; text-decoration-color: #800000\">❱ </span>173 <span style=\"color: #7f7f7f; text-decoration-color: #7f7f7f\">│   │   </span>b_min, b_max = <span style=\"color: #00ffff; text-decoration-color: #00ffff\">self</span>.bounds                                                  <span style=\"color: #ff0000; text-decoration-color: #ff0000\">│</span>\n",
       "<span style=\"color: #ff0000; text-decoration-color: #ff0000\">│</span>   <span style=\"color: #7f7f7f; text-decoration-color: #7f7f7f\">174 │   │   </span>zmin, (xmin, ymin) = <span style=\"color: #00ffff; text-decoration-color: #00ffff\">self</span>.pop_axis(b_min, axis=axis)                        <span style=\"color: #ff0000; text-decoration-color: #ff0000\">│</span>\n",
       "<span style=\"color: #ff0000; text-decoration-color: #ff0000\">│</span>   <span style=\"color: #7f7f7f; text-decoration-color: #7f7f7f\">175 │   │   </span>zmax, (xmax, ymax) = <span style=\"color: #00ffff; text-decoration-color: #00ffff\">self</span>.pop_axis(b_max, axis=axis)                        <span style=\"color: #ff0000; text-decoration-color: #ff0000\">│</span>\n",
       "<span style=\"color: #ff0000; text-decoration-color: #ff0000\">│</span>   <span style=\"color: #7f7f7f; text-decoration-color: #7f7f7f\">176 │   │   </span><span style=\"color: #0000ff; text-decoration-color: #0000ff\">return</span> (zmin, zmax), ((xmin, ymin), (xmax, ymax))                           <span style=\"color: #ff0000; text-decoration-color: #ff0000\">│</span>\n",
       "<span style=\"color: #ff0000; text-decoration-color: #ff0000\">│</span>                                                                                           <span style=\"color: #ff0000; text-decoration-color: #ff0000\">│</span>\n",
       "<span style=\"color: #ff0000; text-decoration-color: #ff0000\">│</span> <span style=\"color: #bfbf7f; text-decoration-color: #bfbf7f\">/Users/twhughes/Documents/Flexcompute/tidy3d-revamp-notebooks/../tidy3d-client-revamp/tid</span> <span style=\"color: #ff0000; text-decoration-color: #ff0000\">│</span>\n",
       "<span style=\"color: #ff0000; text-decoration-color: #ff0000\">│</span> <span style=\"color: #bfbf7f; text-decoration-color: #bfbf7f\">y3d/components/</span><span style=\"color: #808000; text-decoration-color: #808000; font-weight: bold\">geometry.py</span>:<span style=\"color: #0000ff; text-decoration-color: #0000ff\">566</span> in <span style=\"color: #00ff00; text-decoration-color: #00ff00\">bounds</span>                                                  <span style=\"color: #ff0000; text-decoration-color: #ff0000\">│</span>\n",
       "<span style=\"color: #ff0000; text-decoration-color: #ff0000\">│</span>                                                                                           <span style=\"color: #ff0000; text-decoration-color: #ff0000\">│</span>\n",
       "<span style=\"color: #ff0000; text-decoration-color: #ff0000\">│</span>   <span style=\"color: #7f7f7f; text-decoration-color: #7f7f7f\">563 </span><span style=\"color: #bfbf7f; text-decoration-color: #bfbf7f\">│   │   </span><span style=\"color: #808000; text-decoration-color: #808000\">\"\"\"</span>                                                                         <span style=\"color: #ff0000; text-decoration-color: #ff0000\">│</span>\n",
       "<span style=\"color: #ff0000; text-decoration-color: #ff0000\">│</span>   <span style=\"color: #7f7f7f; text-decoration-color: #7f7f7f\">564 │   │   </span>size = <span style=\"color: #00ffff; text-decoration-color: #00ffff\">self</span>.size                                                            <span style=\"color: #ff0000; text-decoration-color: #ff0000\">│</span>\n",
       "<span style=\"color: #ff0000; text-decoration-color: #ff0000\">│</span>   <span style=\"color: #7f7f7f; text-decoration-color: #7f7f7f\">565 │   │   </span>center = <span style=\"color: #00ffff; text-decoration-color: #00ffff\">self</span>.center                                                        <span style=\"color: #ff0000; text-decoration-color: #ff0000\">│</span>\n",
       "<span style=\"color: #ff0000; text-decoration-color: #ff0000\">│</span> <span style=\"color: #800000; text-decoration-color: #800000\">❱ </span>566 <span style=\"color: #7f7f7f; text-decoration-color: #7f7f7f\">│   │   </span>coord_min = <span style=\"color: #00ffff; text-decoration-color: #00ffff\">tuple</span>(c - s / <span style=\"color: #0000ff; text-decoration-color: #0000ff\">2</span> <span style=\"color: #0000ff; text-decoration-color: #0000ff\">for</span> (s, c) <span style=\"color: #ff00ff; text-decoration-color: #ff00ff\">in</span> <span style=\"color: #00ffff; text-decoration-color: #00ffff\">zip</span>(size, center))                <span style=\"color: #ff0000; text-decoration-color: #ff0000\">│</span>\n",
       "<span style=\"color: #ff0000; text-decoration-color: #ff0000\">│</span>   <span style=\"color: #7f7f7f; text-decoration-color: #7f7f7f\">567 │   │   </span>coord_max = <span style=\"color: #00ffff; text-decoration-color: #00ffff\">tuple</span>(c + s / <span style=\"color: #0000ff; text-decoration-color: #0000ff\">2</span> <span style=\"color: #0000ff; text-decoration-color: #0000ff\">for</span> (s, c) <span style=\"color: #ff00ff; text-decoration-color: #ff00ff\">in</span> <span style=\"color: #00ffff; text-decoration-color: #00ffff\">zip</span>(size, center))                <span style=\"color: #ff0000; text-decoration-color: #ff0000\">│</span>\n",
       "<span style=\"color: #ff0000; text-decoration-color: #ff0000\">│</span>   <span style=\"color: #7f7f7f; text-decoration-color: #7f7f7f\">568 │   │   </span><span style=\"color: #0000ff; text-decoration-color: #0000ff\">return</span> (coord_min, coord_max)                                               <span style=\"color: #ff0000; text-decoration-color: #ff0000\">│</span>\n",
       "<span style=\"color: #ff0000; text-decoration-color: #ff0000\">│</span>   <span style=\"color: #7f7f7f; text-decoration-color: #7f7f7f\">569 </span>                                                                                    <span style=\"color: #ff0000; text-decoration-color: #ff0000\">│</span>\n",
       "<span style=\"color: #ff0000; text-decoration-color: #ff0000\">│</span>                                                                                           <span style=\"color: #ff0000; text-decoration-color: #ff0000\">│</span>\n",
       "<span style=\"color: #ff0000; text-decoration-color: #ff0000\">│</span> <span style=\"color: #bfbf7f; text-decoration-color: #bfbf7f\">/Users/twhughes/Documents/Flexcompute/tidy3d-revamp-notebooks/../tidy3d-client-revamp/tid</span> <span style=\"color: #ff0000; text-decoration-color: #ff0000\">│</span>\n",
       "<span style=\"color: #ff0000; text-decoration-color: #ff0000\">│</span> <span style=\"color: #bfbf7f; text-decoration-color: #bfbf7f\">y3d/components/</span><span style=\"color: #808000; text-decoration-color: #808000; font-weight: bold\">geometry.py</span>:<span style=\"color: #0000ff; text-decoration-color: #0000ff\">566</span> in <span style=\"color: #00ff00; text-decoration-color: #00ff00\">&lt;genexpr&gt;</span>                                               <span style=\"color: #ff0000; text-decoration-color: #ff0000\">│</span>\n",
       "<span style=\"color: #ff0000; text-decoration-color: #ff0000\">│</span>                                                                                           <span style=\"color: #ff0000; text-decoration-color: #ff0000\">│</span>\n",
       "<span style=\"color: #ff0000; text-decoration-color: #ff0000\">│</span>   <span style=\"color: #7f7f7f; text-decoration-color: #7f7f7f\">563 </span><span style=\"color: #bfbf7f; text-decoration-color: #bfbf7f\">│   │   </span><span style=\"color: #808000; text-decoration-color: #808000\">\"\"\"</span>                                                                         <span style=\"color: #ff0000; text-decoration-color: #ff0000\">│</span>\n",
       "<span style=\"color: #ff0000; text-decoration-color: #ff0000\">│</span>   <span style=\"color: #7f7f7f; text-decoration-color: #7f7f7f\">564 │   │   </span>size = <span style=\"color: #00ffff; text-decoration-color: #00ffff\">self</span>.size                                                            <span style=\"color: #ff0000; text-decoration-color: #ff0000\">│</span>\n",
       "<span style=\"color: #ff0000; text-decoration-color: #ff0000\">│</span>   <span style=\"color: #7f7f7f; text-decoration-color: #7f7f7f\">565 │   │   </span>center = <span style=\"color: #00ffff; text-decoration-color: #00ffff\">self</span>.center                                                        <span style=\"color: #ff0000; text-decoration-color: #ff0000\">│</span>\n",
       "<span style=\"color: #ff0000; text-decoration-color: #ff0000\">│</span> <span style=\"color: #800000; text-decoration-color: #800000\">❱ </span>566 <span style=\"color: #7f7f7f; text-decoration-color: #7f7f7f\">│   │   </span>coord_min = <span style=\"color: #00ffff; text-decoration-color: #00ffff\">tuple</span>(c - s / <span style=\"color: #0000ff; text-decoration-color: #0000ff\">2</span> <span style=\"color: #0000ff; text-decoration-color: #0000ff\">for</span> (s, c) <span style=\"color: #ff00ff; text-decoration-color: #ff00ff\">in</span> <span style=\"color: #00ffff; text-decoration-color: #00ffff\">zip</span>(size, center))                <span style=\"color: #ff0000; text-decoration-color: #ff0000\">│</span>\n",
       "<span style=\"color: #ff0000; text-decoration-color: #ff0000\">│</span>   <span style=\"color: #7f7f7f; text-decoration-color: #7f7f7f\">567 │   │   </span>coord_max = <span style=\"color: #00ffff; text-decoration-color: #00ffff\">tuple</span>(c + s / <span style=\"color: #0000ff; text-decoration-color: #0000ff\">2</span> <span style=\"color: #0000ff; text-decoration-color: #0000ff\">for</span> (s, c) <span style=\"color: #ff00ff; text-decoration-color: #ff00ff\">in</span> <span style=\"color: #00ffff; text-decoration-color: #00ffff\">zip</span>(size, center))                <span style=\"color: #ff0000; text-decoration-color: #ff0000\">│</span>\n",
       "<span style=\"color: #ff0000; text-decoration-color: #ff0000\">│</span>   <span style=\"color: #7f7f7f; text-decoration-color: #7f7f7f\">568 │   │   </span><span style=\"color: #0000ff; text-decoration-color: #0000ff\">return</span> (coord_min, coord_max)                                               <span style=\"color: #ff0000; text-decoration-color: #ff0000\">│</span>\n",
       "<span style=\"color: #ff0000; text-decoration-color: #ff0000\">│</span>   <span style=\"color: #7f7f7f; text-decoration-color: #7f7f7f\">569 </span>                                                                                    <span style=\"color: #ff0000; text-decoration-color: #ff0000\">│</span>\n",
       "<span style=\"color: #ff0000; text-decoration-color: #ff0000\">╰───────────────────────────────────────────────────────────────────────────────────────────╯</span>\n",
       "<span style=\"color: #ff0000; text-decoration-color: #ff0000; font-weight: bold\">TypeError: </span>unsupported operand <span style=\"color: #800080; text-decoration-color: #800080; font-weight: bold\">type</span><span style=\"font-weight: bold\">(</span>s<span style=\"font-weight: bold\">)</span> for -: <span style=\"color: #008000; text-decoration-color: #008000\">'float'</span> and <span style=\"color: #008000; text-decoration-color: #008000\">'Inf'</span>\n",
       "</pre>\n"
      ],
      "text/plain": [
       "\u001b[91m╭─\u001b[0m\u001b[91m─────────────────────────── \u001b[0m\u001b[1;31mTraceback \u001b[0m\u001b[1;2;31m(most recent call last)\u001b[0m\u001b[91m ───────────────────────────\u001b[0m\u001b[91m─╮\u001b[0m\n",
       "\u001b[91m│\u001b[0m                                                                                           \u001b[91m│\u001b[0m\n",
       "\u001b[91m│\u001b[0m \u001b[2;33m/var/folders/jx/9y0mtn3s3zzb6mzgmsw6s6gr0000gn/T/ipykernel_99337/\u001b[0m\u001b[1;33m1171282097.py\u001b[0m:\u001b[94m5\u001b[0m in       \u001b[91m│\u001b[0m\n",
       "\u001b[91m│\u001b[0m \u001b[92m<module>\u001b[0m                                                                                  \u001b[91m│\u001b[0m\n",
       "\u001b[91m│\u001b[0m                                                                                           \u001b[91m│\u001b[0m\n",
       "\u001b[91m│\u001b[0m \u001b[3;31m[Errno 2] No such file or directory: \u001b[0m                                                     \u001b[91m│\u001b[0m\n",
       "\u001b[91m│\u001b[0m \u001b[3;31m'/var/folders/jx/9y0mtn3s3zzb6mzgmsw6s6gr0000gn/T/ipykernel_99337/1171282097.py'\u001b[0m          \u001b[91m│\u001b[0m\n",
       "\u001b[91m│\u001b[0m \u001b[2;33m/Users/twhughes/Documents/Flexcompute/tidy3d-revamp-notebooks/../tidy3d-client-revamp/tid\u001b[0m \u001b[91m│\u001b[0m\n",
       "\u001b[91m│\u001b[0m \u001b[2;33my3d/components/\u001b[0m\u001b[1;33mviz.py\u001b[0m:\u001b[94m32\u001b[0m in \u001b[92m_plot\u001b[0m                                                         \u001b[91m│\u001b[0m\n",
       "\u001b[91m│\u001b[0m                                                                                           \u001b[91m│\u001b[0m\n",
       "\u001b[91m│\u001b[0m   \u001b[2m 29 \u001b[0m\u001b[2m│   │   \u001b[0m\u001b[94mif\u001b[0m kwargs.get(\u001b[33m\"\u001b[0m\u001b[33max\u001b[0m\u001b[33m\"\u001b[0m) \u001b[95mis\u001b[0m \u001b[94mNone\u001b[0m:                                                \u001b[91m│\u001b[0m\n",
       "\u001b[91m│\u001b[0m   \u001b[2m 30 \u001b[0m\u001b[2m│   │   │   \u001b[0max = make_ax()                                                          \u001b[91m│\u001b[0m\n",
       "\u001b[91m│\u001b[0m   \u001b[2m 31 \u001b[0m\u001b[2m│   │   │   \u001b[0mkwargs[\u001b[33m\"\u001b[0m\u001b[33max\u001b[0m\u001b[33m\"\u001b[0m] = ax                                                       \u001b[91m│\u001b[0m\n",
       "\u001b[91m│\u001b[0m \u001b[31m❱ \u001b[0m 32 \u001b[2m│   │   \u001b[0m\u001b[94mreturn\u001b[0m plot(*args, **kwargs)                                                \u001b[91m│\u001b[0m\n",
       "\u001b[91m│\u001b[0m   \u001b[2m 33 \u001b[0m\u001b[2m│   \u001b[0m                                                                                \u001b[91m│\u001b[0m\n",
       "\u001b[91m│\u001b[0m   \u001b[2m 34 \u001b[0m\u001b[2m│   \u001b[0m\u001b[94mreturn\u001b[0m _plot                                                                    \u001b[91m│\u001b[0m\n",
       "\u001b[91m│\u001b[0m   \u001b[2m 35 \u001b[0m                                                                                    \u001b[91m│\u001b[0m\n",
       "\u001b[91m│\u001b[0m                                                                                           \u001b[91m│\u001b[0m\n",
       "\u001b[91m│\u001b[0m \u001b[2;33m/Users/twhughes/Documents/Flexcompute/tidy3d-revamp-notebooks/../tidy3d-client-revamp/tid\u001b[0m \u001b[91m│\u001b[0m\n",
       "\u001b[91m│\u001b[0m \u001b[2;33my3d/components/\u001b[0m\u001b[1;33mstructure.py\u001b[0m:\u001b[94m65\u001b[0m in \u001b[92mplot\u001b[0m                                                    \u001b[91m│\u001b[0m\n",
       "\u001b[91m│\u001b[0m                                                                                           \u001b[91m│\u001b[0m\n",
       "\u001b[91m│\u001b[0m   \u001b[2m62 \u001b[0m\u001b[2;33m│   │   \u001b[0m\u001b[33mmatplotlib.axes._subplots.Axes\u001b[0m                                               \u001b[91m│\u001b[0m\n",
       "\u001b[91m│\u001b[0m   \u001b[2m63 \u001b[0m\u001b[2;33m│   │   │   \u001b[0m\u001b[33mThe supplied or created matplotlib axes.\u001b[0m                                 \u001b[91m│\u001b[0m\n",
       "\u001b[91m│\u001b[0m   \u001b[2m64 \u001b[0m\u001b[2;33m│   │   \u001b[0m\u001b[33m\"\"\"\u001b[0m                                                                          \u001b[91m│\u001b[0m\n",
       "\u001b[91m│\u001b[0m \u001b[31m❱ \u001b[0m65 \u001b[2m│   │   \u001b[0m\u001b[94mreturn\u001b[0m \u001b[96mself\u001b[0m.geometry.plot(x=x, y=y, z=z, ax=ax, **patch_kwargs)              \u001b[91m│\u001b[0m\n",
       "\u001b[91m│\u001b[0m   \u001b[2m66 \u001b[0m                                                                                     \u001b[91m│\u001b[0m\n",
       "\u001b[91m│\u001b[0m                                                                                           \u001b[91m│\u001b[0m\n",
       "\u001b[91m│\u001b[0m \u001b[2;33m/Users/twhughes/Documents/Flexcompute/tidy3d-revamp-notebooks/../tidy3d-client-revamp/tid\u001b[0m \u001b[91m│\u001b[0m\n",
       "\u001b[91m│\u001b[0m \u001b[2;33my3d/components/\u001b[0m\u001b[1;33mviz.py\u001b[0m:\u001b[94m32\u001b[0m in \u001b[92m_plot\u001b[0m                                                         \u001b[91m│\u001b[0m\n",
       "\u001b[91m│\u001b[0m                                                                                           \u001b[91m│\u001b[0m\n",
       "\u001b[91m│\u001b[0m   \u001b[2m 29 \u001b[0m\u001b[2m│   │   \u001b[0m\u001b[94mif\u001b[0m kwargs.get(\u001b[33m\"\u001b[0m\u001b[33max\u001b[0m\u001b[33m\"\u001b[0m) \u001b[95mis\u001b[0m \u001b[94mNone\u001b[0m:                                                \u001b[91m│\u001b[0m\n",
       "\u001b[91m│\u001b[0m   \u001b[2m 30 \u001b[0m\u001b[2m│   │   │   \u001b[0max = make_ax()                                                          \u001b[91m│\u001b[0m\n",
       "\u001b[91m│\u001b[0m   \u001b[2m 31 \u001b[0m\u001b[2m│   │   │   \u001b[0mkwargs[\u001b[33m\"\u001b[0m\u001b[33max\u001b[0m\u001b[33m\"\u001b[0m] = ax                                                       \u001b[91m│\u001b[0m\n",
       "\u001b[91m│\u001b[0m \u001b[31m❱ \u001b[0m 32 \u001b[2m│   │   \u001b[0m\u001b[94mreturn\u001b[0m plot(*args, **kwargs)                                                \u001b[91m│\u001b[0m\n",
       "\u001b[91m│\u001b[0m   \u001b[2m 33 \u001b[0m\u001b[2m│   \u001b[0m                                                                                \u001b[91m│\u001b[0m\n",
       "\u001b[91m│\u001b[0m   \u001b[2m 34 \u001b[0m\u001b[2m│   \u001b[0m\u001b[94mreturn\u001b[0m _plot                                                                    \u001b[91m│\u001b[0m\n",
       "\u001b[91m│\u001b[0m   \u001b[2m 35 \u001b[0m                                                                                    \u001b[91m│\u001b[0m\n",
       "\u001b[91m│\u001b[0m                                                                                           \u001b[91m│\u001b[0m\n",
       "\u001b[91m│\u001b[0m \u001b[2;33m/Users/twhughes/Documents/Flexcompute/tidy3d-revamp-notebooks/../tidy3d-client-revamp/tid\u001b[0m \u001b[91m│\u001b[0m\n",
       "\u001b[91m│\u001b[0m \u001b[2;33my3d/components/\u001b[0m\u001b[1;33mgeometry.py\u001b[0m:\u001b[94m215\u001b[0m in \u001b[92mplot\u001b[0m                                                    \u001b[91m│\u001b[0m\n",
       "\u001b[91m│\u001b[0m                                                                                           \u001b[91m│\u001b[0m\n",
       "\u001b[91m│\u001b[0m   \u001b[2m212 \u001b[0m\u001b[2m│   │   │   \u001b[0max.add_artist(patch)                                                    \u001b[91m│\u001b[0m\n",
       "\u001b[91m│\u001b[0m   \u001b[2m213 \u001b[0m\u001b[2m│   │   \u001b[0m                                                                            \u001b[91m│\u001b[0m\n",
       "\u001b[91m│\u001b[0m   \u001b[2m214 \u001b[0m\u001b[2m│   │   \u001b[0m\u001b[2m# clean up the axis display\u001b[0m                                                 \u001b[91m│\u001b[0m\n",
       "\u001b[91m│\u001b[0m \u001b[31m❱ \u001b[0m215 \u001b[2m│   │   \u001b[0max = \u001b[96mself\u001b[0m.add_ax_labels_lims(axis=axis, ax=ax)                              \u001b[91m│\u001b[0m\n",
       "\u001b[91m│\u001b[0m   \u001b[2m216 \u001b[0m\u001b[2m│   │   \u001b[0max.set_aspect(\u001b[33m\"\u001b[0m\u001b[33mequal\u001b[0m\u001b[33m\"\u001b[0m)                                                      \u001b[91m│\u001b[0m\n",
       "\u001b[91m│\u001b[0m   \u001b[2m217 \u001b[0m\u001b[2m│   │   \u001b[0max.set_title(\u001b[33mf\u001b[0m\u001b[33m\"\u001b[0m\u001b[33mcross section at \u001b[0m\u001b[33m{\u001b[0m\u001b[33m'\u001b[0m\u001b[33mxyz\u001b[0m\u001b[33m'\u001b[0m[axis]\u001b[33m}\u001b[0m\u001b[33m=\u001b[0m\u001b[33m{\u001b[0mposition\u001b[33m:\u001b[0m\u001b[33m.2f\u001b[0m\u001b[33m}\u001b[0m\u001b[33m\"\u001b[0m)              \u001b[91m│\u001b[0m\n",
       "\u001b[91m│\u001b[0m   \u001b[2m218 \u001b[0m\u001b[2m│   │   \u001b[0m\u001b[94mreturn\u001b[0m ax                                                                   \u001b[91m│\u001b[0m\n",
       "\u001b[91m│\u001b[0m                                                                                           \u001b[91m│\u001b[0m\n",
       "\u001b[91m│\u001b[0m \u001b[2;33m/Users/twhughes/Documents/Flexcompute/tidy3d-revamp-notebooks/../tidy3d-client-revamp/tid\u001b[0m \u001b[91m│\u001b[0m\n",
       "\u001b[91m│\u001b[0m \u001b[2;33my3d/components/\u001b[0m\u001b[1;33mgeometry.py\u001b[0m:\u001b[94m274\u001b[0m in \u001b[92madd_ax_labels_lims\u001b[0m                                      \u001b[91m│\u001b[0m\n",
       "\u001b[91m│\u001b[0m                                                                                           \u001b[91m│\u001b[0m\n",
       "\u001b[91m│\u001b[0m   \u001b[2m271 \u001b[0m\u001b[2;33m│   │   │   \u001b[0m\u001b[33mThe supplied or created matplotlib axes.\u001b[0m                                \u001b[91m│\u001b[0m\n",
       "\u001b[91m│\u001b[0m   \u001b[2m272 \u001b[0m\u001b[2;33m│   │   \u001b[0m\u001b[33m\"\"\"\u001b[0m                                                                         \u001b[91m│\u001b[0m\n",
       "\u001b[91m│\u001b[0m   \u001b[2m273 \u001b[0m\u001b[2m│   │   \u001b[0mxlabel, ylabel = \u001b[96mself\u001b[0m._get_plot_labels(axis=axis)                           \u001b[91m│\u001b[0m\n",
       "\u001b[91m│\u001b[0m \u001b[31m❱ \u001b[0m274 \u001b[2m│   │   \u001b[0m(xmin, xmax), (ymin, ymax) = \u001b[96mself\u001b[0m._get_plot_limits(axis=axis, buffer=buffer \u001b[91m│\u001b[0m\n",
       "\u001b[91m│\u001b[0m   \u001b[2m275 \u001b[0m\u001b[2m│   │   \u001b[0max.set_xlim(xmin, xmax)                                                     \u001b[91m│\u001b[0m\n",
       "\u001b[91m│\u001b[0m   \u001b[2m276 \u001b[0m\u001b[2m│   │   \u001b[0max.set_ylim(ymin, ymax)                                                     \u001b[91m│\u001b[0m\n",
       "\u001b[91m│\u001b[0m   \u001b[2m277 \u001b[0m\u001b[2m│   │   \u001b[0max.set_xlabel(xlabel)                                                       \u001b[91m│\u001b[0m\n",
       "\u001b[91m│\u001b[0m                                                                                           \u001b[91m│\u001b[0m\n",
       "\u001b[91m│\u001b[0m \u001b[2;33m/Users/twhughes/Documents/Flexcompute/tidy3d-revamp-notebooks/../tidy3d-client-revamp/tid\u001b[0m \u001b[91m│\u001b[0m\n",
       "\u001b[91m│\u001b[0m \u001b[2;33my3d/components/\u001b[0m\u001b[1;33mgeometry.py\u001b[0m:\u001b[94m253\u001b[0m in \u001b[92m_get_plot_limits\u001b[0m                                        \u001b[91m│\u001b[0m\n",
       "\u001b[91m│\u001b[0m                                                                                           \u001b[91m│\u001b[0m\n",
       "\u001b[91m│\u001b[0m   \u001b[2m250 \u001b[0m\u001b[2;33m│   │   │   \u001b[0m\u001b[33mTuple[float, float], Tuple[float, float]\u001b[0m                                \u001b[91m│\u001b[0m\n",
       "\u001b[91m│\u001b[0m   \u001b[2m251 \u001b[0m\u001b[2;33m│   │   \u001b[0m\u001b[33mThe x and y plot limits, packed as ``(xmin, xmax), (ymin, ymax)``.\u001b[0m          \u001b[91m│\u001b[0m\n",
       "\u001b[91m│\u001b[0m   \u001b[2m252 \u001b[0m\u001b[2;33m│   │   \u001b[0m\u001b[33m\"\"\"\u001b[0m                                                                         \u001b[91m│\u001b[0m\n",
       "\u001b[91m│\u001b[0m \u001b[31m❱ \u001b[0m253 \u001b[2m│   │   \u001b[0m_, ((xmin, ymin), (xmax, ymax)) = \u001b[96mself\u001b[0m._pop_bounds(axis=axis)               \u001b[91m│\u001b[0m\n",
       "\u001b[91m│\u001b[0m   \u001b[2m254 \u001b[0m\u001b[2m│   │   \u001b[0m\u001b[94mreturn\u001b[0m (xmin - buffer, xmax + buffer), (ymin - buffer, ymax + buffer)       \u001b[91m│\u001b[0m\n",
       "\u001b[91m│\u001b[0m   \u001b[2m255 \u001b[0m\u001b[2m│   \u001b[0m                                                                                \u001b[91m│\u001b[0m\n",
       "\u001b[91m│\u001b[0m   \u001b[2m256 \u001b[0m\u001b[2m│   \u001b[0m\u001b[94mdef\u001b[0m \u001b[92madd_ax_labels_lims\u001b[0m(\u001b[96mself\u001b[0m, axis: Axis, ax: Ax, buffer: \u001b[96mfloat\u001b[0m = PLOT_BUFFER) - \u001b[91m│\u001b[0m\n",
       "\u001b[91m│\u001b[0m                                                                                           \u001b[91m│\u001b[0m\n",
       "\u001b[91m│\u001b[0m \u001b[2;33m/Users/twhughes/Documents/Flexcompute/tidy3d-revamp-notebooks/../tidy3d-client-revamp/tid\u001b[0m \u001b[91m│\u001b[0m\n",
       "\u001b[91m│\u001b[0m \u001b[2;33my3d/components/\u001b[0m\u001b[1;33mgeometry.py\u001b[0m:\u001b[94m173\u001b[0m in \u001b[92m_pop_bounds\u001b[0m                                             \u001b[91m│\u001b[0m\n",
       "\u001b[91m│\u001b[0m                                                                                           \u001b[91m│\u001b[0m\n",
       "\u001b[91m│\u001b[0m   \u001b[2m170 \u001b[0m\u001b[2;33m│   │   │   \u001b[0m\u001b[33mBounds along axis and a tuple of bounds in the ordered planar coordinat\u001b[0m \u001b[91m│\u001b[0m\n",
       "\u001b[91m│\u001b[0m   \u001b[2m171 \u001b[0m\u001b[2;33m│   │   │   \u001b[0m\u001b[33mPacked as ``(zmin, zmax), ((xmin, ymin), (xmax, ymax))``.\u001b[0m               \u001b[91m│\u001b[0m\n",
       "\u001b[91m│\u001b[0m   \u001b[2m172 \u001b[0m\u001b[2;33m│   │   \u001b[0m\u001b[33m\"\"\"\u001b[0m                                                                         \u001b[91m│\u001b[0m\n",
       "\u001b[91m│\u001b[0m \u001b[31m❱ \u001b[0m173 \u001b[2m│   │   \u001b[0mb_min, b_max = \u001b[96mself\u001b[0m.bounds                                                  \u001b[91m│\u001b[0m\n",
       "\u001b[91m│\u001b[0m   \u001b[2m174 \u001b[0m\u001b[2m│   │   \u001b[0mzmin, (xmin, ymin) = \u001b[96mself\u001b[0m.pop_axis(b_min, axis=axis)                        \u001b[91m│\u001b[0m\n",
       "\u001b[91m│\u001b[0m   \u001b[2m175 \u001b[0m\u001b[2m│   │   \u001b[0mzmax, (xmax, ymax) = \u001b[96mself\u001b[0m.pop_axis(b_max, axis=axis)                        \u001b[91m│\u001b[0m\n",
       "\u001b[91m│\u001b[0m   \u001b[2m176 \u001b[0m\u001b[2m│   │   \u001b[0m\u001b[94mreturn\u001b[0m (zmin, zmax), ((xmin, ymin), (xmax, ymax))                           \u001b[91m│\u001b[0m\n",
       "\u001b[91m│\u001b[0m                                                                                           \u001b[91m│\u001b[0m\n",
       "\u001b[91m│\u001b[0m \u001b[2;33m/Users/twhughes/Documents/Flexcompute/tidy3d-revamp-notebooks/../tidy3d-client-revamp/tid\u001b[0m \u001b[91m│\u001b[0m\n",
       "\u001b[91m│\u001b[0m \u001b[2;33my3d/components/\u001b[0m\u001b[1;33mgeometry.py\u001b[0m:\u001b[94m566\u001b[0m in \u001b[92mbounds\u001b[0m                                                  \u001b[91m│\u001b[0m\n",
       "\u001b[91m│\u001b[0m                                                                                           \u001b[91m│\u001b[0m\n",
       "\u001b[91m│\u001b[0m   \u001b[2m563 \u001b[0m\u001b[2;33m│   │   \u001b[0m\u001b[33m\"\"\"\u001b[0m                                                                         \u001b[91m│\u001b[0m\n",
       "\u001b[91m│\u001b[0m   \u001b[2m564 \u001b[0m\u001b[2m│   │   \u001b[0msize = \u001b[96mself\u001b[0m.size                                                            \u001b[91m│\u001b[0m\n",
       "\u001b[91m│\u001b[0m   \u001b[2m565 \u001b[0m\u001b[2m│   │   \u001b[0mcenter = \u001b[96mself\u001b[0m.center                                                        \u001b[91m│\u001b[0m\n",
       "\u001b[91m│\u001b[0m \u001b[31m❱ \u001b[0m566 \u001b[2m│   │   \u001b[0mcoord_min = \u001b[96mtuple\u001b[0m(c - s / \u001b[94m2\u001b[0m \u001b[94mfor\u001b[0m (s, c) \u001b[95min\u001b[0m \u001b[96mzip\u001b[0m(size, center))                \u001b[91m│\u001b[0m\n",
       "\u001b[91m│\u001b[0m   \u001b[2m567 \u001b[0m\u001b[2m│   │   \u001b[0mcoord_max = \u001b[96mtuple\u001b[0m(c + s / \u001b[94m2\u001b[0m \u001b[94mfor\u001b[0m (s, c) \u001b[95min\u001b[0m \u001b[96mzip\u001b[0m(size, center))                \u001b[91m│\u001b[0m\n",
       "\u001b[91m│\u001b[0m   \u001b[2m568 \u001b[0m\u001b[2m│   │   \u001b[0m\u001b[94mreturn\u001b[0m (coord_min, coord_max)                                               \u001b[91m│\u001b[0m\n",
       "\u001b[91m│\u001b[0m   \u001b[2m569 \u001b[0m                                                                                    \u001b[91m│\u001b[0m\n",
       "\u001b[91m│\u001b[0m                                                                                           \u001b[91m│\u001b[0m\n",
       "\u001b[91m│\u001b[0m \u001b[2;33m/Users/twhughes/Documents/Flexcompute/tidy3d-revamp-notebooks/../tidy3d-client-revamp/tid\u001b[0m \u001b[91m│\u001b[0m\n",
       "\u001b[91m│\u001b[0m \u001b[2;33my3d/components/\u001b[0m\u001b[1;33mgeometry.py\u001b[0m:\u001b[94m566\u001b[0m in \u001b[92m<genexpr>\u001b[0m                                               \u001b[91m│\u001b[0m\n",
       "\u001b[91m│\u001b[0m                                                                                           \u001b[91m│\u001b[0m\n",
       "\u001b[91m│\u001b[0m   \u001b[2m563 \u001b[0m\u001b[2;33m│   │   \u001b[0m\u001b[33m\"\"\"\u001b[0m                                                                         \u001b[91m│\u001b[0m\n",
       "\u001b[91m│\u001b[0m   \u001b[2m564 \u001b[0m\u001b[2m│   │   \u001b[0msize = \u001b[96mself\u001b[0m.size                                                            \u001b[91m│\u001b[0m\n",
       "\u001b[91m│\u001b[0m   \u001b[2m565 \u001b[0m\u001b[2m│   │   \u001b[0mcenter = \u001b[96mself\u001b[0m.center                                                        \u001b[91m│\u001b[0m\n",
       "\u001b[91m│\u001b[0m \u001b[31m❱ \u001b[0m566 \u001b[2m│   │   \u001b[0mcoord_min = \u001b[96mtuple\u001b[0m(c - s / \u001b[94m2\u001b[0m \u001b[94mfor\u001b[0m (s, c) \u001b[95min\u001b[0m \u001b[96mzip\u001b[0m(size, center))                \u001b[91m│\u001b[0m\n",
       "\u001b[91m│\u001b[0m   \u001b[2m567 \u001b[0m\u001b[2m│   │   \u001b[0mcoord_max = \u001b[96mtuple\u001b[0m(c + s / \u001b[94m2\u001b[0m \u001b[94mfor\u001b[0m (s, c) \u001b[95min\u001b[0m \u001b[96mzip\u001b[0m(size, center))                \u001b[91m│\u001b[0m\n",
       "\u001b[91m│\u001b[0m   \u001b[2m568 \u001b[0m\u001b[2m│   │   \u001b[0m\u001b[94mreturn\u001b[0m (coord_min, coord_max)                                               \u001b[91m│\u001b[0m\n",
       "\u001b[91m│\u001b[0m   \u001b[2m569 \u001b[0m                                                                                    \u001b[91m│\u001b[0m\n",
       "\u001b[91m╰───────────────────────────────────────────────────────────────────────────────────────────╯\u001b[0m\n",
       "\u001b[1;91mTypeError: \u001b[0munsupported operand \u001b[1;35mtype\u001b[0m\u001b[1m(\u001b[0ms\u001b[1m)\u001b[0m for -: \u001b[32m'float'\u001b[0m and \u001b[32m'Inf'\u001b[0m\n"
      ]
     },
     "metadata": {},
     "output_type": "display_data"
    },
    {
     "data": {
      "image/png": "[encoded data removed]"
     },
     "metadata": {
      "needs_background": "light"
     },
     "output_type": "display_data"
    }
   ],
   "source": [
    "# make 3 columns of axes\n",
    "f, (ax1, ax2, ax3) = plt.subplots(1, 3, tight_layout=True, figsize=(10, 3))\n",
    "\n",
    "# plot each axis of the plot on each subplot\n",
    "ax1 = box.plot(x=0, ax=ax1)\n",
    "ax2 = box.plot(y=0, ax=ax2)\n",
    "axz = box.plot(z=0, ax=ax3)"
   ]
  },
  {
   "cell_type": "markdown",
   "id": "db5ba962-ce22-4770-a4bc-0ad5aac7d2cf",
   "metadata": {},
   "source": [
    "The `.plot()` method returns either a new axis (if ax not supplied) or the orginal axis, so you can add more objects to the plot, or edit it through the `ax` handle."
   ]
  },
  {
   "cell_type": "code",
   "execution_count": null,
   "id": "4a29263a-fd41-4b91-92d6-c2b5fc9bafd9",
   "metadata": {
    "tags": []
   },
   "outputs": [],
   "source": [
    "sphere = td.Structure(\n",
    "    geometry=td.Sphere(center=(0,0,0), radius=2),\n",
    "    medium=td.Medium(permittivity=3))\n",
    "\n",
    "ax = sphere.plot(x=0)\n",
    "\n",
    "ax.set_xlim(-3,3)\n",
    "ax.set_ylim(-3,3)\n",
    "ax.set_title('just a sphere')\n",
    "plt.show()"
   ]
  },
  {
   "cell_type": "markdown",
   "id": "fdb92f60-62cb-4ea3-b9b3-189ea334cb9e",
   "metadata": {},
   "source": [
    "Finally, since the geometry plotting us done using matplotlib Patches, you can supply optional keyword arguments to `.plot()` to change the display of the plot.\n",
    "\n",
    "See [matplotlib's documentation on Patches](https://matplotlib.org/stable/api/_as_gen/matplotlib.patches.Patch.html) for more information on arguments are accepted."
   ]
  },
  {
   "cell_type": "code",
   "execution_count": null,
   "id": "6c7c1d05-be4d-4b36-9807-5436e35861c4",
   "metadata": {
    "tags": []
   },
   "outputs": [],
   "source": [
    "box1 = td.Box(center=(0.,1.,1), size=(1.,2.,.5))\n",
    "box2 = td.Box(center=(0.,0.,-1), size=(1.,2.,.5))\n",
    "\n",
    "ax = box1.plot(y=0, facecolor='crimson', edgecolor='black', alpha=1)\n",
    "ax = box2.plot(y=0, ax=ax, facecolor='blueviolet', edgecolor='black', alpha=1)\n",
    "ax = sphere.plot(y=0, ax=ax, facecolor='sandybrown', edgecolor='black', alpha=0.5, hatch='x')\n"
   ]
  },
  {
   "cell_type": "markdown",
   "id": "4d212ab9-cd71-4de5-a0bb-d63f558dcbd5",
   "metadata": {},
   "source": [
    "### Simulations\n",
    "\n",
    "We can plot all components contained in `td.Simulation` with the `Simulation.plot()` method.\n",
    "\n",
    "Let's create a simulation with a source, monitor, and a bunch of randomly placed spheres made of 3 distinct `td.Medium`s."
   ]
  },
  {
   "cell_type": "code",
   "execution_count": null,
   "id": "08e7a5db-a2cd-4a52-adb2-7b88c52bea08",
   "metadata": {
    "tags": []
   },
   "outputs": [],
   "source": [
    "from numpy.random import random\n",
    "\n",
    "L = 5 # length of simulation on all sides\n",
    "\n",
    "def rand():\n",
    "    return L * (random() - 0.5)\n",
    "\n",
    "# make random list of structures\n",
    "structures = [\n",
    "    td.Structure(\n",
    "        geometry=td.Sphere(center=(rand(),rand(),rand()), radius=1),\n",
    "        medium=td.Medium(permittivity=np.random.choice([2., 3., 4.])))\n",
    "    for i in range(20)]\n",
    "\n",
    "source = td.VolumeSource(\n",
    "    center=(0, 0, -L/3),\n",
    "    size=(L, L/2, 0),\n",
    "    polarization='Ex',\n",
    "    source_time = td.GaussianPulse(\n",
    "        freq0=1.0,\n",
    "        fwidth=.1,\n",
    "    )\n",
    ")\n",
    "\n",
    "monitor = td.FieldMonitor(\n",
    "    center=(-L/4,0,0),\n",
    "    size=(L/2,L,0),\n",
    "    freqs=[1],\n",
    "    name='fields'\n",
    ")\n",
    "\n",
    "for i, struct in enumerate(structures):\n",
    "    if i % 2 == 0:\n",
    "        struct.medium=td.PEC\n",
    "\n",
    "# make simulation from structures\n",
    "sim = td.Simulation(\n",
    "    size=(L, L, L),\n",
    "    grid_size=(.1, .1, .1),\n",
    "    pml_layers=(\n",
    "        td.PML(num_layers=10),\n",
    "        td.PML(num_layers=0),\n",
    "        td.PML(num_layers=10)        \n",
    "    ),\n",
    "    structures=structures,\n",
    "    sources=[source],\n",
    "    monitors=[monitor]\n",
    ")"
   ]
  },
  {
   "cell_type": "code",
   "execution_count": null,
   "id": "bd6d6d90-8724-458d-9ff4-8546b895517e",
   "metadata": {},
   "outputs": [],
   "source": [
    "f, ax = plt.subplots(figsize=(10, 10))\n",
    "ax = sim.plot(x=0, grid_lines=True, ax=ax)\n",
    "\n"
   ]
  },
  {
   "cell_type": "markdown",
   "id": "0e104b00-b81e-4599-bfd6-0d789ccca296",
   "metadata": {},
   "source": [
    "#### Plotting Materials\n",
    "\n",
    "with `sim.plot` we can plot each distinct material, source, monitor, and PML.\n",
    "\n",
    "Note, all structures with same `Medium` show up as the same color."
   ]
  },
  {
   "cell_type": "code",
   "execution_count": null,
   "id": "04093c4d-afd0-4889-a476-cea36e2e2671",
   "metadata": {
    "tags": []
   },
   "outputs": [],
   "source": [
    "f, axes = plt.subplots(1, 3, tight_layout=True, figsize=(10, 3))\n",
    "for ax, axis in zip(axes, 'xyz'):\n",
    "    \n",
    "    ax = sim.plot(**{axis:0}, ax=ax)\n",
    "    ax.set_title(f'axis={axis}, position=0.0')\n",
    "plt.show()"
   ]
  },
  {
   "cell_type": "markdown",
   "id": "dff158ac-c8cd-484c-a55a-0d8bf882ed8f",
   "metadata": {},
   "source": [
    "We can even get fancy and plot the cross sections at different positions along the 3 axes."
   ]
  },
  {
   "cell_type": "code",
   "execution_count": null,
   "id": "c7daf2df-3352-4c9a-8383-deae2a32b4c9",
   "metadata": {
    "tags": []
   },
   "outputs": [],
   "source": [
    "npos = 5\n",
    "positions = np.linspace(-L/3, L/3, npos)\n",
    "f, axes = plt.subplots(3, npos, tight_layout=True, figsize=(npos*3, 7))\n",
    "for axes_range, axis in zip(axes, 'xyz'):\n",
    "    for ax, pos in zip(axes_range, positions):\n",
    "        ax = sim.plot(**{axis:pos}, ax=ax, alpha=0.9)\n",
    "        ax.set_title(f'{axis}={pos:.2f}')\n",
    "plt.show()"
   ]
  },
  {
   "cell_type": "markdown",
   "id": "bc5caab1-26c1-4644-8f74-7a062a1a39ac",
   "metadata": {},
   "source": [
    "#### Plotting Permittivity\n",
    "\n",
    "With `Simulation.plot_eps` we can plot the continuously varying permittivity distribution on the plane."
   ]
  },
  {
   "cell_type": "code",
   "execution_count": null,
   "id": "4e70d4da-7bd7-4ca4-91b8-3173c282b51c",
   "metadata": {
    "tags": []
   },
   "outputs": [],
   "source": [
    "f, axes = plt.subplots(1, 3, tight_layout=True, figsize=(10, 3))\n",
    "for ax, axis in zip(axes, 'xyz'):\n",
    "    ax = sim.plot_eps(**{axis:pos}, ax=ax, alpha=0.98)\n",
    "    ax.set_title(f'{axis}={pos:.2f}')\n",
    "plt.show()"
   ]
  },
  {
   "cell_type": "code",
   "execution_count": null,
   "id": "ec080b8c-51f1-405e-b871-868e4b396299",
   "metadata": {
    "tags": []
   },
   "outputs": [],
   "source": [
    "npos = 5\n",
    "positions = np.linspace(-L/3, L/3, npos)\n",
    "f, axes = plt.subplots(3, npos, tight_layout=True, figsize=(npos*3, 7))\n",
    "for axes_range, axis in zip(axes, 'xyz'):\n",
    "    for ax, pos in zip(axes_range, positions):\n",
    "        ax = sim.plot_eps(**{axis:pos}, ax=ax, alpha=0.98)\n",
    "        ax.set_title(f'{axis}={pos:.2f}')\n",
    "plt.show()"
   ]
  },
  {
   "cell_type": "markdown",
   "id": "14e3e06e-8537-4235-acf0-7121a625b893",
   "metadata": {},
   "source": [
    "#### Symmetries\n",
    "\n",
    "Let's make a new simulation and add some symmetries."
   ]
  },
  {
   "cell_type": "code",
   "execution_count": null,
   "id": "a9ea2940-111f-4a3f-8628-c65a99b000b7",
   "metadata": {
    "tags": []
   },
   "outputs": [],
   "source": [
    "# make simulation from structures\n",
    "sim_symmetry = td.Simulation(\n",
    "    size=(L, L, L),\n",
    "    grid_size=(.1, L/4, .1),\n",
    "    pml_layers=(\n",
    "        td.PML(num_layers=10),\n",
    "        None,\n",
    "        td.PML(num_layers=10)        \n",
    "    ),\n",
    "    structures=structures,\n",
    "    sources=[source],\n",
    "    monitors=[monitor],\n",
    "    symmetry=(0,1,-1)\n",
    ")"
   ]
  },
  {
   "cell_type": "markdown",
   "id": "1abea7bd-4218-412e-a729-9b9a895c3320",
   "metadata": {},
   "source": [
    "We see the symmetetries show up in the plot as dfferent colors to mask the regions where symmetry will be applied.\n",
    "\n",
    "For example, the regions in green and blue will be assumed symmetric with respect to the lower left quadrant, even though the Simulation was not explicitly set up with that symmetry in the structures list."
   ]
  },
  {
   "cell_type": "code",
   "execution_count": null,
   "id": "190fc2c3-8915-4755-9689-343efe6a1a27",
   "metadata": {
    "tags": []
   },
   "outputs": [],
   "source": [
    "ax = sim_symmetry.plot_eps(x=0)\n",
    "ax.set_title(f'axis=x, position=0.0')\n",
    "plt.show()"
   ]
  },
  {
   "cell_type": "markdown",
   "id": "fe962fc8-b698-46c1-93d1-5b26166e6825",
   "metadata": {},
   "source": [
    "## Plotting Other Quantities\n",
    "\n",
    "### Structure + Medium\n",
    "\n",
    "The `Structure.medium` refractive index values over frequency can be plotted with it's `.plot()` method as well."
   ]
  },
  {
   "cell_type": "code",
   "execution_count": null,
   "id": "70f9d78a-a14e-4f1d-9be5-7ea2dd3310ea",
   "metadata": {
    "tags": []
   },
   "outputs": [],
   "source": [
    "# import silver from material library\n",
    "from tidy3d import material_library\n",
    "Ag = material_library['Ag']['Rakic1998']\n",
    "\n",
    "# make a star-shaped PolySlab\n",
    "import numpy as np\n",
    "r_in = 0.4\n",
    "r_out = 1.0\n",
    "inner_vertices = [(r_in * np.cos(2*np.pi*i/5 + np.pi/2 - np.pi/5), r_in * np.sin(2*np.pi*i/5 + np.pi/2 - np.pi/5)) for i in range(5)]\n",
    "outer_vertices = [(r_out * np.cos(2*np.pi*i/5 + np.pi/2), r_out * np.sin(2*np.pi*i/5 + np.pi/2)) for i in range(5)]\n",
    "star_vertices = []\n",
    "for i in range(5):\n",
    "    star_vertices.append(inner_vertices[i])\n",
    "    star_vertices.append(outer_vertices[i])\n",
    "poly_star = td.PolySlab(vertices=star_vertices, slab_bounds=(-1,1), axis=2)\n",
    "\n",
    "# make a star structure with silver as medium\n",
    "silver_star = td.Structure(\n",
    "    geometry=poly_star,\n",
    "    medium=Ag\n",
    ")\n",
    "\n",
    "# plot the structrue alongside the medium properties\n",
    "freqs = np.linspace(1e14, 2e14, 101)\n",
    "position = 0.0\n",
    "axis=2\n",
    "\n",
    "f, (ax1, ax2) = plt.subplots(1, 2, tight_layout=True, figsize=(10, 4))\n",
    "ax1 = silver_star.geometry.plot(z=0, edgecolor='black', ax=ax1)\n",
    "ax2 = silver_star.medium.plot(freqs=freqs, ax=ax2)"
   ]
  },
  {
   "cell_type": "markdown",
   "id": "16a80e86-ff14-41c0-81a2-5dd81c21d40d",
   "metadata": {},
   "source": [
    "## Source + Source Time\n",
    "\n",
    "Similarly, the `Source.source_time` amplitude over time can be plotted with its `.plot()` method."
   ]
  },
  {
   "cell_type": "code",
   "execution_count": null,
   "id": "bd736220-35de-4630-bae6-b399cfd3d0d0",
   "metadata": {
    "tags": []
   },
   "outputs": [],
   "source": [
    "cube_source = td.VolumeSource(\n",
    "    center=(0,0,0),\n",
    "    size=(1,1,1),\n",
    "    polarization='Ex',\n",
    "    source_time=td.GaussianPulse(\n",
    "        freq0=1e14,\n",
    "        fwidth=1e13,\n",
    "    )\n",
    ")\n",
    "\n",
    "times = np.linspace(0, .2e-12, 1001)\n",
    "position = 0.0\n",
    "axis=2\n",
    "\n",
    "f, (ax1, ax2) = plt.subplots(1, 2, tight_layout=True, figsize=(10, 4))\n",
    "ax1 = cube_source.geometry.plot(z=0, facecolor='sandybrown', edgecolor='black', ax=ax1)\n",
    "ax2 = cube_source.source_time.plot(times=times, ax=ax2)"
   ]
  },
  {
   "cell_type": "markdown",
   "id": "44baac5f-4ac5-4004-86d3-8dd1d05572e9",
   "metadata": {},
   "source": [
    "## Monitor"
   ]
  },
  {
   "cell_type": "code",
   "execution_count": null,
   "id": "280de73a-c068-4223-825e-e5833e57a71c",
   "metadata": {
    "tags": []
   },
   "outputs": [],
   "source": [
    "freq_mon = td.FieldMonitor(\n",
    "    center=(0,0,0),\n",
    "    size=(1,1,1),\n",
    "    freqs=list(np.linspace(1e14, 2e14, 11)),\n",
    "    name='test',\n",
    ")\n",
    "\n",
    "position = 0.0\n",
    "axis=2\n",
    "\n",
    "ax = freq_mon.geometry.plot(z=0, facecolor='blueviolet', edgecolor='black')"
   ]
  },
  {
   "cell_type": "code",
   "execution_count": null,
   "id": "f3647a3e-4d08-470f-87d0-f28501a9743b",
   "metadata": {
    "tags": []
   },
   "outputs": [],
   "source": [
    "time_mon = td.FieldTimeMonitor(\n",
    "    center=(0,0,0),\n",
    "    size=(1,1,1),\n",
    "    interval=10,\n",
    "    name='test',    \n",
    ")\n",
    "\n",
    "position = 0.0\n",
    "axis=2\n",
    "\n",
    "ax = time_mon.geometry.plot(z=0, facecolor='blueviolet', edgecolor='black')"
   ]
  },
  {
   "cell_type": "markdown",
   "id": "05c8921f-db7e-4634-9ca3-e2c05a11b2e2",
   "metadata": {
    "tags": []
   },
   "source": [
    "## Interactive Plotting\n",
    "\n",
    "With the `.visualize()` methods, we can produce interactive geometry plots where the position can be controlled with sliders.\n",
    "\n",
    "### Geometry\n"
   ]
  },
  {
   "cell_type": "code",
   "execution_count": null,
   "id": "f3182318-1c82-4815-b439-33e282926963",
   "metadata": {
    "tags": []
   },
   "outputs": [],
   "source": [
    "c = td.Cylinder(center=(0,-0,0), radius=.5, length=2.0, axis=2)\n",
    "\n",
    "# plot all three axes at once\n",
    "# c.visualize(axis=0) + c.visualize(axis=1) + c.visualize(axis=2)"
   ]
  },
  {
   "cell_type": "code",
   "execution_count": null,
   "id": "f6802aae-c67b-4bb0-88ae-f08738ab27e6",
   "metadata": {
    "tags": []
   },
   "outputs": [],
   "source": [
    "# poly_star.visualize(axis=0) + poly_star.visualize(axis=1) + poly_star.visualize(axis=2)"
   ]
  },
  {
   "cell_type": "code",
   "execution_count": null,
   "id": "bf67a77c-c1f5-467f-b875-1241877aab77",
   "metadata": {},
   "outputs": [],
   "source": []
  }
 ],
 "metadata": {
  "kernelspec": {
   "display_name": "Python 3 (ipykernel)",
   "language": "python",
   "name": "python3"
  },
  "language_info": {
   "codemirror_mode": {
    "name": "ipython",
    "version": 3
   },
   "file_extension": ".py",
   "mimetype": "text/x-python",
   "name": "python",
   "nbconvert_exporter": "python",
   "pygments_lexer": "ipython3",
   "version": "3.9.7"
  }
 },
 "nbformat": 4,
 "nbformat_minor": 5
}
